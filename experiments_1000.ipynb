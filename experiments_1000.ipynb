{
 "cells": [
  {
   "cell_type": "code",
   "execution_count": 1,
   "metadata": {
    "collapsed": true
   },
   "outputs": [],
   "source": [
    "import pandas as pd\n",
    "from sklearn.model_selection import train_test_split\n",
    "from sklearn.tree import DecisionTreeClassifier \n",
    "from sklearn.model_selection import GridSearchCV\n",
    "import seaborn as sns\n",
    "import matplotlib.pyplot as plt\n",
    "%matplotlib inline\n",
    "from sklearn.metrics import classification_report, confusion_matrix, accuracy_score\n",
    "from sklearn.ensemble import RandomForestClassifier\n",
    "from sklearn.linear_model import LogisticRegression, LogisticRegressionCV\n",
    "import numpy as np\n",
    "from IPython.display import Image  \n",
    "from sklearn import tree\n",
    "import pydotplus\n",
    "import itertools"
   ]
  },
  {
   "cell_type": "code",
   "execution_count": 39,
   "metadata": {
    "collapsed": true
   },
   "outputs": [],
   "source": [
    "df1 = pd.read_csv('/Users/irene/Desktop/Курсовая/res_measures_simple1000_1.csv',\n",
    "                       sep=';', encoding='utf-8', names = 'h')"
   ]
  },
  {
   "cell_type": "code",
   "execution_count": 40,
   "metadata": {},
   "outputs": [],
   "source": [
    "df1[['name', 'grade1', 'grade2', 'num_tokens', 'num_acl', 'num_acl_relcl', 'num_advcl',\n",
    "'num_sents', 'num_cl', 'num_tu', 'num_ctu',\n",
    "'num_coord', 'poss', 'prep_ph', 'adj_n', 'ger_inf',\n",
    "'part_n', 'n_inf', 'num_vp',\n",
    "'min_depth', 'max_depth', 'num_np', 'nan']] = df1['h'].str.split('\\t',expand=True)"
   ]
  },
  {
   "cell_type": "code",
   "execution_count": 41,
   "metadata": {
    "collapsed": true
   },
   "outputs": [],
   "source": [
    "df2 = pd.read_csv('/Users/irene/Desktop/Курсовая/res_measures_simple1000_2.csv',\n",
    "                       sep=';', encoding='utf-8', names = 'h')"
   ]
  },
  {
   "cell_type": "code",
   "execution_count": 42,
   "metadata": {},
   "outputs": [],
   "source": [
    "df2[['name', 'grade1', 'grade2', 'num_tokens', 'num_acl', 'num_acl_relcl', 'num_advcl',\n",
    "'num_sents', 'num_cl', 'num_tu', 'num_ctu',\n",
    "'num_coord', 'poss', 'prep_ph', 'adj_n', 'ger_inf',\n",
    "'part_n', 'n_inf', 'num_vp',\n",
    "'min_depth', 'max_depth', 'num_np', 'nan']] = df2['h'].str.split('\\t',expand=True)"
   ]
  },
  {
   "cell_type": "code",
   "execution_count": 43,
   "metadata": {
    "collapsed": true
   },
   "outputs": [],
   "source": [
    "def best_non(row):\n",
    "    if row['grade2'] == 'best':\n",
    "        val = 'best'\n",
    "    else:\n",
    "        val = 'nonbest'\n",
    "    return val\n",
    "df1['mark_best_nonbest'] = df1.apply(best_non, axis=1)\n",
    "df2['mark_best_nonbest'] = df2.apply(best_non, axis=1)"
   ]
  },
  {
   "cell_type": "code",
   "execution_count": 44,
   "metadata": {
    "collapsed": true
   },
   "outputs": [],
   "source": [
    "df1 = df1.drop(['h','nan', 'grade1', 'name', 'grade2'], axis=1)\n",
    "df2 = df2.drop(['h','nan', 'grade1', 'name', 'grade2'], axis=1)"
   ]
  },
  {
   "cell_type": "code",
   "execution_count": 45,
   "metadata": {},
   "outputs": [
    {
     "data": {
      "text/plain": [
       "1056"
      ]
     },
     "execution_count": 45,
     "metadata": {},
     "output_type": "execute_result"
    }
   ],
   "source": [
    "df1.shape[0]"
   ]
  },
  {
   "cell_type": "code",
   "execution_count": 46,
   "metadata": {},
   "outputs": [],
   "source": [
    "one = [1] * df1.shape[0]\n",
    "two = [2] * df2.shape[0]"
   ]
  },
  {
   "cell_type": "code",
   "execution_count": 47,
   "metadata": {},
   "outputs": [
    {
     "data": {
      "text/plain": [
       "1056"
      ]
     },
     "execution_count": 47,
     "metadata": {},
     "output_type": "execute_result"
    }
   ],
   "source": [
    "len(one)"
   ]
  },
  {
   "cell_type": "code",
   "execution_count": 48,
   "metadata": {},
   "outputs": [],
   "source": [
    "df1 = df1.assign(type_ess=one)\n",
    "df2 = df2.assign(type_ess=two)"
   ]
  },
  {
   "cell_type": "code",
   "execution_count": 49,
   "metadata": {},
   "outputs": [
    {
     "data": {
      "text/html": [
       "<div>\n",
       "<style scoped>\n",
       "    .dataframe tbody tr th:only-of-type {\n",
       "        vertical-align: middle;\n",
       "    }\n",
       "\n",
       "    .dataframe tbody tr th {\n",
       "        vertical-align: top;\n",
       "    }\n",
       "\n",
       "    .dataframe thead th {\n",
       "        text-align: right;\n",
       "    }\n",
       "</style>\n",
       "<table border=\"1\" class=\"dataframe\">\n",
       "  <thead>\n",
       "    <tr style=\"text-align: right;\">\n",
       "      <th></th>\n",
       "      <th>num_tokens</th>\n",
       "      <th>num_acl</th>\n",
       "      <th>num_acl_relcl</th>\n",
       "      <th>num_advcl</th>\n",
       "      <th>num_sents</th>\n",
       "      <th>num_cl</th>\n",
       "      <th>num_tu</th>\n",
       "      <th>num_ctu</th>\n",
       "      <th>num_coord</th>\n",
       "      <th>poss</th>\n",
       "      <th>...</th>\n",
       "      <th>adj_n</th>\n",
       "      <th>ger_inf</th>\n",
       "      <th>part_n</th>\n",
       "      <th>n_inf</th>\n",
       "      <th>num_vp</th>\n",
       "      <th>min_depth</th>\n",
       "      <th>max_depth</th>\n",
       "      <th>num_np</th>\n",
       "      <th>mark_best_nonbest</th>\n",
       "      <th>type_ess</th>\n",
       "    </tr>\n",
       "  </thead>\n",
       "  <tbody>\n",
       "    <tr>\n",
       "      <th>0</th>\n",
       "      <td>186</td>\n",
       "      <td>2</td>\n",
       "      <td>3</td>\n",
       "      <td>2</td>\n",
       "      <td>7</td>\n",
       "      <td>13</td>\n",
       "      <td>13</td>\n",
       "      <td>0</td>\n",
       "      <td>1</td>\n",
       "      <td>13</td>\n",
       "      <td>...</td>\n",
       "      <td>6</td>\n",
       "      <td>12</td>\n",
       "      <td>2</td>\n",
       "      <td>0</td>\n",
       "      <td>12</td>\n",
       "      <td>4</td>\n",
       "      <td>6</td>\n",
       "      <td>67</td>\n",
       "      <td>nonbest</td>\n",
       "      <td>1</td>\n",
       "    </tr>\n",
       "    <tr>\n",
       "      <th>1</th>\n",
       "      <td>195</td>\n",
       "      <td>4</td>\n",
       "      <td>2</td>\n",
       "      <td>1</td>\n",
       "      <td>10</td>\n",
       "      <td>14</td>\n",
       "      <td>14</td>\n",
       "      <td>0</td>\n",
       "      <td>5</td>\n",
       "      <td>19</td>\n",
       "      <td>...</td>\n",
       "      <td>1</td>\n",
       "      <td>3</td>\n",
       "      <td>1</td>\n",
       "      <td>0</td>\n",
       "      <td>17</td>\n",
       "      <td>3</td>\n",
       "      <td>8</td>\n",
       "      <td>60</td>\n",
       "      <td>nonbest</td>\n",
       "      <td>1</td>\n",
       "    </tr>\n",
       "    <tr>\n",
       "      <th>2</th>\n",
       "      <td>271</td>\n",
       "      <td>5</td>\n",
       "      <td>1</td>\n",
       "      <td>3</td>\n",
       "      <td>11</td>\n",
       "      <td>23</td>\n",
       "      <td>23</td>\n",
       "      <td>0</td>\n",
       "      <td>8</td>\n",
       "      <td>21</td>\n",
       "      <td>...</td>\n",
       "      <td>3</td>\n",
       "      <td>6</td>\n",
       "      <td>3</td>\n",
       "      <td>1</td>\n",
       "      <td>19</td>\n",
       "      <td>2</td>\n",
       "      <td>8</td>\n",
       "      <td>66</td>\n",
       "      <td>best</td>\n",
       "      <td>1</td>\n",
       "    </tr>\n",
       "    <tr>\n",
       "      <th>3</th>\n",
       "      <td>218</td>\n",
       "      <td>3</td>\n",
       "      <td>0</td>\n",
       "      <td>1</td>\n",
       "      <td>10</td>\n",
       "      <td>14</td>\n",
       "      <td>14</td>\n",
       "      <td>0</td>\n",
       "      <td>4</td>\n",
       "      <td>27</td>\n",
       "      <td>...</td>\n",
       "      <td>3</td>\n",
       "      <td>2</td>\n",
       "      <td>0</td>\n",
       "      <td>0</td>\n",
       "      <td>12</td>\n",
       "      <td>3</td>\n",
       "      <td>11</td>\n",
       "      <td>78</td>\n",
       "      <td>nonbest</td>\n",
       "      <td>1</td>\n",
       "    </tr>\n",
       "    <tr>\n",
       "      <th>4</th>\n",
       "      <td>190</td>\n",
       "      <td>2</td>\n",
       "      <td>0</td>\n",
       "      <td>3</td>\n",
       "      <td>9</td>\n",
       "      <td>13</td>\n",
       "      <td>13</td>\n",
       "      <td>0</td>\n",
       "      <td>2</td>\n",
       "      <td>18</td>\n",
       "      <td>...</td>\n",
       "      <td>4</td>\n",
       "      <td>2</td>\n",
       "      <td>1</td>\n",
       "      <td>2</td>\n",
       "      <td>15</td>\n",
       "      <td>3</td>\n",
       "      <td>6</td>\n",
       "      <td>64</td>\n",
       "      <td>nonbest</td>\n",
       "      <td>1</td>\n",
       "    </tr>\n",
       "  </tbody>\n",
       "</table>\n",
       "<p>5 rows × 21 columns</p>\n",
       "</div>"
      ],
      "text/plain": [
       "  num_tokens num_acl num_acl_relcl num_advcl num_sents num_cl num_tu num_ctu  \\\n",
       "0        186       2             3         2         7     13     13       0   \n",
       "1        195       4             2         1        10     14     14       0   \n",
       "2        271       5             1         3        11     23     23       0   \n",
       "3        218       3             0         1        10     14     14       0   \n",
       "4        190       2             0         3         9     13     13       0   \n",
       "\n",
       "  num_coord poss   ...    adj_n ger_inf part_n n_inf num_vp min_depth  \\\n",
       "0         1   13   ...        6      12      2     0     12         4   \n",
       "1         5   19   ...        1       3      1     0     17         3   \n",
       "2         8   21   ...        3       6      3     1     19         2   \n",
       "3         4   27   ...        3       2      0     0     12         3   \n",
       "4         2   18   ...        4       2      1     2     15         3   \n",
       "\n",
       "  max_depth num_np mark_best_nonbest type_ess  \n",
       "0         6     67           nonbest        1  \n",
       "1         8     60           nonbest        1  \n",
       "2         8     66              best        1  \n",
       "3        11     78           nonbest        1  \n",
       "4         6     64           nonbest        1  \n",
       "\n",
       "[5 rows x 21 columns]"
      ]
     },
     "execution_count": 49,
     "metadata": {},
     "output_type": "execute_result"
    }
   ],
   "source": [
    "df1.head()"
   ]
  },
  {
   "cell_type": "code",
   "execution_count": 50,
   "metadata": {},
   "outputs": [
    {
     "data": {
      "text/html": [
       "<div>\n",
       "<style scoped>\n",
       "    .dataframe tbody tr th:only-of-type {\n",
       "        vertical-align: middle;\n",
       "    }\n",
       "\n",
       "    .dataframe tbody tr th {\n",
       "        vertical-align: top;\n",
       "    }\n",
       "\n",
       "    .dataframe thead th {\n",
       "        text-align: right;\n",
       "    }\n",
       "</style>\n",
       "<table border=\"1\" class=\"dataframe\">\n",
       "  <thead>\n",
       "    <tr style=\"text-align: right;\">\n",
       "      <th></th>\n",
       "      <th>num_tokens</th>\n",
       "      <th>num_acl</th>\n",
       "      <th>num_acl_relcl</th>\n",
       "      <th>num_advcl</th>\n",
       "      <th>num_sents</th>\n",
       "      <th>num_cl</th>\n",
       "      <th>num_tu</th>\n",
       "      <th>num_ctu</th>\n",
       "      <th>num_coord</th>\n",
       "      <th>poss</th>\n",
       "      <th>...</th>\n",
       "      <th>adj_n</th>\n",
       "      <th>ger_inf</th>\n",
       "      <th>part_n</th>\n",
       "      <th>n_inf</th>\n",
       "      <th>num_vp</th>\n",
       "      <th>min_depth</th>\n",
       "      <th>max_depth</th>\n",
       "      <th>num_np</th>\n",
       "      <th>mark_best_nonbest</th>\n",
       "      <th>type_ess</th>\n",
       "    </tr>\n",
       "  </thead>\n",
       "  <tbody>\n",
       "    <tr>\n",
       "      <th>0</th>\n",
       "      <td>292</td>\n",
       "      <td>7</td>\n",
       "      <td>2</td>\n",
       "      <td>7</td>\n",
       "      <td>11</td>\n",
       "      <td>32</td>\n",
       "      <td>29</td>\n",
       "      <td>3</td>\n",
       "      <td>10</td>\n",
       "      <td>23</td>\n",
       "      <td>...</td>\n",
       "      <td>2</td>\n",
       "      <td>15</td>\n",
       "      <td>1</td>\n",
       "      <td>2</td>\n",
       "      <td>28</td>\n",
       "      <td>3</td>\n",
       "      <td>6</td>\n",
       "      <td>68</td>\n",
       "      <td>nonbest</td>\n",
       "      <td>2</td>\n",
       "    </tr>\n",
       "    <tr>\n",
       "      <th>1</th>\n",
       "      <td>282</td>\n",
       "      <td>4</td>\n",
       "      <td>1</td>\n",
       "      <td>7</td>\n",
       "      <td>13</td>\n",
       "      <td>31</td>\n",
       "      <td>30</td>\n",
       "      <td>1</td>\n",
       "      <td>9</td>\n",
       "      <td>23</td>\n",
       "      <td>...</td>\n",
       "      <td>5</td>\n",
       "      <td>16</td>\n",
       "      <td>0</td>\n",
       "      <td>1</td>\n",
       "      <td>30</td>\n",
       "      <td>1</td>\n",
       "      <td>7</td>\n",
       "      <td>72</td>\n",
       "      <td>nonbest</td>\n",
       "      <td>2</td>\n",
       "    </tr>\n",
       "    <tr>\n",
       "      <th>2</th>\n",
       "      <td>274</td>\n",
       "      <td>8</td>\n",
       "      <td>3</td>\n",
       "      <td>5</td>\n",
       "      <td>12</td>\n",
       "      <td>27</td>\n",
       "      <td>27</td>\n",
       "      <td>0</td>\n",
       "      <td>11</td>\n",
       "      <td>23</td>\n",
       "      <td>...</td>\n",
       "      <td>7</td>\n",
       "      <td>13</td>\n",
       "      <td>1</td>\n",
       "      <td>2</td>\n",
       "      <td>28</td>\n",
       "      <td>2</td>\n",
       "      <td>10</td>\n",
       "      <td>75</td>\n",
       "      <td>nonbest</td>\n",
       "      <td>2</td>\n",
       "    </tr>\n",
       "    <tr>\n",
       "      <th>3</th>\n",
       "      <td>243</td>\n",
       "      <td>2</td>\n",
       "      <td>1</td>\n",
       "      <td>8</td>\n",
       "      <td>12</td>\n",
       "      <td>31</td>\n",
       "      <td>31</td>\n",
       "      <td>0</td>\n",
       "      <td>3</td>\n",
       "      <td>19</td>\n",
       "      <td>...</td>\n",
       "      <td>2</td>\n",
       "      <td>15</td>\n",
       "      <td>0</td>\n",
       "      <td>0</td>\n",
       "      <td>30</td>\n",
       "      <td>2</td>\n",
       "      <td>8</td>\n",
       "      <td>67</td>\n",
       "      <td>nonbest</td>\n",
       "      <td>2</td>\n",
       "    </tr>\n",
       "    <tr>\n",
       "      <th>4</th>\n",
       "      <td>361</td>\n",
       "      <td>7</td>\n",
       "      <td>3</td>\n",
       "      <td>7</td>\n",
       "      <td>18</td>\n",
       "      <td>35</td>\n",
       "      <td>35</td>\n",
       "      <td>0</td>\n",
       "      <td>9</td>\n",
       "      <td>35</td>\n",
       "      <td>...</td>\n",
       "      <td>6</td>\n",
       "      <td>19</td>\n",
       "      <td>0</td>\n",
       "      <td>2</td>\n",
       "      <td>46</td>\n",
       "      <td>3</td>\n",
       "      <td>8</td>\n",
       "      <td>102</td>\n",
       "      <td>nonbest</td>\n",
       "      <td>2</td>\n",
       "    </tr>\n",
       "  </tbody>\n",
       "</table>\n",
       "<p>5 rows × 21 columns</p>\n",
       "</div>"
      ],
      "text/plain": [
       "  num_tokens num_acl num_acl_relcl num_advcl num_sents num_cl num_tu num_ctu  \\\n",
       "0        292       7             2         7        11     32     29       3   \n",
       "1        282       4             1         7        13     31     30       1   \n",
       "2        274       8             3         5        12     27     27       0   \n",
       "3        243       2             1         8        12     31     31       0   \n",
       "4        361       7             3         7        18     35     35       0   \n",
       "\n",
       "  num_coord poss   ...    adj_n ger_inf part_n n_inf num_vp min_depth  \\\n",
       "0        10   23   ...        2      15      1     2     28         3   \n",
       "1         9   23   ...        5      16      0     1     30         1   \n",
       "2        11   23   ...        7      13      1     2     28         2   \n",
       "3         3   19   ...        2      15      0     0     30         2   \n",
       "4         9   35   ...        6      19      0     2     46         3   \n",
       "\n",
       "  max_depth num_np mark_best_nonbest type_ess  \n",
       "0         6     68           nonbest        2  \n",
       "1         7     72           nonbest        2  \n",
       "2        10     75           nonbest        2  \n",
       "3         8     67           nonbest        2  \n",
       "4         8    102           nonbest        2  \n",
       "\n",
       "[5 rows x 21 columns]"
      ]
     },
     "execution_count": 50,
     "metadata": {},
     "output_type": "execute_result"
    }
   ],
   "source": [
    "df2.head()"
   ]
  },
  {
   "cell_type": "code",
   "execution_count": 52,
   "metadata": {},
   "outputs": [],
   "source": [
    "res = df1.append(df2, ignore_index=True)"
   ]
  },
  {
   "cell_type": "code",
   "execution_count": 57,
   "metadata": {},
   "outputs": [],
   "source": [
    "y = res.values[:, res.shape[1]-2]"
   ]
  },
  {
   "cell_type": "code",
   "execution_count": 58,
   "metadata": {},
   "outputs": [
    {
     "data": {
      "text/plain": [
       "array(['nonbest', 'nonbest', 'best', ..., 'nonbest', 'nonbest', 'nonbest'],\n",
       "      dtype=object)"
      ]
     },
     "execution_count": 58,
     "metadata": {},
     "output_type": "execute_result"
    }
   ],
   "source": [
    "y"
   ]
  },
  {
   "cell_type": "code",
   "execution_count": 59,
   "metadata": {
    "collapsed": true
   },
   "outputs": [],
   "source": [
    "X_df_best_non = res.drop(['mark_best_nonbest'], axis=1)\n",
    "X_df_best_non[X_df_best_non.columns] = X_df_best_non[X_df_best_non.columns].astype(float)\n",
    "X = X_df_best_non.values[:, 0:X_df_best_non.shape[1]]"
   ]
  },
  {
   "cell_type": "code",
   "execution_count": 60,
   "metadata": {
    "collapsed": true
   },
   "outputs": [],
   "source": [
    "from sklearn.model_selection import StratifiedKFold"
   ]
  },
  {
   "cell_type": "code",
   "execution_count": 61,
   "metadata": {},
   "outputs": [
    {
     "name": "stdout",
     "output_type": "stream",
     "text": [
      "TRAIN ( 1694 essays ) TEST ( 424 essays )\n",
      "TRAIN ( 1694 essays ) TEST ( 424 essays )\n",
      "TRAIN ( 1694 essays ) TEST ( 424 essays )\n",
      "TRAIN ( 1694 essays ) TEST ( 424 essays )\n",
      "TRAIN ( 1696 essays ) TEST ( 422 essays )\n"
     ]
    }
   ],
   "source": [
    "skf = StratifiedKFold(n_splits=5, shuffle=False, random_state=0)\n",
    "skf.get_n_splits(X, y)\n",
    "for train_index, test_index in skf.split(X, y):\n",
    "    print(\"TRAIN (\", len(train_index), 'essays )', \"TEST (\", len(test_index), 'essays )')\n",
    "    X_train, X_test = X[train_index], X[test_index]\n",
    "    y_train, y_test = y[train_index], y[test_index]"
   ]
  },
  {
   "cell_type": "code",
   "execution_count": 62,
   "metadata": {},
   "outputs": [
    {
     "data": {
      "text/plain": [
       "GridSearchCV(cv=None, error_score='raise',\n",
       "       estimator=DecisionTreeClassifier(class_weight='balanced', criterion='gini',\n",
       "            max_depth=None, max_features=None, max_leaf_nodes=None,\n",
       "            min_impurity_decrease=0.0, min_impurity_split=None,\n",
       "            min_samples_leaf=1, min_samples_split=2,\n",
       "            min_weight_fraction_leaf=0.0, presort=False, random_state=42,\n",
       "            splitter='best'),\n",
       "       fit_params=None, iid=True, n_jobs=1,\n",
       "       param_grid={'max_depth': range(1, 101), 'max_features': range(1, 20)},\n",
       "       pre_dispatch='2*n_jobs', refit=True, return_train_score='warn',\n",
       "       scoring='accuracy', verbose=0)"
      ]
     },
     "execution_count": 62,
     "metadata": {},
     "output_type": "execute_result"
    }
   ],
   "source": [
    "parameters = {\n",
    "    'max_depth': range(1, 101),\n",
    "    'max_features': range(1, X_df_best_non.shape[1]),\n",
    "}\n",
    "clf1 = DecisionTreeClassifier(random_state=42, class_weight='balanced') \n",
    "clf1 = GridSearchCV(clf1, parameters, scoring='accuracy')\n",
    "clf1.fit(X_train, y_train)"
   ]
  },
  {
   "cell_type": "code",
   "execution_count": 63,
   "metadata": {},
   "outputs": [
    {
     "name": "stdout",
     "output_type": "stream",
     "text": [
      "             precision    recall  f1-score   support\n",
      "\n",
      "       best       0.12      0.18      0.14        33\n",
      "    nonbest       0.93      0.89      0.91       389\n",
      "\n",
      "avg / total       0.86      0.83      0.85       422\n",
      "\n"
     ]
    }
   ],
   "source": [
    "y_pred = clf1.predict(X_test)\n",
    "print(classification_report(y_test, y_pred)) "
   ]
  },
  {
   "cell_type": "code",
   "execution_count": 65,
   "metadata": {
    "collapsed": true
   },
   "outputs": [],
   "source": [
    "def plot_confusion_matrix(cm, classes,\n",
    "                          normalize=False,\n",
    "                          title='Confusion matrix',\n",
    "                          cmap=plt.cm.coolwarm):\n",
    "    \"\"\"\n",
    "    This function prints and plots the confusion matrix.\n",
    "    Normalization can be applied by setting `normalize=True`.\n",
    "    \"\"\"\n",
    "    if normalize:\n",
    "        cm = cm.astype('float') / cm.sum(axis=1)[:, np.newaxis]\n",
    "\n",
    "\n",
    "    plt.imshow(cm, interpolation='nearest', cmap=cmap)\n",
    "    plt.title(title)\n",
    "    plt.colorbar()\n",
    "    tick_marks = np.arange(len(classes))\n",
    "    plt.xticks(tick_marks, classes, rotation=45)\n",
    "    plt.yticks(tick_marks, classes)\n",
    "\n",
    "    fmt = '.2f' if normalize else 'd'\n",
    "    thresh = cm.max() / 2.\n",
    "    for i, j in itertools.product(range(cm.shape[0]), range(cm.shape[1])):\n",
    "        plt.text(j, i, format(cm[i, j], fmt),\n",
    "                 horizontalalignment=\"center\",\n",
    "                 color=\"white\" if cm[i, j] > thresh else \"black\")\n",
    "\n",
    "    plt.tight_layout()\n",
    "    plt.ylabel('True label')\n",
    "    plt.xlabel('Predicted label')"
   ]
  },
  {
   "cell_type": "code",
   "execution_count": 66,
   "metadata": {},
   "outputs": [
    {
     "data": {
      "image/png": "[encoded data removed]",
      "text/plain": [
       "<matplotlib.figure.Figure at 0x1160c6198>"
      ]
     },
     "metadata": {},
     "output_type": "display_data"
    },
    {
     "data": {
      "image/png": "[encoded data removed]",
      "text/plain": [
       "<matplotlib.figure.Figure at 0x1160deac8>"
      ]
     },
     "metadata": {},
     "output_type": "display_data"
    }
   ],
   "source": [
    "# Compute confusion matrix\n",
    "cnf_matrix = confusion_matrix(y_test, y_pred)\n",
    "np.set_printoptions(precision=2)\n",
    "\n",
    "# Plot non-normalized confusion matrix\n",
    "plt.figure()\n",
    "plot_confusion_matrix(cnf_matrix, classes=clf1.classes_,\n",
    "                      title='Confusion matrix, without normalization')\n",
    "\n",
    "# Plot normalized confusion matrix\n",
    "plt.figure()\n",
    "plot_confusion_matrix(cnf_matrix, classes=clf1.classes_, normalize=True,\n",
    "                      title='Normalized confusion matrix')\n",
    "\n",
    "plt.show()"
   ]
  },
  {
   "cell_type": "code",
   "execution_count": 67,
   "metadata": {},
   "outputs": [
    {
     "name": "stdout",
     "output_type": "stream",
     "text": [
      "Accuracy:  0.83\n"
     ]
    }
   ],
   "source": [
    "print('Accuracy: ', round(accuracy_score(y_test, y_pred), 2))"
   ]
  },
  {
   "cell_type": "code",
   "execution_count": 68,
   "metadata": {
    "collapsed": true
   },
   "outputs": [],
   "source": [
    "import collections"
   ]
  },
  {
   "cell_type": "code",
   "execution_count": 69,
   "metadata": {
    "collapsed": true
   },
   "outputs": [],
   "source": [
    "def imp(clf_grid, feature_names):\n",
    "    importances = clf_grid.best_estimator_.feature_importances_\n",
    "    #print(clf_grid.best_estimator_)\n",
    "    if isinstance(clf_grid.best_estimator_, collections.Iterable):\n",
    "        std = np.std([clf_grid.best_estimator_.feature_importances_ for tree in clf_grid.best_estimator_],\n",
    "             axis=0)\n",
    "    else:\n",
    "        std = clf1.best_estimator_.feature_importances_\n",
    "    #print(std)\n",
    "    indices = np.argsort(importances)[::-1]\n",
    "    d = {'importance': importances, 'name_feature': feature_names}\n",
    "    \n",
    "    # Print the feature ranking\n",
    "    df_importance = pd.DataFrame(data=d)\n",
    "    df_importance = df_importance.sort_values(by=['importance'], ascending=False)\n",
    "    print(\"Feature ranking:\")\n",
    "\n",
    "    print(df_importance)\n",
    "\n",
    "    # Plot the feature importances of the forest\n",
    "    plt.figure(figsize=(10,5))\n",
    "    plt.title(\"Feature importances\")\n",
    "    plt.bar(range(X.shape[1]), importances[indices],\n",
    "       color=\"g\")\n",
    "    plt.xticks(range(X.shape[1]), df_importance['name_feature'], rotation='vertical')\n",
    "    plt.xlim([-1, X.shape[1]])\n",
    "    plt.show()"
   ]
  },
  {
   "cell_type": "code",
   "execution_count": 70,
   "metadata": {},
   "outputs": [
    {
     "name": "stdout",
     "output_type": "stream",
     "text": [
      "Feature ranking:\n",
      "    importance   name_feature\n",
      "0     0.213114     num_tokens\n",
      "12    0.113913        ger_inf\n",
      "3     0.072241      num_advcl\n",
      "11    0.061828          adj_n\n",
      "14    0.059024          n_inf\n",
      "9     0.055448           poss\n",
      "4     0.053656      num_sents\n",
      "15    0.050320         num_vp\n",
      "1     0.046752        num_acl\n",
      "18    0.044826         num_np\n",
      "10    0.043147        prep_ph\n",
      "17    0.043049      max_depth\n",
      "2     0.026284  num_acl_relcl\n",
      "5     0.022505         num_cl\n",
      "13    0.022310         part_n\n",
      "7     0.019651        num_ctu\n",
      "16    0.018534      min_depth\n",
      "8     0.018196      num_coord\n",
      "6     0.015201         num_tu\n",
      "19    0.000000       type_ess\n"
     ]
    },
    {
     "data": {
      "image/png": "[encoded data removed]",
      "text/plain": [
       "<matplotlib.figure.Figure at 0x115e2a0f0>"
      ]
     },
     "metadata": {},
     "output_type": "display_data"
    }
   ],
   "source": [
    "imp(clf1, X_df_best_non.columns)"
   ]
  },
  {
   "cell_type": "code",
   "execution_count": 71,
   "metadata": {},
   "outputs": [
    {
     "data": {
      "text/plain": [
       "(2118, 21)"
      ]
     },
     "execution_count": 71,
     "metadata": {},
     "output_type": "execute_result"
    }
   ],
   "source": [
    "res.shape"
   ]
  },
  {
   "cell_type": "code",
   "execution_count": 122,
   "metadata": {
    "collapsed": true
   },
   "outputs": [],
   "source": [
    "res = res.drop(['type_ess'], axis=1)"
   ]
  },
  {
   "cell_type": "code",
   "execution_count": 123,
   "metadata": {
    "collapsed": true
   },
   "outputs": [],
   "source": [
    "best = res[res['mark_best_nonbest'] == 'best']\n",
    "nonbest = res[res['mark_best_nonbest'] == 'nonbest']"
   ]
  },
  {
   "cell_type": "code",
   "execution_count": 124,
   "metadata": {},
   "outputs": [
    {
     "data": {
      "text/plain": [
       "(169, 20)"
      ]
     },
     "execution_count": 124,
     "metadata": {},
     "output_type": "execute_result"
    }
   ],
   "source": [
    "best.shape"
   ]
  },
  {
   "cell_type": "code",
   "execution_count": 125,
   "metadata": {},
   "outputs": [
    {
     "data": {
      "text/plain": [
       "(1949, 20)"
      ]
     },
     "execution_count": 125,
     "metadata": {},
     "output_type": "execute_result"
    }
   ],
   "source": [
    "nonbest.shape"
   ]
  },
  {
   "cell_type": "code",
   "execution_count": 215,
   "metadata": {
    "collapsed": true
   },
   "outputs": [],
   "source": [
    "def count_accuracy(df):\n",
    "    y = df.values[:, df.shape[1]-1]\n",
    "    X_df_best_non = df.drop(['mark_best_nonbest'], axis=1)\n",
    "    X_df_best_non[X_df_best_non.columns] = X_df_best_non[X_df_best_non.columns].astype(float)\n",
    "    X = X_df_best_non.values[:, 0:X_df_best_non.shape[1]]\n",
    "    skf = StratifiedKFold(n_splits=5, shuffle=False, random_state=0)\n",
    "    #skf.get_n_splits(X, y)\n",
    "    for train_index, test_index in skf.split(X, y):\n",
    "        #print(\"TRAIN (\", len(train_index), 'essays )', \"TEST (\", len(test_index), 'essays )')\n",
    "        X_train, X_test = X[train_index], X[test_index]\n",
    "        y_train, y_test = y[train_index], y[test_index]\n",
    "    parameters = {'max_depth': range(1, 101),'max_features': range(1, X_df_best_non.shape[1])}\n",
    "    clf1 = DecisionTreeClassifier(random_state=42, class_weight='balanced') \n",
    "    clf1 = GridSearchCV(clf1, parameters, scoring='accuracy')\n",
    "    clf1.fit(X_train, y_train)\n",
    "    y_pred = clf1.predict(X_test)\n",
    "    return round(accuracy_score(y_test, y_pred), 2)"
   ]
  },
  {
   "cell_type": "code",
   "execution_count": 220,
   "metadata": {
    "collapsed": true
   },
   "outputs": [],
   "source": [
    "def count_accuracy2(df):\n",
    "    y = df.values[:, df.shape[1]-1]\n",
    "    X_df_best_non = df.drop(['mark_best_nonbest'], axis=1)\n",
    "    X_df_best_non[X_df_best_non.columns] = X_df_best_non[X_df_best_non.columns].astype(float)\n",
    "    X = X_df_best_non.values[:, 0:X_df_best_non.shape[1]]\n",
    "    skf = StratifiedKFold(n_splits=5, shuffle=False, random_state=0)\n",
    "    #skf.get_n_splits(X, y)\n",
    "    for train_index, test_index in skf.split(X, y):\n",
    "        #print(\"TRAIN (\", len(train_index), 'essays )', \"TEST (\", len(test_index), 'essays )')\n",
    "        X_train, X_test = X[train_index], X[test_index]\n",
    "        y_train, y_test = y[train_index], y[test_index]\n",
    "    parameters = {'max_depth': range(1, 101),'max_features': range(1, X_df_best_non.shape[1])}\n",
    "    clf1 = RandomForestClassifier()\n",
    "    clf1.fit(X_train, y_train)\n",
    "    y_pred = clf1.predict(X_test)\n",
    "    return round(accuracy_score(y_test, y_pred), 2)"
   ]
  },
  {
   "cell_type": "code",
   "execution_count": 217,
   "metadata": {},
   "outputs": [
    {
     "name": "stdout",
     "output_type": "stream",
     "text": [
      "169\n",
      "1949\n"
     ]
    }
   ],
   "source": [
    "best_num = [16]*9\n",
    "best_num.append(25)\n",
    "print(sum(best_num))\n",
    "nonbest_num = [195]*9\n",
    "nonbest_num.append(194)\n",
    "print(sum(nonbest_num))"
   ]
  },
  {
   "cell_type": "code",
   "execution_count": 207,
   "metadata": {},
   "outputs": [
    {
     "name": "stdout",
     "output_type": "stream",
     "text": [
      "(211, 20)\n",
      "(422, 20)\n",
      "(633, 20)\n",
      "(844, 20)\n",
      "(1055, 20)\n",
      "(1266, 20)\n",
      "(1477, 20)\n",
      "(1688, 20)\n",
      "(1899, 20)\n",
      "(2118, 20)\n"
     ]
    }
   ],
   "source": [
    "summ_f = 0\n",
    "summ_s = 0\n",
    "accuracies = []\n",
    "for x in range(10):\n",
    "    summ_f = summ_f + nonbest_num[x]\n",
    "    summ_s = summ_s + best_num[x]\n",
    "    f = nonbest.iloc[0:summ_f]\n",
    "    s = best.iloc[0:summ_s]\n",
    "    r = f.append(s, ignore_index=True)\n",
    "    print(r.shape)\n",
    "    acc = count_accuracy(r)\n",
    "    accuracies.append(acc)"
   ]
  },
  {
   "cell_type": "code",
   "execution_count": 209,
   "metadata": {},
   "outputs": [
    {
     "data": {
      "image/png": "[encoded data removed]",
      "text/plain": [
       "<matplotlib.figure.Figure at 0x116366d30>"
      ]
     },
     "metadata": {},
     "output_type": "display_data"
    }
   ],
   "source": [
    "plt.plot([1,2,3,4,5,6,7,8,9,10], accuracies, '-go')\n",
    "plt.title(\"Значения точности при увеличении выборки\")\n",
    "plt.ylabel('Точность')\n",
    "plt.xlabel('Размер выборки (1:200)')\n",
    "plt.show()"
   ]
  },
  {
   "cell_type": "code",
   "execution_count": 221,
   "metadata": {},
   "outputs": [
    {
     "name": "stdout",
     "output_type": "stream",
     "text": [
      "(211, 20)\n",
      "(422, 20)\n",
      "(633, 20)\n",
      "(844, 20)\n",
      "(1055, 20)\n",
      "(1266, 20)\n",
      "(1477, 20)\n",
      "(1688, 20)\n",
      "(1899, 20)\n",
      "(2118, 20)\n"
     ]
    }
   ],
   "source": [
    "summ_f = 0\n",
    "summ_s = 0\n",
    "accuracies = []\n",
    "for x in range(10):\n",
    "    summ_f = summ_f + nonbest_num[x]\n",
    "    summ_s = summ_s + best_num[x]\n",
    "    f = nonbest.iloc[0:summ_f]\n",
    "    s = best.iloc[0:summ_s]\n",
    "    r = f.append(s, ignore_index=True)\n",
    "    print(r.shape)\n",
    "    acc = count_accuracy2(r)\n",
    "    accuracies.append(acc)"
   ]
  },
  {
   "cell_type": "code",
   "execution_count": 222,
   "metadata": {},
   "outputs": [
    {
     "data": {
      "image/png": "[encoded data removed]",
      "text/plain": [
       "<matplotlib.figure.Figure at 0x115fa8630>"
      ]
     },
     "metadata": {},
     "output_type": "display_data"
    }
   ],
   "source": [
    "plt.plot([1,2,3,4,5,6,7,8,9,10], accuracies, '-go')\n",
    "plt.title(\"Значения точности при увеличении выборки\")\n",
    "plt.ylabel('Точность')\n",
    "plt.xlabel('Размер выборки (1:200)')\n",
    "plt.show()"
   ]
  },
  {
   "cell_type": "code",
   "execution_count": 223,
   "metadata": {},
   "outputs": [
    {
     "name": "stdout",
     "output_type": "stream",
     "text": [
      "169\n",
      "1949\n"
     ]
    }
   ],
   "source": [
    "best_num = [8]*20\n",
    "best_num.append(9)\n",
    "print(sum(best_num))\n",
    "nonbest_num = [93]*20\n",
    "nonbest_num.append(89)\n",
    "print(sum(nonbest_num))"
   ]
  },
  {
   "cell_type": "code",
   "execution_count": 178,
   "metadata": {},
   "outputs": [
    {
     "name": "stdout",
     "output_type": "stream",
     "text": [
      "101\n",
      "202\n",
      "303\n",
      "404\n",
      "505\n",
      "606\n",
      "707\n",
      "808\n",
      "909\n",
      "1010\n",
      "1111\n",
      "1212\n",
      "1313\n",
      "1414\n",
      "1515\n",
      "1616\n",
      "1717\n",
      "1818\n",
      "1919\n",
      "2020\n",
      "2118\n"
     ]
    }
   ],
   "source": [
    "summ_f = 0\n",
    "summ_s = 0\n",
    "accuracies = []\n",
    "for x in range(22):\n",
    "    summ_f = summ_f + nonbest_num[x]\n",
    "    summ_s = summ_s + best_num[x]\n",
    "    f = nonbest.iloc[0:summ_f]\n",
    "    s = best.iloc[0:summ_s]\n",
    "    r = f.append(s, ignore_index=True)\n",
    "    print(r.shape)\n",
    "    acc = count_accuracy(r)\n",
    "    accuracies.append(acc)"
   ]
  },
  {
   "cell_type": "code",
   "execution_count": 181,
   "metadata": {},
   "outputs": [
    {
     "data": {
      "image/png": "[encoded data removed]",
      "text/plain": [
       "<matplotlib.figure.Figure at 0x1160ebc50>"
      ]
     },
     "metadata": {},
     "output_type": "display_data"
    }
   ],
   "source": [
    "plt.plot([1,2,3,4,5,6,7,8,9,10,11,12,13,14,15,16,17,18,19,20,21], accuracies, '-go')\n",
    "plt.title(\"Значения точности при увеличении выборки\")\n",
    "plt.ylabel('Точность')\n",
    "plt.xlabel('Размер выборки (1:100)')\n",
    "plt.show()"
   ]
  },
  {
   "cell_type": "code",
   "execution_count": 225,
   "metadata": {},
   "outputs": [
    {
     "name": "stdout",
     "output_type": "stream",
     "text": [
      "(101, 20)\n",
      "(202, 20)\n",
      "(303, 20)\n",
      "(404, 20)\n",
      "(505, 20)\n",
      "(606, 20)\n",
      "(707, 20)\n",
      "(808, 20)\n",
      "(909, 20)\n",
      "(1010, 20)\n",
      "(1111, 20)\n",
      "(1212, 20)\n",
      "(1313, 20)\n",
      "(1414, 20)\n",
      "(1515, 20)\n",
      "(1616, 20)\n",
      "(1717, 20)\n",
      "(1818, 20)\n",
      "(1919, 20)\n",
      "(2020, 20)\n",
      "(2118, 20)\n"
     ]
    }
   ],
   "source": [
    "summ_f = 0\n",
    "summ_s = 0\n",
    "accuracies = []\n",
    "for x in range(21):\n",
    "    summ_f = summ_f + nonbest_num[x]\n",
    "    summ_s = summ_s + best_num[x]\n",
    "    f = nonbest.iloc[0:summ_f]\n",
    "    s = best.iloc[0:summ_s]\n",
    "    r = f.append(s, ignore_index=True)\n",
    "    print(r.shape)\n",
    "    acc = count_accuracy2(r)\n",
    "    accuracies.append(acc)"
   ]
  },
  {
   "cell_type": "code",
   "execution_count": 226,
   "metadata": {},
   "outputs": [
    {
     "data": {
      "image/png": "[encoded data removed]",
      "text/plain": [
       "<matplotlib.figure.Figure at 0x10eefaf60>"
      ]
     },
     "metadata": {},
     "output_type": "display_data"
    }
   ],
   "source": [
    "plt.plot([1,2,3,4,5,6,7,8,9,10,11,12,13,14,15,16,17,18,19,20,21], accuracies, '-go')\n",
    "plt.title(\"Значения точности при увеличении выборки\")\n",
    "plt.ylabel('Точность')\n",
    "plt.xlabel('Размер выборки (1:100)')\n",
    "plt.show()"
   ]
  },
  {
   "cell_type": "markdown",
   "metadata": {},
   "source": [
    "# Отдельно по 1 эссе"
   ]
  },
  {
   "cell_type": "code",
   "execution_count": 228,
   "metadata": {},
   "outputs": [],
   "source": [
    "df1 = df1.drop(['type_ess'], axis=1)\n",
    "df2 = df2.drop(['type_ess'], axis=1)"
   ]
  },
  {
   "cell_type": "code",
   "execution_count": 229,
   "metadata": {
    "collapsed": true
   },
   "outputs": [],
   "source": [
    "best = df1[df1['mark_best_nonbest'] == 'best']\n",
    "nonbest = df1[df1['mark_best_nonbest'] == 'nonbest']"
   ]
  },
  {
   "cell_type": "code",
   "execution_count": 230,
   "metadata": {},
   "outputs": [
    {
     "data": {
      "text/plain": [
       "(76, 20)"
      ]
     },
     "execution_count": 230,
     "metadata": {},
     "output_type": "execute_result"
    }
   ],
   "source": [
    "best.shape"
   ]
  },
  {
   "cell_type": "code",
   "execution_count": 231,
   "metadata": {},
   "outputs": [
    {
     "data": {
      "text/plain": [
       "(980, 20)"
      ]
     },
     "execution_count": 231,
     "metadata": {},
     "output_type": "execute_result"
    }
   ],
   "source": [
    "nonbest.shape"
   ]
  },
  {
   "cell_type": "code",
   "execution_count": 240,
   "metadata": {},
   "outputs": [
    {
     "name": "stdout",
     "output_type": "stream",
     "text": [
      "76\n",
      "980\n"
     ]
    }
   ],
   "source": [
    "best_num = [5]*14\n",
    "best_num.append(6)\n",
    "print(sum(best_num))\n",
    "nonbest_num = [65]*14\n",
    "nonbest_num.append(70)\n",
    "print(sum(nonbest_num))"
   ]
  },
  {
   "cell_type": "code",
   "execution_count": 244,
   "metadata": {},
   "outputs": [
    {
     "name": "stdout",
     "output_type": "stream",
     "text": [
      "(70, 20)\n",
      "(140, 20)\n",
      "(210, 20)\n",
      "(280, 20)\n",
      "(350, 20)\n",
      "(420, 20)\n",
      "(490, 20)\n",
      "(560, 20)\n",
      "(630, 20)\n",
      "(700, 20)\n",
      "(770, 20)\n",
      "(840, 20)\n",
      "(910, 20)\n",
      "(980, 20)\n",
      "(1056, 20)\n"
     ]
    }
   ],
   "source": [
    "summ_f = 0\n",
    "summ_s = 0\n",
    "accuracies = []\n",
    "for x in range(15):\n",
    "    summ_f = summ_f + nonbest_num[x]\n",
    "    summ_s = summ_s + best_num[x]\n",
    "    f = nonbest.iloc[0:summ_f]\n",
    "    s = best.iloc[0:summ_s]\n",
    "    r = f.append(s, ignore_index=True)\n",
    "    print(r.shape)\n",
    "    acc = count_accuracy(r)\n",
    "    accuracies.append(acc)"
   ]
  },
  {
   "cell_type": "code",
   "execution_count": 246,
   "metadata": {},
   "outputs": [
    {
     "data": {
      "image/png": "[encoded data removed]",
      "text/plain": [
       "<matplotlib.figure.Figure at 0x116132860>"
      ]
     },
     "metadata": {},
     "output_type": "display_data"
    }
   ],
   "source": [
    "plt.plot([1,2,3,4,5,6,7,8,9,10,11,12,13,14,15], accuracies, '-go')\n",
    "plt.title(\"Значения точности при увеличении выборки\")\n",
    "plt.ylabel('Точность')\n",
    "plt.xlabel('Размер выборки (1:100)')\n",
    "plt.show()"
   ]
  },
  {
   "cell_type": "code",
   "execution_count": 247,
   "metadata": {},
   "outputs": [
    {
     "name": "stdout",
     "output_type": "stream",
     "text": [
      "(70, 20)\n",
      "(140, 20)\n",
      "(210, 20)\n",
      "(280, 20)\n",
      "(350, 20)\n",
      "(420, 20)\n",
      "(490, 20)\n",
      "(560, 20)\n",
      "(630, 20)\n",
      "(700, 20)\n",
      "(770, 20)\n",
      "(840, 20)\n",
      "(910, 20)\n",
      "(980, 20)\n",
      "(1056, 20)\n"
     ]
    }
   ],
   "source": [
    "summ_f = 0\n",
    "summ_s = 0\n",
    "accuracies = []\n",
    "for x in range(15):\n",
    "    summ_f = summ_f + nonbest_num[x]\n",
    "    summ_s = summ_s + best_num[x]\n",
    "    f = nonbest.iloc[0:summ_f]\n",
    "    s = best.iloc[0:summ_s]\n",
    "    r = f.append(s, ignore_index=True)\n",
    "    print(r.shape)\n",
    "    acc = count_accuracy2(r)\n",
    "    accuracies.append(acc)"
   ]
  },
  {
   "cell_type": "code",
   "execution_count": 248,
   "metadata": {},
   "outputs": [
    {
     "data": {
      "image/png": "[encoded data removed]",
      "text/plain": [
       "<matplotlib.figure.Figure at 0x115df0cc0>"
      ]
     },
     "metadata": {},
     "output_type": "display_data"
    }
   ],
   "source": [
    "plt.plot([1,2,3,4,5,6,7,8,9,10,11,12,13,14,15], accuracies, '-go')\n",
    "plt.title(\"Значения точности при увеличении выборки\")\n",
    "plt.ylabel('Точность')\n",
    "plt.xlabel('Размер выборки (1:100)')\n",
    "plt.show()"
   ]
  },
  {
   "cell_type": "markdown",
   "metadata": {},
   "source": [
    "# Отдельно по 2 эссе"
   ]
  },
  {
   "cell_type": "code",
   "execution_count": 249,
   "metadata": {
    "collapsed": true
   },
   "outputs": [],
   "source": [
    "best = df2[df2['mark_best_nonbest'] == 'best']\n",
    "nonbest = df2[df2['mark_best_nonbest'] == 'nonbest']"
   ]
  },
  {
   "cell_type": "code",
   "execution_count": 250,
   "metadata": {},
   "outputs": [
    {
     "data": {
      "text/plain": [
       "(93, 20)"
      ]
     },
     "execution_count": 250,
     "metadata": {},
     "output_type": "execute_result"
    }
   ],
   "source": [
    "best.shape"
   ]
  },
  {
   "cell_type": "code",
   "execution_count": 251,
   "metadata": {},
   "outputs": [
    {
     "data": {
      "text/plain": [
       "(969, 20)"
      ]
     },
     "execution_count": 251,
     "metadata": {},
     "output_type": "execute_result"
    }
   ],
   "source": [
    "nonbest.shape"
   ]
  },
  {
   "cell_type": "code",
   "execution_count": 262,
   "metadata": {},
   "outputs": [
    {
     "name": "stdout",
     "output_type": "stream",
     "text": [
      "93\n",
      "969\n"
     ]
    }
   ],
   "source": [
    "best_num = [5]*17\n",
    "best_num.append(8)\n",
    "print(sum(best_num))\n",
    "nonbest_num = [54]*17\n",
    "nonbest_num.append(51)\n",
    "print(sum(nonbest_num))"
   ]
  },
  {
   "cell_type": "code",
   "execution_count": 264,
   "metadata": {},
   "outputs": [
    {
     "name": "stdout",
     "output_type": "stream",
     "text": [
      "(59, 20)\n",
      "(118, 20)\n",
      "(177, 20)\n",
      "(236, 20)\n",
      "(295, 20)\n",
      "(354, 20)\n",
      "(413, 20)\n",
      "(472, 20)\n",
      "(531, 20)\n",
      "(590, 20)\n",
      "(649, 20)\n",
      "(708, 20)\n",
      "(767, 20)\n",
      "(826, 20)\n",
      "(885, 20)\n",
      "(944, 20)\n",
      "(1003, 20)\n",
      "(1062, 20)\n"
     ]
    }
   ],
   "source": [
    "summ_f = 0\n",
    "summ_s = 0\n",
    "accuracies = []\n",
    "for x in range(18):\n",
    "    summ_f = summ_f + nonbest_num[x]\n",
    "    summ_s = summ_s + best_num[x]\n",
    "    f = nonbest.iloc[0:summ_f]\n",
    "    s = best.iloc[0:summ_s]\n",
    "    r = f.append(s, ignore_index=True)\n",
    "    print(r.shape)\n",
    "    acc = count_accuracy(r)\n",
    "    accuracies.append(acc)"
   ]
  },
  {
   "cell_type": "code",
   "execution_count": 265,
   "metadata": {},
   "outputs": [
    {
     "data": {
      "image/png": "[encoded data removed]",
      "text/plain": [
       "<matplotlib.figure.Figure at 0x10eee7a20>"
      ]
     },
     "metadata": {},
     "output_type": "display_data"
    }
   ],
   "source": [
    "plt.plot([1,2,3,4,5,6,7,8,9,10,11,12,13,14,15,16,17,18], accuracies, '-go')\n",
    "plt.title(\"Значения точности при увеличении выборки\")\n",
    "plt.ylabel('Точность')\n",
    "plt.xlabel('Размер выборки (1:100)')\n",
    "plt.show()"
   ]
  },
  {
   "cell_type": "code",
   "execution_count": 266,
   "metadata": {},
   "outputs": [
    {
     "name": "stdout",
     "output_type": "stream",
     "text": [
      "(59, 20)\n",
      "(118, 20)\n",
      "(177, 20)\n",
      "(236, 20)\n",
      "(295, 20)\n",
      "(354, 20)\n",
      "(413, 20)\n",
      "(472, 20)\n",
      "(531, 20)\n",
      "(590, 20)\n",
      "(649, 20)\n",
      "(708, 20)\n",
      "(767, 20)\n",
      "(826, 20)\n",
      "(885, 20)\n",
      "(944, 20)\n",
      "(1003, 20)\n",
      "(1062, 20)\n"
     ]
    }
   ],
   "source": [
    "summ_f = 0\n",
    "summ_s = 0\n",
    "accuracies = []\n",
    "for x in range(18):\n",
    "    summ_f = summ_f + nonbest_num[x]\n",
    "    summ_s = summ_s + best_num[x]\n",
    "    f = nonbest.iloc[0:summ_f]\n",
    "    s = best.iloc[0:summ_s]\n",
    "    r = f.append(s, ignore_index=True)\n",
    "    print(r.shape)\n",
    "    acc = count_accuracy2(r)\n",
    "    accuracies.append(acc)"
   ]
  },
  {
   "cell_type": "code",
   "execution_count": 267,
   "metadata": {},
   "outputs": [
    {
     "data": {
      "image/png": "[encoded data removed]",
      "text/plain": [
       "<matplotlib.figure.Figure at 0x115f8b390>"
      ]
     },
     "metadata": {},
     "output_type": "display_data"
    }
   ],
   "source": [
    "plt.plot([1,2,3,4,5,6,7,8,9,10,11,12,13,14,15,16,17,18], accuracies, '-go')\n",
    "plt.title(\"Значения точности при увеличении выборки\")\n",
    "plt.ylabel('Точность')\n",
    "plt.xlabel('Размер выборки (1:100)')\n",
    "plt.show()"
   ]
  },
  {
   "cell_type": "code",
   "execution_count": null,
   "metadata": {
    "collapsed": true
   },
   "outputs": [],
   "source": []
  }
 ],
 "metadata": {
  "kernelspec": {
   "display_name": "Python 3",
   "language": "python",
   "name": "python3"
  },
  "language_info": {
   "codemirror_mode": {
    "name": "ipython",
    "version": 3
   },
   "file_extension": ".py",
   "mimetype": "text/x-python",
   "name": "python",
   "nbconvert_exporter": "python",
   "pygments_lexer": "ipython3",
   "version": "3.6.3"
  }
 },
 "nbformat": 4,
 "nbformat_minor": 2
}

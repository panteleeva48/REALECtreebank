{
 "cells": [
  {
   "cell_type": "markdown",
   "metadata": {},
   "source": [
    "# Критерии syntactic complexity"
   ]
  },
  {
   "cell_type": "markdown",
   "metadata": {},
   "source": [
    "### 1. Количество слов"
   ]
  },
  {
   "cell_type": "code",
   "execution_count": 2,
   "metadata": {
    "collapsed": true
   },
   "outputs": [],
   "source": [
    "from model import Model\n",
    "import re\n",
    "import copy\n",
    "import numpy as np"
   ]
  },
  {
   "cell_type": "markdown",
   "metadata": {},
   "source": [
    "#### Функция, которая добавляет пробелы после .?!"
   ]
  },
  {
   "cell_type": "code",
   "execution_count": 3,
   "metadata": {
    "collapsed": true
   },
   "outputs": [],
   "source": [
    "def space(string):\n",
    "    string = re.sub('([a-zA-Z]| )([\\.\\?!])', '\\\\1\\\\2 ', string)\n",
    "    string = re.sub(': ', ' : ', string)\n",
    "    string = re.sub('; ', ' ; ', string)\n",
    "    string = re.sub('  +', ' ', string)\n",
    "    return string"
   ]
  },
  {
   "cell_type": "markdown",
   "metadata": {},
   "source": [
    "#### Функция, которая парсит текст udpipe. На выходе получается строка с форматом 'conllu'."
   ]
  },
  {
   "cell_type": "code",
   "execution_count": 4,
   "metadata": {
    "collapsed": true
   },
   "outputs": [],
   "source": [
    "def get_parsed_text(model_name, text_path):\n",
    "    model = Model(model_name)\n",
    "    text = open(text_path, 'r')\n",
    "    text = text.read()\n",
    "    text = space(text)\n",
    "    sentences = model.tokenize(text)\n",
    "    for s in sentences:\n",
    "        model.tag(s)\n",
    "        model.parse(s)\n",
    "    output = model.write(sentences, \"conllu\")\n",
    "    return output"
   ]
  },
  {
   "cell_type": "markdown",
   "metadata": {},
   "source": [
    "#### Функция, которая считает токены в тексте. Не считаются знаки препинания."
   ]
  },
  {
   "cell_type": "code",
   "execution_count": 5,
   "metadata": {
    "collapsed": true
   },
   "outputs": [],
   "source": [
    "def count_tokens(parsed_text):\n",
    "    num_tokens = 0\n",
    "    lst_str = parsed_text.split('\\n')\n",
    "    for every_str in lst_str:\n",
    "        #print(every_str)\n",
    "        if ('PUNCT' not in every_str) and every_str.startswith('#') == False:\n",
    "            #print(every_str)\n",
    "            num_tokens += 1\n",
    "    return num_tokens"
   ]
  },
  {
   "cell_type": "markdown",
   "metadata": {},
   "source": [
    "### 2. Глубина дерева"
   ]
  },
  {
   "cell_type": "markdown",
   "metadata": {},
   "source": [
    "#### Функция, которая считает глубину дерева."
   ]
  },
  {
   "cell_type": "code",
   "execution_count": 6,
   "metadata": {
    "collapsed": true
   },
   "outputs": [],
   "source": [
    "def order_head(parsed_sent):\n",
    "    sent_lst = parsed_sent.split('\\n')\n",
    "    #print(sent_lst[0])\n",
    "    order_head_lst = []\n",
    "    for token in sent_lst:\n",
    "        token = re.sub(r'\\|', '$', token)\n",
    "        if '\\t_\\t_\\t_\\t_\\t_' not in token:\n",
    "            order = re.search('([0-9]+)\\t', token).group(1)\n",
    "        #print(order)\n",
    "            head = re.search('.+\\t.+\\t([0-9]+)', token).group(1)\n",
    "        #print(head)\n",
    "            token = re.search('^[0-9]+\\t(.+?)\\t', token).group(1)\n",
    "            order_head_lst.append((int(order), int(head), token))\n",
    "    return order_head_lst"
   ]
  },
  {
   "cell_type": "code",
   "execution_count": 7,
   "metadata": {
    "collapsed": true
   },
   "outputs": [],
   "source": [
    "def find_root(order_head_lst):\n",
    "    for every_order_head in order_head_lst:\n",
    "        if every_order_head[1] == 0:\n",
    "            root = every_order_head\n",
    "    return root"
   ]
  },
  {
   "cell_type": "code",
   "execution_count": 8,
   "metadata": {
    "collapsed": true
   },
   "outputs": [],
   "source": [
    "def root_children(parsed_sent):\n",
    "    order_head_lst = order_head(parsed_sent)\n",
    "    #print(order_head_lst)\n",
    "    root = find_root(order_head_lst)\n",
    "    chains = []\n",
    "    for every_order_head in order_head_lst:\n",
    "        if every_order_head[1] == root[0]:\n",
    "            chains.append([root[0], every_order_head[0]])\n",
    "    return chains, order_head_lst"
   ]
  },
  {
   "cell_type": "code",
   "execution_count": 9,
   "metadata": {
    "collapsed": true
   },
   "outputs": [],
   "source": [
    "def chains_heads(chains, order_head_lst):\n",
    "    length_chains = len(chains)\n",
    "    i = 0\n",
    "    for chain in chains:\n",
    "        if i < length_chains:\n",
    "            heads = []\n",
    "            if 'stop' not in chain:\n",
    "                for order_head in order_head_lst:\n",
    "                    if chain[-1] == order_head[1]:\n",
    "                        heads.append(order_head[0])\n",
    "                if heads == [] and 'stop' not in chain:\n",
    "                    chain.append('stop')\n",
    "                else:\n",
    "                    ind_head = 0\n",
    "                    for head in heads:\n",
    "                        new_chain = copy.copy(chain)[:-1]\n",
    "                        if ind_head == 0:\n",
    "                            chain.append(head)\n",
    "                            ind_head += 1\n",
    "                        else:\n",
    "                            new_chain.append(head)\n",
    "                            chains.append(new_chain)\n",
    "        i += 1\n",
    "    while all(item[-1] == 'stop' for item in chains) is False:\n",
    "        chains_heads(chains, order_head_lst)\n",
    "    return chains"
   ]
  },
  {
   "cell_type": "code",
   "execution_count": 10,
   "metadata": {
    "collapsed": true
   },
   "outputs": [],
   "source": [
    "def count_max_depth_for_one_sent(sent):\n",
    "    chains, order_head_lst = root_children(sent)\n",
    "    chains = chains_heads(chains, order_head_lst)\n",
    "    depths = []\n",
    "    #print(chains)\n",
    "    for chain in chains:\n",
    "        depths.append(len(chain)-2)\n",
    "    return max(depths)"
   ]
  },
  {
   "cell_type": "code",
   "execution_count": 11,
   "metadata": {
    "collapsed": true
   },
   "outputs": [],
   "source": [
    "def count_depths_for_one_text(parsed_text):\n",
    "    sent_lst = re.findall('(1\\t.+?)\\n\\n', parsed_text, re.DOTALL)\n",
    "    max_depths = []\n",
    "    for sent in sent_lst:\n",
    "        #print(sent)\n",
    "        max_depths.append(count_max_depth_for_one_sent(sent))\n",
    "    return max_depths"
   ]
  },
  {
   "cell_type": "code",
   "execution_count": 12,
   "metadata": {
    "collapsed": true
   },
   "outputs": [],
   "source": [
    "def av_depth_for_one_text(parsed_text):\n",
    "    max_depths = count_depths_for_one_text(parsed_text)\n",
    "    return np.mean(max_depths)"
   ]
  },
  {
   "cell_type": "code",
   "execution_count": 13,
   "metadata": {
    "collapsed": true
   },
   "outputs": [],
   "source": [
    "def max_depth_for_one_text(parsed_text):\n",
    "    max_depths = count_depths_for_one_text(parsed_text)\n",
    "    return np.max(max_depths)"
   ]
  },
  {
   "cell_type": "code",
   "execution_count": 14,
   "metadata": {
    "collapsed": true
   },
   "outputs": [],
   "source": [
    "def min_depth_for_one_text(parsed_text):\n",
    "    max_depths = count_depths_for_one_text(parsed_text)\n",
    "    return np.min(max_depths)"
   ]
  },
  {
   "cell_type": "code",
   "execution_count": 15,
   "metadata": {},
   "outputs": [],
   "source": [
    "#count_depths_for_one_text(parsed_text)"
   ]
  },
  {
   "cell_type": "code",
   "execution_count": 16,
   "metadata": {
    "collapsed": true
   },
   "outputs": [],
   "source": [
    "#av_depth_for_one_text(parsed_text)"
   ]
  },
  {
   "cell_type": "code",
   "execution_count": 17,
   "metadata": {},
   "outputs": [],
   "source": [
    "#max_depth_for_one_text(parsed_text)"
   ]
  },
  {
   "cell_type": "code",
   "execution_count": 18,
   "metadata": {
    "collapsed": true
   },
   "outputs": [],
   "source": [
    "#min_depth_for_one_text(parsed_text)"
   ]
  },
  {
   "cell_type": "markdown",
   "metadata": {},
   "source": [
    "### 3. Количество зависимых клауз: acl, acl:relcl, advcl"
   ]
  },
  {
   "cell_type": "code",
   "execution_count": 19,
   "metadata": {
    "collapsed": true
   },
   "outputs": [],
   "source": [
    "# Возвращает словарь, где ключ - номер предложения, значения - массив [кол-во acl, кол-во acl:relcl, кол-во advcl]\n",
    "def count_dependent_sent(parsed_text):\n",
    "    sent_lst = re.findall('(1\\t.+?)\\n\\n', parsed_text, re.DOTALL)\n",
    "    num_sent = 1\n",
    "    d_sent = {}\n",
    "    for sent in sent_lst:\n",
    "        acl = len(re.findall('\\t(acl)\\t',sent))\n",
    "        relcl = len(re.findall('\\t(acl:relcl)\\t',sent))\n",
    "        advcl = len(re.findall('\\t(advcl)\\t',sent))\n",
    "        d_sent[num_sent] = [acl, relcl, advcl]\n",
    "        num_sent += 1\n",
    "    return d_sent"
   ]
  },
  {
   "cell_type": "code",
   "execution_count": 20,
   "metadata": {
    "collapsed": true
   },
   "outputs": [],
   "source": [
    "def count_dependent_sent_text(parsed_text):\n",
    "    d_sent = count_dependent_sent(parsed_text)\n",
    "    acl = 0\n",
    "    rel_cl = 0\n",
    "    advcl = 0\n",
    "    for sent in d_sent:\n",
    "        acl = acl + d_sent[sent][0]\n",
    "        rel_cl = rel_cl + d_sent[sent][1]\n",
    "        advcl = advcl + d_sent[sent][2]\n",
    "    return acl, rel_cl, advcl"
   ]
  },
  {
   "cell_type": "code",
   "execution_count": 21,
   "metadata": {},
   "outputs": [],
   "source": [
    "#count_dependent_sent(parsed_text)"
   ]
  },
  {
   "cell_type": "code",
   "execution_count": 22,
   "metadata": {},
   "outputs": [],
   "source": [
    "#count_dependent_sent_text(parsed_text)"
   ]
  },
  {
   "cell_type": "markdown",
   "metadata": {},
   "source": [
    "### 4. Количество предложений"
   ]
  },
  {
   "cell_type": "code",
   "execution_count": 23,
   "metadata": {
    "collapsed": true
   },
   "outputs": [],
   "source": [
    "def count_sent(parsed_text):\n",
    "    sent_lst = re.findall('(1\\t.+?)\\n\\n', parsed_text, re.DOTALL)\n",
    "    return len(sent_lst)"
   ]
  },
  {
   "cell_type": "code",
   "execution_count": 24,
   "metadata": {},
   "outputs": [],
   "source": [
    "#count_sent(parsed_text)"
   ]
  },
  {
   "cell_type": "markdown",
   "metadata": {
    "collapsed": true
   },
   "source": [
    "### 5. Количество клауз"
   ]
  },
  {
   "cell_type": "code",
   "execution_count": 25,
   "metadata": {
    "collapsed": true
   },
   "outputs": [],
   "source": [
    "def parsing_things(string):\n",
    "    token = re.search('[0-9]+\\t(.+?)\\t', string).group(1)\n",
    "    order = re.search('([0-9]+)\\t', string).group(1)\n",
    "    head = re.search('\\t([0-9]+)\\t', string).group(1)\n",
    "    rel_type = re.search('\\t[0-9]+\\t(.+?)\\t', string).group(1)\n",
    "    pos = re.search('[0-9]+\\t.+?\\t.+?\\t(.+?)\\t', string).group(1)\n",
    "    #grammar = re.search('[VERB|AUX]\\t.+?\\t(.+?)\\t', every_str).group(1)\n",
    "    return order, token, head, rel_type, pos"
   ]
  },
  {
   "cell_type": "markdown",
   "metadata": {},
   "source": [
    "#### Функция, которая возвращает словарь, где ключи - номера предложений, а значения - количество клауз."
   ]
  },
  {
   "cell_type": "markdown",
   "metadata": {},
   "source": [
    "***There was a woman next door, and she was a singer.*** - 2 T-units, 2 clauses\n",
    "\n",
    "***There was a woman next door who was a singer.*** - 1 T-units, 2 clauses\n",
    "\n",
    "***But while they were trying they killed a whale and used the oil for the lamps.*** - 2 clauses"
   ]
  },
  {
   "cell_type": "code",
   "execution_count": 26,
   "metadata": {},
   "outputs": [],
   "source": [
    "def count_clauses_every_sent(parsed_text):\n",
    "    sent_lst = re.findall('(1\\t.+?)\\n\\n', parsed_text, re.DOTALL)\n",
    "    verb_cl = {}\n",
    "    all_num_sent = count_sent(parsed_text)\n",
    "    for sent in range(1, all_num_sent+1):\n",
    "        verb_cl[sent] = []\n",
    "    num_sent = 1\n",
    "    for every_sent in sent_lst:\n",
    "        lst_str = every_sent.split('\\n')\n",
    "        for every_str in lst_str:\n",
    "            if ('VerbForm=Fin' in every_str):\n",
    "                sent_id = str(num_sent)\n",
    "                order, token, head, rel_type, pos = parsing_things(every_str)\n",
    "                if head not in verb_cl[int(sent_id)] and rel_type != 'conj':\n",
    "                    verb_cl[int(sent_id)].append([order, head])\n",
    "        num_sent += 1\n",
    "    for key, value in verb_cl.items():\n",
    "        if verb_cl[key] == []:\n",
    "            verb_cl[key] = [None]\n",
    "        verb_cl[key] = len(verb_cl[key])\n",
    "    return verb_cl"
   ]
  },
  {
   "cell_type": "code",
   "execution_count": 27,
   "metadata": {
    "collapsed": true
   },
   "outputs": [],
   "source": [
    "def count_clauses(parsed_text):\n",
    "    verb_cl = count_clauses_every_sent(parsed_text)\n",
    "    num_cl = 0\n",
    "    for key, value in verb_cl.items():\n",
    "        num_cl = num_cl + value\n",
    "    return num_cl"
   ]
  },
  {
   "cell_type": "code",
   "execution_count": 28,
   "metadata": {},
   "outputs": [],
   "source": [
    "#count_clauses(parsed_text)"
   ]
  },
  {
   "cell_type": "markdown",
   "metadata": {},
   "source": [
    "### 6. Количество T-юнитов"
   ]
  },
  {
   "cell_type": "code",
   "execution_count": 29,
   "metadata": {
    "collapsed": true
   },
   "outputs": [],
   "source": [
    "def find_subjects(sentence):\n",
    "    lst_str = sentence.split('\\n')\n",
    "    maybe_depends = []\n",
    "    for every_str in lst_str:\n",
    "        finding = re.search('PRON|NOUN', every_str)\n",
    "        if '_\\t_\\t_\\t_\\t_' not in every_str:\n",
    "            order, token, head, rel_type, pos = parsing_things(every_str)\n",
    "            if finding is not None:\n",
    "                maybe_depends.append(rel_type)\n",
    "    return maybe_depends"
   ]
  },
  {
   "cell_type": "code",
   "execution_count": 30,
   "metadata": {
    "collapsed": true
   },
   "outputs": [],
   "source": [
    "def count_tunits_every_sent(parsed_text):\n",
    "    verb_cl = count_clauses_every_sent(parsed_text)\n",
    "    sent_lst = re.findall('(1\\t.+?)\\n\\n', parsed_text, re.DOTALL)\n",
    "    for key, value in verb_cl.items():\n",
    "        subjects = find_subjects(sent_lst[key-1])\n",
    "        acl_relcl = subjects.count('acl:relcl')\n",
    "        acl = subjects.count('acl')\n",
    "        advcl = subjects.count('advcl')\n",
    "        depends = acl_relcl + acl + advcl\n",
    "        verb_cl[key] = verb_cl[key]-depends\n",
    "    return verb_cl"
   ]
  },
  {
   "cell_type": "code",
   "execution_count": 31,
   "metadata": {
    "collapsed": true
   },
   "outputs": [],
   "source": [
    "def count_tunits(parsed_text):\n",
    "    verb_cl = count_tunits_every_sent(parsed_text)\n",
    "    num_t = 0\n",
    "    for key, value in verb_cl.items():\n",
    "        num_t = num_t + value\n",
    "    return num_t"
   ]
  },
  {
   "cell_type": "code",
   "execution_count": 32,
   "metadata": {
    "collapsed": true
   },
   "outputs": [],
   "source": [
    "#parsed_text = get_parsed_text('english-partut-ud-2.0-170801.udpipe', '/Users/irene/Desktop/Курсовая/esseys/AAl_13_2.txt')"
   ]
  },
  {
   "cell_type": "code",
   "execution_count": 33,
   "metadata": {},
   "outputs": [],
   "source": [
    "#(parsed_text)"
   ]
  },
  {
   "cell_type": "markdown",
   "metadata": {},
   "source": [
    "### 7. Количество сложных T-юнитов"
   ]
  },
  {
   "cell_type": "code",
   "execution_count": 34,
   "metadata": {
    "collapsed": true
   },
   "outputs": [],
   "source": [
    "def count_complex_tunit(parsed_text):\n",
    "    return count_clauses(parsed_text)-count_tunits(parsed_text)"
   ]
  },
  {
   "cell_type": "code",
   "execution_count": 35,
   "metadata": {},
   "outputs": [],
   "source": [
    "#count_complex_tunit(parsed_text)"
   ]
  },
  {
   "cell_type": "markdown",
   "metadata": {},
   "source": [
    "### 8. Количество сочинительных фраз"
   ]
  },
  {
   "cell_type": "markdown",
   "metadata": {},
   "source": [
    "#### Функция возвращает все сочинительные союзы (их вершины): ключи - номера предложений, значения - массив из вершин союзов."
   ]
  },
  {
   "cell_type": "code",
   "execution_count": 43,
   "metadata": {
    "collapsed": true
   },
   "outputs": [],
   "source": [
    "def find_all_coord(parsed_text):\n",
    "    sent_lst = re.findall('(1\\t.+?)\\n\\n', parsed_text, re.DOTALL)\n",
    "    all_num_sent = count_sent(parsed_text)\n",
    "    cp = {}\n",
    "    for sent in range(1, all_num_sent+1):\n",
    "        cp[sent] = []\n",
    "    num_sent = 1\n",
    "    for every_sent in sent_lst:\n",
    "        lst_str = every_sent.split('\\n')\n",
    "        for every_str in lst_str:\n",
    "            if '\\tcc\\t' in every_str:\n",
    "                order, token, head, rel_type, pos = parsing_things(every_str)\n",
    "                cp[int(num_sent)].append(head)\n",
    "        num_sent += 1\n",
    "    return cp"
   ]
  },
  {
   "cell_type": "markdown",
   "metadata": {},
   "source": [
    "#### Функция возвращает cловарь: ключи - номера предложений, значение - количество сочинительных фраз."
   ]
  },
  {
   "cell_type": "code",
   "execution_count": 44,
   "metadata": {},
   "outputs": [],
   "source": [
    "def final_coord(parsed_text):\n",
    "    cp = find_all_coord(parsed_text)\n",
    "    sent_lst = re.findall('(1\\t.+?)\\n\\n', parsed_text, re.DOTALL)\n",
    "    all_num_sent = count_sent(parsed_text)\n",
    "    num_sent = 1\n",
    "    cp_final = {}\n",
    "    for sent in range(1, all_num_sent+1):\n",
    "        cp_final[sent] = 0\n",
    "    for every_sent in sent_lst:\n",
    "        #print('НОМЕР ПРЕДЛОЖЕНИЯ: ' + str(num_sent))\n",
    "        for every_coord_cp in cp[num_sent]:\n",
    "            #print('ВЕРШИНА СОЮЗА: ' + every_coord_cp)\n",
    "            finding2 = re.search('('+every_coord_cp+'\\t.+?\\tconj.+?)\\n', every_sent)\n",
    "            if finding2 is None:\n",
    "                continue\n",
    "            else:\n",
    "                order2, token2, head2, rel_type2, pos2 = parsing_things(finding2.group(0))\n",
    "                #print('2 СВЯЗУЮЩИЙ: ' + token2 + pos2)\n",
    "                finding1 = re.search('('+head2+'\\t.+?\\t[a-z]+.+?)\\n', every_sent)\n",
    "                order1, token1, head1, rel_type1, pos1 = parsing_things(finding1.group(0))\n",
    "                #print('1 СВЯЗУЮЩИЙ: ' + token1+pos1)\n",
    "                if pos2 == pos1:\n",
    "                    cp_final[num_sent] += 1 \n",
    "        num_sent += 1\n",
    "    return cp_final"
   ]
  },
  {
   "cell_type": "code",
   "execution_count": 45,
   "metadata": {
    "collapsed": true
   },
   "outputs": [],
   "source": [
    "def count_coord(parsed_text):\n",
    "    cp_final = final_coord(parsed_text)\n",
    "    num_cp = 0\n",
    "    for key, value in cp_final.items():\n",
    "        num_cp = num_cp + value\n",
    "    return num_cp"
   ]
  },
  {
   "cell_type": "code",
   "execution_count": 46,
   "metadata": {
    "collapsed": true
   },
   "outputs": [],
   "source": [
    "#parsed_text = get_parsed_text('english-partut-ud-2.0-170801.udpipe', '/Users/irene/Desktop/Курсовая/esseys/AAl_27_1.txt')"
   ]
  },
  {
   "cell_type": "code",
   "execution_count": 47,
   "metadata": {},
   "outputs": [
    {
     "data": {
      "text/plain": [
       "5"
      ]
     },
     "execution_count": 47,
     "metadata": {},
     "output_type": "execute_result"
    }
   ],
   "source": [
    "#count_coord(parsed_text)"
   ]
  },
  {
   "cell_type": "markdown",
   "metadata": {},
   "source": [
    "### 9. Количество сложных именных групп"
   ]
  },
  {
   "cell_type": "markdown",
   "metadata": {},
   "source": [
    "Complex nominals comprise (i) nouns plus adjective, possessive, prepositional phrase, relative clause, participle, or appositive, (ii) nominal clauses, and (iii) gerunds and infinitives in subject position (Cooper 1976)"
   ]
  },
  {
   "cell_type": "markdown",
   "metadata": {},
   "source": [
    "#### Possessive"
   ]
  },
  {
   "cell_type": "code",
   "execution_count": null,
   "metadata": {
    "collapsed": true
   },
   "outputs": [],
   "source": [
    "def find_possesive(parsed_text):\n",
    "    sent_lst = re.findall('(1\\t.+?)\\n\\n', parsed_text, re.DOTALL)\n",
    "    all_num_sent = count_sent(parsed_text)\n",
    "    poss = {}\n",
    "    for sent in range(1, all_num_sent+1):\n",
    "        poss[sent] = 0\n",
    "    num_sent = 1\n",
    "    for every_sent in sent_lst:\n",
    "        lst_str = every_sent.split('\\n')\n",
    "        for every_str in lst_str:\n",
    "            if 'nmod' in every_str:# включая nmod:poss\n",
    "                order, token, head, rel_type, pos = parsing_things(every_str)\n",
    "                poss[num_sent] = poss[num_sent] + 1\n",
    "        num_sent += 1\n",
    "    return poss"
   ]
  },
  {
   "cell_type": "markdown",
   "metadata": {},
   "source": [
    "#### Prepositional phrase"
   ]
  },
  {
   "cell_type": "code",
   "execution_count": null,
   "metadata": {
    "collapsed": true
   },
   "outputs": [],
   "source": [
    "def find_prep(parsed_text):\n",
    "    sent_lst = re.findall('(1\\t.+?)\\n\\n', parsed_text, re.DOTALL)\n",
    "    all_num_sent = count_sent(parsed_text)\n",
    "    poss = {}\n",
    "    for sent in range(1, all_num_sent+1):\n",
    "        poss[sent] = 0\n",
    "    num_sent = 1\n",
    "    for every_sent in sent_lst:\n",
    "        lst_str = every_sent.split('\\n')\n",
    "        for every_str in lst_str:\n",
    "            if 'ADP' in every_str:\n",
    "                order, token, head, rel_type, pos = parsing_things(every_str)\n",
    "                poss[num_sent] = poss[num_sent] + 1\n",
    "        num_sent += 1\n",
    "    return poss"
   ]
  },
  {
   "cell_type": "markdown",
   "metadata": {},
   "source": [
    "#### Nouns plus adjective"
   ]
  },
  {
   "cell_type": "code",
   "execution_count": null,
   "metadata": {
    "collapsed": true
   },
   "outputs": [],
   "source": [
    "def find_nouns(parsed_text):\n",
    "    sent_lst = re.findall('(1\\t.+?)\\n\\n', parsed_text, re.DOTALL)\n",
    "    all_num_sent = count_sent(parsed_text)\n",
    "    vp = {}\n",
    "    for sent in range(1, all_num_sent+1):\n",
    "        vp[sent] = []\n",
    "    num_sent = 1\n",
    "    for every_sent in sent_lst:\n",
    "        lst_str = every_sent.split('\\n')\n",
    "        for every_str in lst_str:\n",
    "            if 'NOUN' in every_str:\n",
    "                order, token, head, rel_type, pos = parsing_things(every_str)\n",
    "                vp[num_sent].append(order)\n",
    "        num_sent += 1\n",
    "    return vp"
   ]
  },
  {
   "cell_type": "code",
   "execution_count": null,
   "metadata": {
    "collapsed": true
   },
   "outputs": [],
   "source": [
    "def find_adjs(parsed_text):\n",
    "    sent_lst = re.findall('(1\\t.+?)\\n\\n', parsed_text, re.DOTALL)\n",
    "    all_num_sent = count_sent(parsed_text)\n",
    "    vp = {}\n",
    "    for sent in range(1, all_num_sent+1):\n",
    "        vp[sent] = []\n",
    "    num_sent = 1\n",
    "    for every_sent in sent_lst:\n",
    "        lst_str = every_sent.split('\\n')\n",
    "        for every_str in lst_str:\n",
    "            if 'ADJ' in every_str:\n",
    "                order, token, head, rel_type, pos = parsing_things(every_str)\n",
    "                vp[num_sent].append(head)\n",
    "        num_sent += 1\n",
    "    return vp"
   ]
  },
  {
   "cell_type": "code",
   "execution_count": null,
   "metadata": {
    "collapsed": true
   },
   "outputs": [],
   "source": [
    "def adj_noun(parsed_text):\n",
    "    adjs = find_adjs(parsed_text)\n",
    "    nouns = find_nouns(parsed_text)\n",
    "    adj_noun = {}\n",
    "    for key in adjs:\n",
    "        adj_noun[key] = len([i for i, j in zip(adjs[key], nouns[key]) if i == j])\n",
    "    return adj_noun"
   ]
  },
  {
   "cell_type": "markdown",
   "metadata": {},
   "source": [
    "#### Gerunds and infinitives in subject position"
   ]
  },
  {
   "cell_type": "code",
   "execution_count": null,
   "metadata": {
    "collapsed": true
   },
   "outputs": [],
   "source": [
    "def find_ger_inf(parsed_text):\n",
    "    sent_lst = re.findall('(1\\t.+?)\\n\\n', parsed_text, re.DOTALL)\n",
    "    all_num_sent = count_sent(parsed_text)\n",
    "    poss = {}\n",
    "    for sent in range(1, all_num_sent+1):\n",
    "        poss[sent] = 0\n",
    "    num_sent = 1\n",
    "    for every_sent in sent_lst:\n",
    "        lst_str = every_sent.split('\\n')\n",
    "        for every_str in lst_str:\n",
    "            if 'VerbForm=Ger' in every_str or 'VerbForm=Inf' in every_str and 'xcomp' not in every_str:\n",
    "                order, token, head, rel_type, pos = parsing_things(every_str)\n",
    "                poss[num_sent] = poss[num_sent] + 1\n",
    "        num_sent += 1\n",
    "    return poss"
   ]
  },
  {
   "cell_type": "markdown",
   "metadata": {},
   "source": [
    "#### Nouns plus participle"
   ]
  },
  {
   "cell_type": "code",
   "execution_count": null,
   "metadata": {
    "collapsed": true
   },
   "outputs": [],
   "source": [
    "def find_parts(parsed_text):\n",
    "    sent_lst = re.findall('(1\\t.+?)\\n\\n', parsed_text, re.DOTALL)\n",
    "    all_num_sent = count_sent(parsed_text)\n",
    "    vp = {}\n",
    "    for sent in range(1, all_num_sent+1):\n",
    "        vp[sent] = []\n",
    "    num_sent = 1\n",
    "    for every_sent in sent_lst:\n",
    "        lst_str = every_sent.split('\\n')\n",
    "        for every_str in lst_str:\n",
    "            if 'VerbForm=Part' in every_str:\n",
    "                order, token, head, rel_type, pos = parsing_things(every_str)\n",
    "                vp[num_sent].append(head)\n",
    "        num_sent += 1\n",
    "    return vp"
   ]
  },
  {
   "cell_type": "code",
   "execution_count": null,
   "metadata": {
    "collapsed": true
   },
   "outputs": [],
   "source": [
    "def parts_noun(parsed_text):\n",
    "    parts = find_parts(parsed_text)\n",
    "    nouns = find_nouns(parsed_text)\n",
    "    adj_noun = {}\n",
    "    for key in parts:\n",
    "        adj_noun[key] = len([i for i, j in zip(parts[key], nouns[key]) if i == j])\n",
    "    return adj_noun"
   ]
  },
  {
   "cell_type": "code",
   "execution_count": null,
   "metadata": {
    "collapsed": true
   },
   "outputs": [],
   "source": [
    "def count(d):\n",
    "    num = 0\n",
    "    for key, value in d.items():\n",
    "        num = num + value\n",
    "    return num"
   ]
  },
  {
   "cell_type": "markdown",
   "metadata": {},
   "source": [
    "### 10. Количество глагольных групп"
   ]
  },
  {
   "cell_type": "code",
   "execution_count": null,
   "metadata": {
    "collapsed": true
   },
   "outputs": [],
   "source": [
    "def find_verbs(parsed_text):\n",
    "    sent_lst = re.findall('(1\\t.+?)\\n\\n', parsed_text, re.DOTALL)\n",
    "    all_num_sent = count_sent(parsed_text)\n",
    "    vp = {}\n",
    "    for sent in range(1, all_num_sent+1):\n",
    "        vp[sent] = []\n",
    "    num_sent = 1\n",
    "    for every_sent in sent_lst:\n",
    "        lst_str = every_sent.split('\\n')\n",
    "        for every_str in lst_str:\n",
    "            if 'VERB' in every_str or 'AUX' in every_str:\n",
    "                order, token, head, rel_type, pos = parsing_things(every_str)\n",
    "                vp[num_sent].append(order)\n",
    "        num_sent += 1\n",
    "    return vp"
   ]
  },
  {
   "cell_type": "code",
   "execution_count": null,
   "metadata": {},
   "outputs": [],
   "source": [
    "def find_vp(parsed_text):\n",
    "    vp = find_verbs(parsed_text)\n",
    "    sent_lst = re.findall('(1\\t.+?)\\n\\n', parsed_text, re.DOTALL)\n",
    "    all_num_sent = count_sent(parsed_text)\n",
    "    num_sent = 1\n",
    "    vp_final = {}\n",
    "    for sent in range(1, all_num_sent+1):\n",
    "        vp_final[sent] = 0\n",
    "    for every_sent in sent_lst:\n",
    "        #print('НОМЕР ПРЕДЛОЖЕНИЯ: ' + str(num_sent))\n",
    "        for every_vp in vp[num_sent]:\n",
    "            #print(every_vp)\n",
    "            finding_dep = re.findall('\\t'+every_vp+'\\t.+?\\t', every_sent)\n",
    "            finding_dep_2 = []\n",
    "            for every_finding_dep in finding_dep:\n",
    "                find_del = re.search('mark|nsubj|punct', every_finding_dep)\n",
    "                if find_del is None:\n",
    "                    finding_dep_2.append(every_finding_dep)\n",
    "            if finding_dep_2 != []:\n",
    "                vp_final[num_sent] += 1 \n",
    "        num_sent += 1\n",
    "    return vp_final"
   ]
  },
  {
   "cell_type": "code",
   "execution_count": null,
   "metadata": {
    "collapsed": true
   },
   "outputs": [],
   "source": [
    "def count_vp(parsed_text):\n",
    "    vp_final = find_vp(parsed_text)\n",
    "    num_vp = 0\n",
    "    for key, value in vp_final.items():\n",
    "        num_vp = num_vp + value\n",
    "    return num_vp"
   ]
  },
  {
   "cell_type": "code",
   "execution_count": null,
   "metadata": {},
   "outputs": [],
   "source": [
    "#find_verbs(parsed_text)"
   ]
  },
  {
   "cell_type": "code",
   "execution_count": null,
   "metadata": {},
   "outputs": [],
   "source": [
    "#find_vp(parsed_text)"
   ]
  },
  {
   "cell_type": "code",
   "execution_count": null,
   "metadata": {},
   "outputs": [],
   "source": [
    "#count_vp(parsed_text)"
   ]
  },
  {
   "cell_type": "code",
   "execution_count": null,
   "metadata": {
    "collapsed": true
   },
   "outputs": [],
   "source": [
    "#f = open('test2.tsv', 'w')\n",
    "#f.write(parsed_text)\n",
    "#f.close()"
   ]
  },
  {
   "cell_type": "code",
   "execution_count": null,
   "metadata": {
    "collapsed": true
   },
   "outputs": [],
   "source": [
    "#parsed_text = get_parsed_text('english-partut-ud-2.0-170801.udpipe', '/Users/irene/Desktop/Курсовая/rr.txt')"
   ]
  },
  {
   "cell_type": "code",
   "execution_count": null,
   "metadata": {
    "collapsed": true
   },
   "outputs": [],
   "source": []
  }
 ],
 "metadata": {
  "kernelspec": {
   "display_name": "Python 3",
   "language": "python",
   "name": "python3"
  },
  "language_info": {
   "codemirror_mode": {
    "name": "ipython",
    "version": 3
   },
   "file_extension": ".py",
   "mimetype": "text/x-python",
   "name": "python",
   "nbconvert_exporter": "python",
   "pygments_lexer": "ipython3",
   "version": "3.6.3"
  }
 },
 "nbformat": 4,
 "nbformat_minor": 2
}

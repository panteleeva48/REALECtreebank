{
 "cells": [
  {
   "cell_type": "markdown",
   "metadata": {},
   "source": [
    "# Критерии syntactic complexity"
   ]
  },
  {
   "cell_type": "markdown",
   "metadata": {},
   "source": [
    "### 1. Количество слов"
   ]
  },
  {
   "cell_type": "code",
   "execution_count": 1,
   "metadata": {
    "collapsed": true
   },
   "outputs": [],
   "source": [
    "from model import Model\n",
    "import re\n",
    "import copy\n",
    "import numpy as np\n",
    "from spellchecker import check_spelling\n",
    "from statistics import mean"
   ]
  },
  {
   "cell_type": "markdown",
   "metadata": {},
   "source": [
    "#### Функция, которая добавляет пробелы после .?!"
   ]
  },
  {
   "cell_type": "code",
   "execution_count": 2,
   "metadata": {
    "collapsed": true
   },
   "outputs": [],
   "source": [
    "def space(string):\n",
    "    string = re.sub('([a-zA-Z]| )([\\.\\?!])', '\\\\1\\\\2 ', string)\n",
    "    string = re.sub(': ', ' : ', string)\n",
    "    string = re.sub('; ', ' ; ', string)\n",
    "    string = re.sub('  +', ' ', string)\n",
    "    return string"
   ]
  },
  {
   "cell_type": "markdown",
   "metadata": {},
   "source": [
    "#### Функция, которая парсит текст udpipe. На выходе получается строка с форматом 'conllu'."
   ]
  },
  {
   "cell_type": "code",
   "execution_count": 3,
   "metadata": {
    "collapsed": true
   },
   "outputs": [],
   "source": [
    "def get_parsed_text(model_name, text_path):\n",
    "    model = Model(model_name)\n",
    "    text = open(text_path, 'r')\n",
    "    text = text.read()\n",
    "    text = check_spelling(text)\n",
    "    text = space(text)\n",
    "    sentences = model.tokenize(text)\n",
    "    for s in sentences:\n",
    "        model.tag(s)\n",
    "        model.parse(s)\n",
    "    output = model.write(sentences, \"conllu\")\n",
    "    return output"
   ]
  },
  {
   "cell_type": "markdown",
   "metadata": {},
   "source": [
    "#### Функция, которая считает токены в тексте. Не считаются знаки препинания."
   ]
  },
  {
   "cell_type": "code",
   "execution_count": 4,
   "metadata": {
    "collapsed": true
   },
   "outputs": [],
   "source": [
    "def count_tokens(parsed_text):\n",
    "    num_tokens = 0\n",
    "    lst_str = parsed_text.split('\\n')\n",
    "    for every_str in lst_str:\n",
    "        #print(every_str)\n",
    "        if ('PUNCT' not in every_str) and every_str.startswith('#') == False:\n",
    "            #print(every_str)\n",
    "            num_tokens += 1\n",
    "    return num_tokens"
   ]
  },
  {
   "cell_type": "code",
   "execution_count": 7,
   "metadata": {},
   "outputs": [],
   "source": [
    "#count_tokens(parsed_text)"
   ]
  },
  {
   "cell_type": "markdown",
   "metadata": {},
   "source": [
    "### 2. Глубина дерева"
   ]
  },
  {
   "cell_type": "markdown",
   "metadata": {},
   "source": [
    "#### Функция, которая считает глубину дерева."
   ]
  },
  {
   "cell_type": "code",
   "execution_count": 8,
   "metadata": {
    "collapsed": true
   },
   "outputs": [],
   "source": [
    "def order_head(parsed_sent):\n",
    "    sent_lst = parsed_sent.split('\\n')\n",
    "    #print(sent_lst[0])\n",
    "    order_head_lst = []\n",
    "    for token in sent_lst:\n",
    "        token = re.sub(r'\\|', '$', token)\n",
    "        if '\\t_\\t_\\t_\\t_\\t_' not in token:\n",
    "            order = re.search('([0-9]+)\\t', token).group(1)\n",
    "        #print(order)\n",
    "            head = re.search('.+\\t.+\\t([0-9]+)', token).group(1)\n",
    "        #print(head)\n",
    "            token = re.search('^[0-9]+\\t(.+?)\\t', token).group(1)\n",
    "            order_head_lst.append((int(order), int(head), token))\n",
    "    return order_head_lst"
   ]
  },
  {
   "cell_type": "code",
   "execution_count": 9,
   "metadata": {
    "collapsed": true
   },
   "outputs": [],
   "source": [
    "def find_root(order_head_lst):\n",
    "    for every_order_head in order_head_lst:\n",
    "        if every_order_head[1] == 0:\n",
    "            root = every_order_head\n",
    "    return root"
   ]
  },
  {
   "cell_type": "code",
   "execution_count": 10,
   "metadata": {
    "collapsed": true
   },
   "outputs": [],
   "source": [
    "def root_children(parsed_sent):\n",
    "    order_head_lst = order_head(parsed_sent)\n",
    "    #print(order_head_lst)\n",
    "    root = find_root(order_head_lst)\n",
    "    chains = []\n",
    "    for every_order_head in order_head_lst:\n",
    "        if every_order_head[1] == root[0]:\n",
    "            chains.append([root[0], every_order_head[0]])\n",
    "    return chains, order_head_lst"
   ]
  },
  {
   "cell_type": "code",
   "execution_count": 11,
   "metadata": {
    "collapsed": true
   },
   "outputs": [],
   "source": [
    "def chains_heads(chains, order_head_lst):\n",
    "    length_chains = len(chains)\n",
    "    i = 0\n",
    "    for chain in chains:\n",
    "        if i < length_chains:\n",
    "            heads = []\n",
    "            if 'stop' not in chain:\n",
    "                for order_head in order_head_lst:\n",
    "                    if chain[-1] == order_head[1]:\n",
    "                        heads.append(order_head[0])\n",
    "                if heads == [] and 'stop' not in chain:\n",
    "                    chain.append('stop')\n",
    "                else:\n",
    "                    ind_head = 0\n",
    "                    for head in heads:\n",
    "                        new_chain = copy.copy(chain)[:-1]\n",
    "                        if ind_head == 0:\n",
    "                            chain.append(head)\n",
    "                            ind_head += 1\n",
    "                        else:\n",
    "                            new_chain.append(head)\n",
    "                            chains.append(new_chain)\n",
    "        i += 1\n",
    "    while all(item[-1] == 'stop' for item in chains) is False:\n",
    "        chains_heads(chains, order_head_lst)\n",
    "    return chains"
   ]
  },
  {
   "cell_type": "code",
   "execution_count": 12,
   "metadata": {
    "collapsed": true
   },
   "outputs": [],
   "source": [
    "def count_max_depth_for_one_sent(sent):\n",
    "    chains, order_head_lst = root_children(sent)\n",
    "    chains = chains_heads(chains, order_head_lst)\n",
    "    depths = []\n",
    "    #print(chains)\n",
    "    for chain in chains:\n",
    "        depths.append(len(chain)-2)\n",
    "    return max(depths)"
   ]
  },
  {
   "cell_type": "code",
   "execution_count": 13,
   "metadata": {
    "collapsed": true
   },
   "outputs": [],
   "source": [
    "def count_depths_for_one_text(parsed_text):\n",
    "    sent_lst = re.findall('(1\\t.+?)\\n\\n', parsed_text, re.DOTALL)\n",
    "    max_depths = []\n",
    "    for sent in sent_lst:\n",
    "        #print(sent)\n",
    "        max_depths.append(count_max_depth_for_one_sent(sent))\n",
    "    return max_depths"
   ]
  },
  {
   "cell_type": "code",
   "execution_count": 18,
   "metadata": {
    "collapsed": true
   },
   "outputs": [],
   "source": [
    "def av_depth_for_one_text(parsed_text):\n",
    "    max_depths = count_depths_for_one_text(parsed_text)\n",
    "    return round(np.mean(max_depths), 2)"
   ]
  },
  {
   "cell_type": "code",
   "execution_count": 23,
   "metadata": {
    "collapsed": true
   },
   "outputs": [],
   "source": [
    "def max_depth_for_one_text(parsed_text):\n",
    "    max_depths = count_depths_for_one_text(parsed_text)\n",
    "    return round(np.max(max_depths),2)"
   ]
  },
  {
   "cell_type": "code",
   "execution_count": 24,
   "metadata": {
    "collapsed": true
   },
   "outputs": [],
   "source": [
    "def min_depth_for_one_text(parsed_text):\n",
    "    max_depths = count_depths_for_one_text(parsed_text)\n",
    "    return round(np.min(max_depths), 2)"
   ]
  },
  {
   "cell_type": "code",
   "execution_count": 26,
   "metadata": {},
   "outputs": [
    {
     "data": {
      "text/plain": [
       "5.71"
      ]
     },
     "execution_count": 26,
     "metadata": {},
     "output_type": "execute_result"
    }
   ],
   "source": [
    "#av_depth_for_one_text(parsed_text)"
   ]
  },
  {
   "cell_type": "code",
   "execution_count": 27,
   "metadata": {},
   "outputs": [
    {
     "data": {
      "text/plain": [
       "8"
      ]
     },
     "execution_count": 27,
     "metadata": {},
     "output_type": "execute_result"
    }
   ],
   "source": [
    "#max_depth_for_one_text(parsed_text)"
   ]
  },
  {
   "cell_type": "code",
   "execution_count": 28,
   "metadata": {},
   "outputs": [
    {
     "data": {
      "text/plain": [
       "3"
      ]
     },
     "execution_count": 28,
     "metadata": {},
     "output_type": "execute_result"
    }
   ],
   "source": [
    "#min_depth_for_one_text(parsed_text)"
   ]
  },
  {
   "cell_type": "markdown",
   "metadata": {},
   "source": [
    "### 3. Количество зависимых клауз: acl, acl:relcl, advcl"
   ]
  },
  {
   "cell_type": "code",
   "execution_count": 29,
   "metadata": {
    "collapsed": true
   },
   "outputs": [],
   "source": [
    "# Возвращает словарь, где ключ - номер предложения, значения - массив [кол-во acl, кол-во acl:relcl, кол-во advcl]\n",
    "def count_dependent_sent(parsed_text):\n",
    "    sent_lst = re.findall('(1\\t.+?)\\n\\n', parsed_text, re.DOTALL)\n",
    "    num_sent = 1\n",
    "    d_sent = {}\n",
    "    for sent in sent_lst:\n",
    "        acl = len(re.findall('\\t(acl)\\t',sent))\n",
    "        relcl = len(re.findall('\\t(acl:relcl)\\t',sent))\n",
    "        advcl = len(re.findall('\\t(advcl)\\t',sent))\n",
    "        d_sent[num_sent] = [acl, relcl, advcl]\n",
    "        num_sent += 1\n",
    "    return d_sent"
   ]
  },
  {
   "cell_type": "code",
   "execution_count": 32,
   "metadata": {
    "collapsed": true
   },
   "outputs": [],
   "source": [
    "def count_dependent_sent_text(parsed_text):\n",
    "    d_sent = count_dependent_sent(parsed_text)\n",
    "    acl = 0\n",
    "    rel_cl = 0\n",
    "    advcl = 0\n",
    "    for sent in d_sent:\n",
    "        acl = acl + d_sent[sent][0]\n",
    "        rel_cl = rel_cl + d_sent[sent][1]\n",
    "        advcl = advcl + d_sent[sent][2]\n",
    "    return acl, rel_cl, advcl"
   ]
  },
  {
   "cell_type": "code",
   "execution_count": 33,
   "metadata": {
    "collapsed": true
   },
   "outputs": [],
   "source": [
    "def count_acl(parsed_text):\n",
    "    acl = count_dependent_sent_text(parsed_text)[0]\n",
    "    return acl"
   ]
  },
  {
   "cell_type": "code",
   "execution_count": 34,
   "metadata": {
    "collapsed": true
   },
   "outputs": [],
   "source": [
    "def count_acl_relcl(parsed_text):\n",
    "    acl_relcl = count_dependent_sent_text(parsed_text)[1]\n",
    "    return acl_relcl"
   ]
  },
  {
   "cell_type": "code",
   "execution_count": 35,
   "metadata": {
    "collapsed": true
   },
   "outputs": [],
   "source": [
    "def count_advcl(parsed_text):\n",
    "    advcl = count_dependent_sent_text(parsed_text)[2]\n",
    "    return advcl"
   ]
  },
  {
   "cell_type": "code",
   "execution_count": 36,
   "metadata": {},
   "outputs": [
    {
     "data": {
      "text/plain": [
       "4"
      ]
     },
     "execution_count": 36,
     "metadata": {},
     "output_type": "execute_result"
    }
   ],
   "source": [
    "#count_acl(parsed_text)"
   ]
  },
  {
   "cell_type": "code",
   "execution_count": 37,
   "metadata": {},
   "outputs": [
    {
     "data": {
      "text/plain": [
       "0"
      ]
     },
     "execution_count": 37,
     "metadata": {},
     "output_type": "execute_result"
    }
   ],
   "source": [
    "#count_acl_relcl(parsed_text)"
   ]
  },
  {
   "cell_type": "code",
   "execution_count": 38,
   "metadata": {},
   "outputs": [
    {
     "data": {
      "text/plain": [
       "3"
      ]
     },
     "execution_count": 38,
     "metadata": {},
     "output_type": "execute_result"
    }
   ],
   "source": [
    "#count_advcl(parsed_text)"
   ]
  },
  {
   "cell_type": "markdown",
   "metadata": {},
   "source": [
    "### 4. Количество предложений"
   ]
  },
  {
   "cell_type": "code",
   "execution_count": 39,
   "metadata": {
    "collapsed": true
   },
   "outputs": [],
   "source": [
    "def count_sent(parsed_text):\n",
    "    sent_lst = re.findall('(1\\t.+?)\\n\\n', parsed_text, re.DOTALL)\n",
    "    return len(sent_lst)"
   ]
  },
  {
   "cell_type": "code",
   "execution_count": 40,
   "metadata": {},
   "outputs": [
    {
     "data": {
      "text/plain": [
       "7"
      ]
     },
     "execution_count": 40,
     "metadata": {},
     "output_type": "execute_result"
    }
   ],
   "source": [
    "#count_sent(parsed_text)"
   ]
  },
  {
   "cell_type": "markdown",
   "metadata": {
    "collapsed": true
   },
   "source": [
    "### 5. Количество клауз"
   ]
  },
  {
   "cell_type": "code",
   "execution_count": 41,
   "metadata": {
    "collapsed": true
   },
   "outputs": [],
   "source": [
    "def parsing_things(string):\n",
    "    token = re.search('[0-9]+\\t(.+?)\\t', string).group(1)\n",
    "    order = re.search('([0-9]+)\\t', string).group(1)\n",
    "    head = re.search('\\t([0-9]+)\\t', string).group(1)\n",
    "    rel_type = re.search('\\t[0-9]+\\t(.+?)\\t', string).group(1)\n",
    "    pos = re.search('[0-9]+\\t.+?\\t.+?\\t(.+?)\\t', string).group(1)\n",
    "    #grammar = re.search('[VERB|AUX]\\t.+?\\t(.+?)\\t', every_str).group(1)\n",
    "    return order, token, head, rel_type, pos"
   ]
  },
  {
   "cell_type": "markdown",
   "metadata": {},
   "source": [
    "#### Функция, которая возвращает словарь, где ключи - номера предложений, а значения - количество клауз."
   ]
  },
  {
   "cell_type": "markdown",
   "metadata": {},
   "source": [
    "***There was a woman next door, and she was a singer.*** - 2 T-units, 2 clauses\n",
    "\n",
    "***There was a woman next door who was a singer.*** - 1 T-units, 2 clauses\n",
    "\n",
    "***But while they were trying they killed a whale and used the oil for the lamps.*** - 2 clauses"
   ]
  },
  {
   "cell_type": "code",
   "execution_count": 42,
   "metadata": {
    "collapsed": true
   },
   "outputs": [],
   "source": [
    "def count_clauses_every_sent(parsed_text):\n",
    "    sent_lst = re.findall('(1\\t.+?)\\n\\n', parsed_text, re.DOTALL)\n",
    "    verb_cl = {}\n",
    "    all_num_sent = count_sent(parsed_text)\n",
    "    for sent in range(1, all_num_sent+1):\n",
    "        verb_cl[sent] = []\n",
    "    num_sent = 1\n",
    "    for every_sent in sent_lst:\n",
    "        lst_str = every_sent.split('\\n')\n",
    "        for every_str in lst_str:\n",
    "            if ('VerbForm=Fin' in every_str):\n",
    "                sent_id = str(num_sent)\n",
    "                order, token, head, rel_type, pos = parsing_things(every_str)\n",
    "                if head not in verb_cl[int(sent_id)] and rel_type != 'conj':\n",
    "                    verb_cl[int(sent_id)].append([order, head])\n",
    "        num_sent += 1\n",
    "    for key, value in verb_cl.items():\n",
    "        if verb_cl[key] == []:\n",
    "            verb_cl[key] = [None]\n",
    "        verb_cl[key] = len(verb_cl[key])\n",
    "    return verb_cl"
   ]
  },
  {
   "cell_type": "code",
   "execution_count": 43,
   "metadata": {
    "collapsed": true
   },
   "outputs": [],
   "source": [
    "def count_clauses(parsed_text):\n",
    "    verb_cl = count_clauses_every_sent(parsed_text)\n",
    "    num_cl = 0\n",
    "    for key, value in verb_cl.items():\n",
    "        num_cl = num_cl + value\n",
    "    return num_cl"
   ]
  },
  {
   "cell_type": "code",
   "execution_count": 45,
   "metadata": {},
   "outputs": [],
   "source": [
    "#count_clauses(parsed_text)"
   ]
  },
  {
   "cell_type": "markdown",
   "metadata": {},
   "source": [
    "### 6. Количество T-юнитов"
   ]
  },
  {
   "cell_type": "code",
   "execution_count": 46,
   "metadata": {
    "collapsed": true
   },
   "outputs": [],
   "source": [
    "def find_subjects(sentence):\n",
    "    lst_str = sentence.split('\\n')\n",
    "    maybe_depends = []\n",
    "    for every_str in lst_str:\n",
    "        finding = re.search('PRON|NOUN', every_str)\n",
    "        if '_\\t_\\t_\\t_\\t_' not in every_str:\n",
    "            order, token, head, rel_type, pos = parsing_things(every_str)\n",
    "            if finding is not None:\n",
    "                maybe_depends.append(rel_type)\n",
    "    return maybe_depends"
   ]
  },
  {
   "cell_type": "code",
   "execution_count": 47,
   "metadata": {
    "collapsed": true
   },
   "outputs": [],
   "source": [
    "def count_tunits_every_sent(parsed_text):\n",
    "    verb_cl = count_clauses_every_sent(parsed_text)\n",
    "    sent_lst = re.findall('(1\\t.+?)\\n\\n', parsed_text, re.DOTALL)\n",
    "    for key, value in verb_cl.items():\n",
    "        subjects = find_subjects(sent_lst[key-1])\n",
    "        acl_relcl = subjects.count('acl:relcl')\n",
    "        acl = subjects.count('acl')\n",
    "        advcl = subjects.count('advcl')\n",
    "        depends = acl_relcl + acl + advcl\n",
    "        verb_cl[key] = verb_cl[key]-depends\n",
    "    return verb_cl"
   ]
  },
  {
   "cell_type": "code",
   "execution_count": 48,
   "metadata": {
    "collapsed": true
   },
   "outputs": [],
   "source": [
    "def count_tunits(parsed_text):\n",
    "    verb_cl = count_tunits_every_sent(parsed_text)\n",
    "    num_t = 0\n",
    "    for key, value in verb_cl.items():\n",
    "        num_t = num_t + value\n",
    "    return num_t"
   ]
  },
  {
   "cell_type": "code",
   "execution_count": 49,
   "metadata": {},
   "outputs": [
    {
     "data": {
      "text/plain": [
       "14"
      ]
     },
     "execution_count": 49,
     "metadata": {},
     "output_type": "execute_result"
    }
   ],
   "source": [
    "#count_tunits(parsed_text)"
   ]
  },
  {
   "cell_type": "markdown",
   "metadata": {},
   "source": [
    "### 7. Количество сложных T-юнитов"
   ]
  },
  {
   "cell_type": "code",
   "execution_count": 50,
   "metadata": {
    "collapsed": true
   },
   "outputs": [],
   "source": [
    "def count_complex_tunit(parsed_text):\n",
    "    return count_clauses(parsed_text)-count_tunits(parsed_text)"
   ]
  },
  {
   "cell_type": "code",
   "execution_count": 51,
   "metadata": {},
   "outputs": [
    {
     "data": {
      "text/plain": [
       "0"
      ]
     },
     "execution_count": 51,
     "metadata": {},
     "output_type": "execute_result"
    }
   ],
   "source": [
    "#count_complex_tunit(parsed_text)"
   ]
  },
  {
   "cell_type": "markdown",
   "metadata": {},
   "source": [
    "### 8. Количество сочинительных фраз"
   ]
  },
  {
   "cell_type": "markdown",
   "metadata": {},
   "source": [
    "#### Функция возвращает все сочинительные союзы (их вершины): ключи - номера предложений, значения - массив из вершин союзов."
   ]
  },
  {
   "cell_type": "code",
   "execution_count": 52,
   "metadata": {
    "collapsed": true
   },
   "outputs": [],
   "source": [
    "def find_all_coord(parsed_text):\n",
    "    sent_lst = re.findall('(1\\t.+?)\\n\\n', parsed_text, re.DOTALL)\n",
    "    all_num_sent = count_sent(parsed_text)\n",
    "    cp = {}\n",
    "    for sent in range(1, all_num_sent+1):\n",
    "        cp[sent] = []\n",
    "    num_sent = 1\n",
    "    for every_sent in sent_lst:\n",
    "        lst_str = every_sent.split('\\n')\n",
    "        for every_str in lst_str:\n",
    "            if '\\tcc\\t' in every_str:\n",
    "                order, token, head, rel_type, pos = parsing_things(every_str)\n",
    "                cp[int(num_sent)].append(head)\n",
    "        num_sent += 1\n",
    "    return cp"
   ]
  },
  {
   "cell_type": "markdown",
   "metadata": {},
   "source": [
    "#### Функция возвращает cловарь: ключи - номера предложений, значение - количество сочинительных фраз."
   ]
  },
  {
   "cell_type": "code",
   "execution_count": 53,
   "metadata": {
    "collapsed": true
   },
   "outputs": [],
   "source": [
    "def final_coord(parsed_text):\n",
    "    cp = find_all_coord(parsed_text)\n",
    "    sent_lst = re.findall('(1\\t.+?)\\n\\n', parsed_text, re.DOTALL)\n",
    "    all_num_sent = count_sent(parsed_text)\n",
    "    num_sent = 1\n",
    "    cp_final = {}\n",
    "    for sent in range(1, all_num_sent+1):\n",
    "        cp_final[sent] = 0\n",
    "    for every_sent in sent_lst:\n",
    "        #print('НОМЕР ПРЕДЛОЖЕНИЯ: ' + str(num_sent))\n",
    "        for every_coord_cp in cp[num_sent]:\n",
    "            #print('ВЕРШИНА СОЮЗА: ' + every_coord_cp)\n",
    "            finding2 = re.search('('+every_coord_cp+'\\t.+?\\tconj.+?)\\n', every_sent)\n",
    "            if finding2 is None:\n",
    "                continue\n",
    "            else:\n",
    "                order2, token2, head2, rel_type2, pos2 = parsing_things(finding2.group(0))\n",
    "                #print('2 СВЯЗУЮЩИЙ: ' + token2 + pos2)\n",
    "                finding1 = re.search('('+head2+'\\t.+?\\t[a-z]+.+?)\\n', every_sent)\n",
    "                order1, token1, head1, rel_type1, pos1 = parsing_things(finding1.group(0))\n",
    "                #print('1 СВЯЗУЮЩИЙ: ' + token1+pos1)\n",
    "                if pos2 == pos1:\n",
    "                    cp_final[num_sent] += 1 \n",
    "        num_sent += 1\n",
    "    return cp_final"
   ]
  },
  {
   "cell_type": "code",
   "execution_count": 54,
   "metadata": {
    "collapsed": true
   },
   "outputs": [],
   "source": [
    "def count_coord(parsed_text):\n",
    "    cp_final = final_coord(parsed_text)\n",
    "    num_cp = 0\n",
    "    for key, value in cp_final.items():\n",
    "        num_cp = num_cp + value\n",
    "    return num_cp"
   ]
  },
  {
   "cell_type": "code",
   "execution_count": 56,
   "metadata": {},
   "outputs": [],
   "source": [
    "#count_coord(parsed_text)"
   ]
  },
  {
   "cell_type": "markdown",
   "metadata": {},
   "source": [
    "### 9. Количество сложных именных групп"
   ]
  },
  {
   "cell_type": "markdown",
   "metadata": {},
   "source": [
    "Complex nominals comprise (i) nouns plus adjective, possessive, prepositional phrase, relative clause, participle, or appositive, (ii) nominal clauses, and (iii) gerunds and infinitives in subject position (Cooper 1976)"
   ]
  },
  {
   "cell_type": "markdown",
   "metadata": {},
   "source": [
    "#### Possessive"
   ]
  },
  {
   "cell_type": "code",
   "execution_count": 57,
   "metadata": {
    "collapsed": true
   },
   "outputs": [],
   "source": [
    "def find_possesive(parsed_text):\n",
    "    sent_lst = re.findall('(1\\t.+?)\\n\\n', parsed_text, re.DOTALL)\n",
    "    all_num_sent = count_sent(parsed_text)\n",
    "    poss = {}\n",
    "    for sent in range(1, all_num_sent+1):\n",
    "        poss[sent] = 0\n",
    "    num_sent = 1\n",
    "    for every_sent in sent_lst:\n",
    "        lst_str = every_sent.split('\\n')\n",
    "        for every_str in lst_str:\n",
    "            if 'nmod' in every_str:# включая nmod:poss\n",
    "                order, token, head, rel_type, pos = parsing_things(every_str)\n",
    "                poss[num_sent] = poss[num_sent] + 1\n",
    "        num_sent += 1\n",
    "    return poss"
   ]
  },
  {
   "cell_type": "markdown",
   "metadata": {},
   "source": [
    "#### Prepositional phrase"
   ]
  },
  {
   "cell_type": "code",
   "execution_count": 58,
   "metadata": {
    "collapsed": true
   },
   "outputs": [],
   "source": [
    "def find_prep(parsed_text):\n",
    "    sent_lst = re.findall('(1\\t.+?)\\n\\n', parsed_text, re.DOTALL)\n",
    "    all_num_sent = count_sent(parsed_text)\n",
    "    poss = {}\n",
    "    for sent in range(1, all_num_sent+1):\n",
    "        poss[sent] = 0\n",
    "    num_sent = 1\n",
    "    for every_sent in sent_lst:\n",
    "        lst_str = every_sent.split('\\n')\n",
    "        for every_str in lst_str:\n",
    "            if 'ADP' in every_str:\n",
    "                order, token, head, rel_type, pos = parsing_things(every_str)\n",
    "                poss[num_sent] = poss[num_sent] + 1\n",
    "        num_sent += 1\n",
    "    return poss"
   ]
  },
  {
   "cell_type": "markdown",
   "metadata": {},
   "source": [
    "#### Nouns plus adjective"
   ]
  },
  {
   "cell_type": "code",
   "execution_count": 59,
   "metadata": {
    "collapsed": true
   },
   "outputs": [],
   "source": [
    "def find_nouns(parsed_text):\n",
    "    sent_lst = re.findall('(1\\t.+?)\\n\\n', parsed_text, re.DOTALL)\n",
    "    all_num_sent = count_sent(parsed_text)\n",
    "    vp = {}\n",
    "    for sent in range(1, all_num_sent+1):\n",
    "        vp[sent] = []\n",
    "    num_sent = 1\n",
    "    for every_sent in sent_lst:\n",
    "        lst_str = every_sent.split('\\n')\n",
    "        for every_str in lst_str:\n",
    "            if 'NOUN' in every_str:\n",
    "                order, token, head, rel_type, pos = parsing_things(every_str)\n",
    "                vp[num_sent].append(order)\n",
    "        num_sent += 1\n",
    "    return vp"
   ]
  },
  {
   "cell_type": "code",
   "execution_count": 60,
   "metadata": {
    "collapsed": true
   },
   "outputs": [],
   "source": [
    "def find_adjs(parsed_text):\n",
    "    sent_lst = re.findall('(1\\t.+?)\\n\\n', parsed_text, re.DOTALL)\n",
    "    all_num_sent = count_sent(parsed_text)\n",
    "    vp = {}\n",
    "    for sent in range(1, all_num_sent+1):\n",
    "        vp[sent] = []\n",
    "    num_sent = 1\n",
    "    for every_sent in sent_lst:\n",
    "        lst_str = every_sent.split('\\n')\n",
    "        for every_str in lst_str:\n",
    "            if 'ADJ' in every_str:\n",
    "                order, token, head, rel_type, pos = parsing_things(every_str)\n",
    "                vp[num_sent].append(head)\n",
    "        num_sent += 1\n",
    "    return vp"
   ]
  },
  {
   "cell_type": "code",
   "execution_count": 61,
   "metadata": {
    "collapsed": true
   },
   "outputs": [],
   "source": [
    "def adj_noun(parsed_text):\n",
    "    adjs = find_adjs(parsed_text)\n",
    "    nouns = find_nouns(parsed_text)\n",
    "    adj_noun = {}\n",
    "    for key in adjs:\n",
    "        adj_noun[key] = len([i for i, j in zip(adjs[key], nouns[key]) if i == j])\n",
    "    return adj_noun"
   ]
  },
  {
   "cell_type": "markdown",
   "metadata": {},
   "source": [
    "#### Gerunds and infinitives in subject position"
   ]
  },
  {
   "cell_type": "code",
   "execution_count": 62,
   "metadata": {
    "collapsed": true
   },
   "outputs": [],
   "source": [
    "def find_ger_inf(parsed_text):\n",
    "    sent_lst = re.findall('(1\\t.+?)\\n\\n', parsed_text, re.DOTALL)\n",
    "    all_num_sent = count_sent(parsed_text)\n",
    "    poss = {}\n",
    "    for sent in range(1, all_num_sent+1):\n",
    "        poss[sent] = 0\n",
    "    num_sent = 1\n",
    "    for every_sent in sent_lst:\n",
    "        lst_str = every_sent.split('\\n')\n",
    "        for every_str in lst_str:\n",
    "            if 'VerbForm=Ger' in every_str or 'VerbForm=Inf' in every_str and 'xcomp' not in every_str:\n",
    "                order, token, head, rel_type, pos = parsing_things(every_str)\n",
    "                poss[num_sent] = poss[num_sent] + 1\n",
    "        num_sent += 1\n",
    "    return poss"
   ]
  },
  {
   "cell_type": "markdown",
   "metadata": {},
   "source": [
    "#### Nouns plus participle"
   ]
  },
  {
   "cell_type": "code",
   "execution_count": 63,
   "metadata": {
    "collapsed": true
   },
   "outputs": [],
   "source": [
    "def find_parts(parsed_text):\n",
    "    sent_lst = re.findall('(1\\t.+?)\\n\\n', parsed_text, re.DOTALL)\n",
    "    all_num_sent = count_sent(parsed_text)\n",
    "    vp = {}\n",
    "    for sent in range(1, all_num_sent+1):\n",
    "        vp[sent] = []\n",
    "    num_sent = 1\n",
    "    for every_sent in sent_lst:\n",
    "        lst_str = every_sent.split('\\n')\n",
    "        for every_str in lst_str:\n",
    "            if 'VerbForm=Part' in every_str:\n",
    "                order, token, head, rel_type, pos = parsing_things(every_str)\n",
    "                vp[num_sent].append(head)\n",
    "        num_sent += 1\n",
    "    return vp"
   ]
  },
  {
   "cell_type": "code",
   "execution_count": 64,
   "metadata": {
    "collapsed": true
   },
   "outputs": [],
   "source": [
    "def parts_noun(parsed_text):\n",
    "    parts = find_parts(parsed_text)\n",
    "    nouns = find_nouns(parsed_text)\n",
    "    adj_noun = {}\n",
    "    for key in parts:\n",
    "        adj_noun[key] = len([i for i, j in zip(parts[key], nouns[key]) if i == j])\n",
    "    return adj_noun"
   ]
  },
  {
   "cell_type": "code",
   "execution_count": 65,
   "metadata": {
    "collapsed": true
   },
   "outputs": [],
   "source": [
    "def count(d):\n",
    "    num = 0\n",
    "    for key, value in d.items():\n",
    "        num = num + value\n",
    "    return num"
   ]
  },
  {
   "cell_type": "code",
   "execution_count": 66,
   "metadata": {
    "collapsed": true
   },
   "outputs": [],
   "source": [
    "def count_np(parsed_text):\n",
    "    poss = count(find_possesive(parsed_text))\n",
    "    prep_ph = count(find_prep(parsed_text))\n",
    "    adj_n = count(adj_noun(parsed_text))\n",
    "    ger_inf = count(find_ger_inf(parsed_text))\n",
    "    part_n = count(parts_noun(parsed_text))\n",
    "    return poss, prep_ph, adj_n, ger_inf, part_n"
   ]
  },
  {
   "cell_type": "code",
   "execution_count": 69,
   "metadata": {},
   "outputs": [],
   "source": [
    "#count_np(parsed_text)"
   ]
  },
  {
   "cell_type": "markdown",
   "metadata": {},
   "source": [
    "### 10. Количество глагольных групп"
   ]
  },
  {
   "cell_type": "code",
   "execution_count": 70,
   "metadata": {
    "collapsed": true
   },
   "outputs": [],
   "source": [
    "def find_verbs(parsed_text):\n",
    "    sent_lst = re.findall('(1\\t.+?)\\n\\n', parsed_text, re.DOTALL)\n",
    "    all_num_sent = count_sent(parsed_text)\n",
    "    vp = {}\n",
    "    for sent in range(1, all_num_sent+1):\n",
    "        vp[sent] = []\n",
    "    num_sent = 1\n",
    "    for every_sent in sent_lst:\n",
    "        lst_str = every_sent.split('\\n')\n",
    "        for every_str in lst_str:\n",
    "            if 'VERB' in every_str or 'AUX' in every_str:\n",
    "                order, token, head, rel_type, pos = parsing_things(every_str)\n",
    "                vp[num_sent].append(order)\n",
    "        num_sent += 1\n",
    "    return vp"
   ]
  },
  {
   "cell_type": "code",
   "execution_count": 71,
   "metadata": {
    "collapsed": true
   },
   "outputs": [],
   "source": [
    "def find_vp(parsed_text):\n",
    "    vp = find_verbs(parsed_text)\n",
    "    sent_lst = re.findall('(1\\t.+?)\\n\\n', parsed_text, re.DOTALL)\n",
    "    all_num_sent = count_sent(parsed_text)\n",
    "    num_sent = 1\n",
    "    vp_final = {}\n",
    "    for sent in range(1, all_num_sent+1):\n",
    "        vp_final[sent] = 0\n",
    "    for every_sent in sent_lst:\n",
    "        #print('НОМЕР ПРЕДЛОЖЕНИЯ: ' + str(num_sent))\n",
    "        for every_vp in vp[num_sent]:\n",
    "            #print(every_vp)\n",
    "            finding_dep = re.findall('\\t'+every_vp+'\\t.+?\\t', every_sent)\n",
    "            finding_dep_2 = []\n",
    "            for every_finding_dep in finding_dep:\n",
    "                find_del = re.search('mark|nsubj|punct', every_finding_dep)\n",
    "                if find_del is None:\n",
    "                    finding_dep_2.append(every_finding_dep)\n",
    "            if finding_dep_2 != []:\n",
    "                vp_final[num_sent] += 1 \n",
    "        num_sent += 1\n",
    "    return vp_final"
   ]
  },
  {
   "cell_type": "code",
   "execution_count": 72,
   "metadata": {
    "collapsed": true
   },
   "outputs": [],
   "source": [
    "def count_vp(parsed_text):\n",
    "    vp_final = find_vp(parsed_text)\n",
    "    num_vp = 0\n",
    "    for key, value in vp_final.items():\n",
    "        num_vp = num_vp + value\n",
    "    return num_vp"
   ]
  },
  {
   "cell_type": "code",
   "execution_count": 73,
   "metadata": {},
   "outputs": [
    {
     "data": {
      "text/plain": [
       "14"
      ]
     },
     "execution_count": 73,
     "metadata": {},
     "output_type": "execute_result"
    }
   ],
   "source": [
    "#count_vp(parsed_text)"
   ]
  },
  {
   "cell_type": "markdown",
   "metadata": {},
   "source": [
    "### 11. Синтаксическая схожесть (части речи, леммы): среднее"
   ]
  },
  {
   "cell_type": "code",
   "execution_count": 74,
   "metadata": {
    "collapsed": true
   },
   "outputs": [],
   "source": [
    "def levenshtein(seq1, seq2):  \n",
    "    size_x = len(seq1) + 1\n",
    "    size_y = len(seq2) + 1\n",
    "    matrix = np.zeros ((size_x, size_y))\n",
    "    for x in range(size_x):\n",
    "        matrix [x, 0] = x\n",
    "    for y in range(size_y):\n",
    "        matrix [0, y] = y\n",
    "\n",
    "    for x in range(1, size_x):\n",
    "        for y in range(1, size_y):\n",
    "            if seq1[x-1] == seq2[y-1]:\n",
    "                matrix [x,y] = min(\n",
    "                    matrix[x-1, y] + 1,\n",
    "                    matrix[x-1, y-1],\n",
    "                    matrix[x, y-1] + 1\n",
    "                )\n",
    "            else:\n",
    "                matrix [x,y] = min(\n",
    "                    matrix[x-1,y] + 1,\n",
    "                    matrix[x-1,y-1] + 1,\n",
    "                    matrix[x,y-1] + 1\n",
    "                )\n",
    "    return (matrix[size_x - 1, size_y - 1])"
   ]
  },
  {
   "cell_type": "code",
   "execution_count": 75,
   "metadata": {},
   "outputs": [],
   "source": [
    "def pos_lemma(parsed_text):\n",
    "    sent_lst = re.findall('(1\\t.+?)\\n\\n', parsed_text, re.DOTALL)\n",
    "    d = {}\n",
    "    for x in range(1, len(sent_lst)+1):\n",
    "        d[x] = [[], []]\n",
    "    #print(d[1][0])\n",
    "    i = 1\n",
    "    for sent in sent_lst:\n",
    "        lines = sent.split('\\n')\n",
    "        for line in lines:\n",
    "            #print(line)\n",
    "            pos = re.search('.+?\\t.+?\\t.+?\\t(.+?)\\t', line)\n",
    "            lemma = re.search('.+?\\t.+?\\t(.+?)\\t', line)\n",
    "            if pos != None and lemma != None:\n",
    "                d[i][0].append(pos.group(1))\n",
    "                d[i][1].append(lemma.group(1))\n",
    "            #print(pos)\n",
    "        i += 1\n",
    "    return d"
   ]
  },
  {
   "cell_type": "code",
   "execution_count": 90,
   "metadata": {
    "collapsed": true
   },
   "outputs": [],
   "source": [
    "def simularity(parsed_text):\n",
    "    d = pos_lemma(parsed_text)\n",
    "    #print(len(d))\n",
    "    dd = {}\n",
    "    for x in range(1, len(d)+1):\n",
    "        dd[x] = [[], []]\n",
    "    i = 1\n",
    "    for key in d:\n",
    "        d[key][0]\n",
    "        for key2 in d:\n",
    "            #print(levenshtein(d[key][0], d[key2][0]))\n",
    "            if i != key2:\n",
    "                dd[i][0].append(levenshtein(d[key][0], d[key2][0]))\n",
    "                dd[i][1].append(levenshtein(d[key][1], d[key2][1]))\n",
    "        i += 1\n",
    "    print(dd)\n",
    "    for every in dd:\n",
    "        dd[every][0] = mean(dd[every][0])\n",
    "        dd[every][1] = mean(dd[every][1])\n",
    "    return dd"
   ]
  },
  {
   "cell_type": "code",
   "execution_count": 91,
   "metadata": {
    "collapsed": true
   },
   "outputs": [],
   "source": [
    "def pos_sim_min(parsed_text):\n",
    "    sim = simularity(parsed_text)\n",
    "    pos_min = []\n",
    "    for sent in sim:\n",
    "        pos_min.append(sim[sent][0])\n",
    "    return round(mean(pos_min), 2) "
   ]
  },
  {
   "cell_type": "code",
   "execution_count": 92,
   "metadata": {
    "collapsed": true
   },
   "outputs": [],
   "source": [
    "def lemma_sim_min(parsed_text):\n",
    "    sim = simularity(parsed_text)\n",
    "    lemma_min = []\n",
    "    print(sim)\n",
    "    for sent in sim:\n",
    "        lemma_min.append(sim[sent][1])\n",
    "    return round(mean(lemma_min), 2) "
   ]
  },
  {
   "cell_type": "code",
   "execution_count": 94,
   "metadata": {},
   "outputs": [],
   "source": [
    "#simularity(parsed_text)"
   ]
  },
  {
   "cell_type": "markdown",
   "metadata": {},
   "source": [
    "### 12. Среднее количество токенов перед корнем предложения"
   ]
  },
  {
   "cell_type": "code",
   "execution_count": 80,
   "metadata": {
    "collapsed": true
   },
   "outputs": [],
   "source": [
    "def tokens_befor_root(parsed_text):\n",
    "    sent_lst = re.findall('(1\\t.+?)\\n\\n', parsed_text, re.DOTALL)\n",
    "    length = []\n",
    "    for sent in sent_lst:\n",
    "        lines = sent.split('\\n')\n",
    "        i = 0\n",
    "        for line in lines:\n",
    "            rel_type = re.search('.+?\\t.+?\\t.+?\\t.+?\\t.+?\\t.+?\\t.+?\\t(.+?)\\t', line)\n",
    "            if rel_type is not None:\n",
    "                if rel_type.group(1) == 'root':\n",
    "                    break\n",
    "            i += 1\n",
    "        length.append(i)\n",
    "    return round(mean(length), 2)"
   ]
  },
  {
   "cell_type": "code",
   "execution_count": 81,
   "metadata": {},
   "outputs": [
    {
     "data": {
      "text/plain": [
       "6.29"
      ]
     },
     "execution_count": 81,
     "metadata": {},
     "output_type": "execute_result"
    }
   ],
   "source": [
    "#tokens_befor_root(parsed_text)"
   ]
  },
  {
   "cell_type": "markdown",
   "metadata": {},
   "source": [
    "### 13. Средняя длина предложения"
   ]
  },
  {
   "cell_type": "code",
   "execution_count": 82,
   "metadata": {},
   "outputs": [],
   "source": [
    "def mean_len_sent(parsed_text):\n",
    "    sent_lst = re.findall('(1\\t.+?)\\n\\n', parsed_text, re.DOTALL)\n",
    "    length = []\n",
    "    for sent in sent_lst:\n",
    "        lines = sent.split('\\n')\n",
    "        i = 0\n",
    "        for line in lines:\n",
    "            pos = re.search('.+?\\t.+?\\t.+?\\t(.+?)\\t', line)\n",
    "            if pos is not None:\n",
    "                if pos.group(1) != 'PUNCT':\n",
    "                    i += 1\n",
    "        length.append(i)\n",
    "    return round(mean(length), 2)"
   ]
  },
  {
   "cell_type": "code",
   "execution_count": 83,
   "metadata": {},
   "outputs": [
    {
     "data": {
      "text/plain": [
       "23.29"
      ]
     },
     "execution_count": 83,
     "metadata": {},
     "output_type": "execute_result"
    }
   ],
   "source": [
    "#mean_len_sent(parsed_text)"
   ]
  },
  {
   "cell_type": "code",
   "execution_count": 84,
   "metadata": {
    "collapsed": true
   },
   "outputs": [],
   "source": [
    "parsed_text = get_parsed_text('english-partut-ud-2.0-170801.udpipe', '/Users/irene/Desktop/Курсовая/esseys/ZEv_13_1.txt')"
   ]
  },
  {
   "cell_type": "code",
   "execution_count": 85,
   "metadata": {},
   "outputs": [
    {
     "data": {
      "text/plain": [
       "'# newdoc\\n# newpar\\n# sent_id = 1\\n# text = The charts below give information about travel to and from the UK and about the most popular countries for UK residents to visit.\\n1\\tThe\\tthe\\tDET\\tRD\\tDefinite=Def|PronType=Art\\t2\\tdet\\t_\\t_\\n2\\tcharts\\tchart\\tNOUN\\tS\\tNumber=Plur\\t4\\tnsubj\\t_\\t_\\n3\\tbelow\\tbelow\\tADV\\tB\\t_\\t4\\tadvmod\\t_\\t_\\n4\\tgive\\tgive\\tVERB\\tV\\tVerbForm=Inf\\t0\\troot\\t_\\t_\\n5\\tinformation\\tinformation\\tNOUN\\tS\\tNumber=Sing\\t4\\tobj\\t_\\t_\\n6\\tabout\\tabout\\tADP\\tE\\t_\\t7\\tcase\\t_\\t_\\n7\\ttravel\\ttravel\\tNOUN\\tS\\tNumber=Sing\\t5\\tnmod\\t_\\t_\\n8\\tto\\tto\\tADP\\tE\\t_\\t12\\tcase\\t_\\t_\\n9\\tand\\tand\\tCCONJ\\tCC\\t_\\t12\\tcc\\t_\\t_\\n10\\tfrom\\tfrom\\tADP\\tE\\t_\\t12\\tcase\\t_\\t_\\n11\\tthe\\tthe\\tDET\\tRD\\tDefinite=Def|PronType=Art\\t12\\tdet\\t_\\t_\\n12\\tUK\\tUK\\tPROPN\\tSP\\t_\\t4\\tobl\\t_\\t_\\n13\\tand\\tand\\tCCONJ\\tCC\\t_\\t18\\tcc\\t_\\t_\\n14\\tabout\\tabout\\tADP\\tE\\t_\\t18\\tcase\\t_\\t_\\n15\\tthe\\tthe\\tDET\\tRD\\tDefinite=Def|PronType=Art\\t18\\tdet\\t_\\t_\\n16\\tmost\\tmost\\tADV\\tB\\t_\\t17\\tadvmod\\t_\\t_\\n17\\tpopular\\tpopular\\tADJ\\tA\\tDegree=Pos\\t18\\tamod\\t_\\t_\\n18\\tcountries\\tcountry\\tNOUN\\tS\\tNumber=Plur\\t12\\tconj\\t_\\t_\\n19\\tfor\\tfor\\tADP\\tE\\t_\\t21\\tcase\\t_\\t_\\n20\\tUK\\tUK\\tPROPN\\tSP\\t_\\t21\\tnmod\\t_\\t_\\n21\\tresidents\\tresident\\tNOUN\\tS\\tNumber=Plur\\t18\\tnmod\\t_\\t_\\n22\\tto\\tto\\tPART\\tPART\\t_\\t23\\tmark\\t_\\t_\\n23\\tvisit\\tvisit\\tVERB\\tV\\tVerbForm=Inf\\t18\\tacl\\t_\\tSpaceAfter=No\\n24\\t.\\t.\\tPUNCT\\tFS\\t_\\t4\\tpunct\\t_\\tSpacesAfter=\\\\s\\\\n\\n\\n'"
      ]
     },
     "execution_count": 85,
     "metadata": {},
     "output_type": "execute_result"
    }
   ],
   "source": [
    "parsed_text"
   ]
  },
  {
   "cell_type": "code",
   "execution_count": null,
   "metadata": {
    "collapsed": true
   },
   "outputs": [],
   "source": []
  }
 ],
 "metadata": {
  "kernelspec": {
   "display_name": "Python 3",
   "language": "python",
   "name": "python3"
  },
  "language_info": {
   "codemirror_mode": {
    "name": "ipython",
    "version": 3
   },
   "file_extension": ".py",
   "mimetype": "text/x-python",
   "name": "python",
   "nbconvert_exporter": "python",
   "pygments_lexer": "ipython3",
   "version": "3.6.3"
  }
 },
 "nbformat": 4,
 "nbformat_minor": 2
}

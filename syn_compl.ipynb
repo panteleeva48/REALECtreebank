{
 "cells": [
  {
   "cell_type": "markdown",
   "metadata": {},
   "source": [
    "# Критерии syntactic complexity"
   ]
  },
  {
   "cell_type": "markdown",
   "metadata": {},
   "source": [
    "### 1. Количество слов"
   ]
  },
  {
   "cell_type": "code",
   "execution_count": 108,
   "metadata": {
    "collapsed": true
   },
   "outputs": [],
   "source": [
    "from model import Model\n",
    "import re\n",
    "import copy\n",
    "import numpy as np\n",
    "from spellchecker import check_spelling\n",
    "from statistics import mean"
   ]
  },
  {
   "cell_type": "markdown",
   "metadata": {},
   "source": [
    "#### Функция, которая добавляет пробелы после .?!"
   ]
  },
  {
   "cell_type": "code",
   "execution_count": 109,
   "metadata": {
    "collapsed": true
   },
   "outputs": [],
   "source": [
    "def space(string):\n",
    "    string = re.sub('([a-zA-Z]| )([\\.\\?!])', '\\\\1\\\\2 ', string)\n",
    "    string = re.sub(': ', ' : ', string)\n",
    "    string = re.sub('; ', ' ; ', string)\n",
    "    string = re.sub('  +', ' ', string)\n",
    "    return string"
   ]
  },
  {
   "cell_type": "markdown",
   "metadata": {},
   "source": [
    "#### Функция, которая парсит текст udpipe. На выходе получается строка с форматом 'conllu'."
   ]
  },
  {
   "cell_type": "code",
   "execution_count": 110,
   "metadata": {
    "collapsed": true
   },
   "outputs": [],
   "source": [
    "def get_parsed_text(model_name, text_path):\n",
    "    model = Model(model_name)\n",
    "    text = open(text_path, 'r')\n",
    "    text = text.read()\n",
    "    text = check_spelling(text)\n",
    "    text = space(text)\n",
    "    sentences = model.tokenize(text)\n",
    "    for s in sentences:\n",
    "        model.tag(s)\n",
    "        model.parse(s)\n",
    "    output = model.write(sentences, \"conllu\")\n",
    "    return output"
   ]
  },
  {
   "cell_type": "markdown",
   "metadata": {},
   "source": [
    "#### Функция, которая считает токены в тексте. Не считаются знаки препинания."
   ]
  },
  {
   "cell_type": "code",
   "execution_count": 111,
   "metadata": {
    "collapsed": true
   },
   "outputs": [],
   "source": [
    "def count_tokens(parsed_text):\n",
    "    num_tokens = 0\n",
    "    lst_str = parsed_text.split('\\n')\n",
    "    for every_str in lst_str:\n",
    "        #print(every_str)\n",
    "        if ('PUNCT' not in every_str) and (every_str.startswith('#') == False) and (every_str != ''):\n",
    "            #print(every_str)\n",
    "            num_tokens += 1\n",
    "            #print(num_tokens)\n",
    "    return num_tokens"
   ]
  },
  {
   "cell_type": "code",
   "execution_count": 112,
   "metadata": {},
   "outputs": [],
   "source": [
    "#count_tokens(parsed_text)"
   ]
  },
  {
   "cell_type": "markdown",
   "metadata": {},
   "source": [
    "### 2. Глубина дерева"
   ]
  },
  {
   "cell_type": "markdown",
   "metadata": {},
   "source": [
    "#### Функция, которая считает глубину дерева."
   ]
  },
  {
   "cell_type": "code",
   "execution_count": 113,
   "metadata": {
    "collapsed": true
   },
   "outputs": [],
   "source": [
    "def order_head(parsed_sent):\n",
    "    sent_lst = parsed_sent.split('\\n')\n",
    "    #print(sent_lst[0])\n",
    "    order_head_lst = []\n",
    "    for token in sent_lst:\n",
    "        token = re.sub(r'\\|', '$', token)\n",
    "        if '\\t_\\t_\\t_\\t_\\t_' not in token:\n",
    "            order = re.search('([0-9]+)\\t', token).group(1)\n",
    "        #print(order)\n",
    "            head = re.search('.+\\t.+\\t([0-9]+)', token).group(1)\n",
    "        #print(head)\n",
    "            token = re.search('^[0-9]+\\t(.+?)\\t', token).group(1)\n",
    "            order_head_lst.append((int(order), int(head), token))\n",
    "    return order_head_lst"
   ]
  },
  {
   "cell_type": "code",
   "execution_count": 114,
   "metadata": {
    "collapsed": true
   },
   "outputs": [],
   "source": [
    "def find_root(order_head_lst):\n",
    "    for every_order_head in order_head_lst:\n",
    "        if every_order_head[1] == 0:\n",
    "            root = every_order_head\n",
    "    return root"
   ]
  },
  {
   "cell_type": "code",
   "execution_count": 115,
   "metadata": {
    "collapsed": true
   },
   "outputs": [],
   "source": [
    "def root_children(parsed_sent):\n",
    "    order_head_lst = order_head(parsed_sent)\n",
    "    #print(order_head_lst)\n",
    "    root = find_root(order_head_lst)\n",
    "    chains = []\n",
    "    for every_order_head in order_head_lst:\n",
    "        if every_order_head[1] == root[0]:\n",
    "            chains.append([root[0], every_order_head[0]])\n",
    "    return chains, order_head_lst"
   ]
  },
  {
   "cell_type": "code",
   "execution_count": 116,
   "metadata": {
    "collapsed": true
   },
   "outputs": [],
   "source": [
    "def chains_heads(chains, order_head_lst):\n",
    "    length_chains = len(chains)\n",
    "    i = 0\n",
    "    for chain in chains:\n",
    "        if i < length_chains:\n",
    "            heads = []\n",
    "            if 'stop' not in chain:\n",
    "                for order_head in order_head_lst:\n",
    "                    if chain[-1] == order_head[1]:\n",
    "                        heads.append(order_head[0])\n",
    "                if heads == [] and 'stop' not in chain:\n",
    "                    chain.append('stop')\n",
    "                else:\n",
    "                    ind_head = 0\n",
    "                    for head in heads:\n",
    "                        new_chain = copy.copy(chain)[:-1]\n",
    "                        if ind_head == 0:\n",
    "                            chain.append(head)\n",
    "                            ind_head += 1\n",
    "                        else:\n",
    "                            new_chain.append(head)\n",
    "                            chains.append(new_chain)\n",
    "        i += 1\n",
    "    while all(item[-1] == 'stop' for item in chains) is False:\n",
    "        chains_heads(chains, order_head_lst)\n",
    "    return chains"
   ]
  },
  {
   "cell_type": "code",
   "execution_count": 117,
   "metadata": {
    "collapsed": true
   },
   "outputs": [],
   "source": [
    "def count_max_depth_for_one_sent(sent):\n",
    "    chains, order_head_lst = root_children(sent)\n",
    "    chains = chains_heads(chains, order_head_lst)\n",
    "    depths = []\n",
    "    #print(chains)\n",
    "    for chain in chains:\n",
    "        depths.append(len(chain)-2)\n",
    "    return max(depths)"
   ]
  },
  {
   "cell_type": "code",
   "execution_count": 118,
   "metadata": {
    "collapsed": true
   },
   "outputs": [],
   "source": [
    "def count_depths_for_one_text(parsed_text):\n",
    "    sent_lst = re.findall('(1\\t.+?)\\n\\n', parsed_text, re.DOTALL)\n",
    "    max_depths = []\n",
    "    for sent in sent_lst:\n",
    "        #print(sent)\n",
    "        max_depths.append(count_max_depth_for_one_sent(sent))\n",
    "    return max_depths"
   ]
  },
  {
   "cell_type": "code",
   "execution_count": 119,
   "metadata": {
    "collapsed": true
   },
   "outputs": [],
   "source": [
    "def av_depth_for_one_text(parsed_text):\n",
    "    max_depths = count_depths_for_one_text(parsed_text)\n",
    "    return round(np.mean(max_depths), 2)"
   ]
  },
  {
   "cell_type": "code",
   "execution_count": 120,
   "metadata": {
    "collapsed": true
   },
   "outputs": [],
   "source": [
    "def max_depth_for_one_text(parsed_text):\n",
    "    max_depths = count_depths_for_one_text(parsed_text)\n",
    "    return round(np.max(max_depths),2)"
   ]
  },
  {
   "cell_type": "code",
   "execution_count": 121,
   "metadata": {
    "collapsed": true
   },
   "outputs": [],
   "source": [
    "def min_depth_for_one_text(parsed_text):\n",
    "    max_depths = count_depths_for_one_text(parsed_text)\n",
    "    return round(np.min(max_depths), 2)"
   ]
  },
  {
   "cell_type": "code",
   "execution_count": 122,
   "metadata": {
    "collapsed": true
   },
   "outputs": [],
   "source": [
    "#av_depth_for_one_text(parsed_text)"
   ]
  },
  {
   "cell_type": "code",
   "execution_count": 123,
   "metadata": {
    "collapsed": true
   },
   "outputs": [],
   "source": [
    "#max_depth_for_one_text(parsed_text)"
   ]
  },
  {
   "cell_type": "code",
   "execution_count": 124,
   "metadata": {
    "collapsed": true
   },
   "outputs": [],
   "source": [
    "#min_depth_for_one_text(parsed_text)"
   ]
  },
  {
   "cell_type": "markdown",
   "metadata": {},
   "source": [
    "### 3. Количество зависимых клауз: acl, acl:relcl, advcl"
   ]
  },
  {
   "cell_type": "code",
   "execution_count": 125,
   "metadata": {
    "collapsed": true
   },
   "outputs": [],
   "source": [
    "# Возвращает словарь, где ключ - номер предложения, значения - массив [кол-во acl, кол-во acl:relcl, кол-во advcl]\n",
    "def count_dependent_sent(parsed_text):\n",
    "    sent_lst = re.findall('(1\\t.+?)\\n\\n', parsed_text, re.DOTALL)\n",
    "    num_sent = 1\n",
    "    d_sent = {}\n",
    "    for sent in sent_lst:\n",
    "        acl = len(re.findall('\\t(acl)\\t',sent))\n",
    "        relcl = len(re.findall('\\t(acl:relcl)\\t',sent))\n",
    "        advcl = len(re.findall('\\t(advcl)\\t',sent))\n",
    "        d_sent[num_sent] = [acl, relcl, advcl]\n",
    "        num_sent += 1\n",
    "    return d_sent"
   ]
  },
  {
   "cell_type": "code",
   "execution_count": 126,
   "metadata": {
    "collapsed": true
   },
   "outputs": [],
   "source": [
    "def count_dependent_sent_text(parsed_text):\n",
    "    d_sent = count_dependent_sent(parsed_text)\n",
    "    acl = 0\n",
    "    rel_cl = 0\n",
    "    advcl = 0\n",
    "    for sent in d_sent:\n",
    "        acl = acl + d_sent[sent][0]\n",
    "        rel_cl = rel_cl + d_sent[sent][1]\n",
    "        advcl = advcl + d_sent[sent][2]\n",
    "    return acl, rel_cl, advcl"
   ]
  },
  {
   "cell_type": "code",
   "execution_count": 127,
   "metadata": {
    "collapsed": true
   },
   "outputs": [],
   "source": [
    "def count_acl(parsed_text):\n",
    "    acl = count_dependent_sent_text(parsed_text)[0]\n",
    "    return acl"
   ]
  },
  {
   "cell_type": "code",
   "execution_count": 128,
   "metadata": {
    "collapsed": true
   },
   "outputs": [],
   "source": [
    "def count_acl_relcl(parsed_text):\n",
    "    acl_relcl = count_dependent_sent_text(parsed_text)[1]\n",
    "    return acl_relcl"
   ]
  },
  {
   "cell_type": "code",
   "execution_count": 129,
   "metadata": {
    "collapsed": true
   },
   "outputs": [],
   "source": [
    "def count_advcl(parsed_text):\n",
    "    advcl = count_dependent_sent_text(parsed_text)[2]\n",
    "    return advcl"
   ]
  },
  {
   "cell_type": "code",
   "execution_count": 131,
   "metadata": {},
   "outputs": [],
   "source": [
    "#count_acl(parsed_text)"
   ]
  },
  {
   "cell_type": "code",
   "execution_count": 133,
   "metadata": {},
   "outputs": [],
   "source": [
    "#count_acl_relcl(parsed_text)"
   ]
  },
  {
   "cell_type": "code",
   "execution_count": 134,
   "metadata": {},
   "outputs": [],
   "source": [
    "#count_advcl(parsed_text)"
   ]
  },
  {
   "cell_type": "markdown",
   "metadata": {},
   "source": [
    "### 4. Количество предложений"
   ]
  },
  {
   "cell_type": "code",
   "execution_count": 135,
   "metadata": {
    "collapsed": true
   },
   "outputs": [],
   "source": [
    "def count_sent(parsed_text):\n",
    "    sent_lst = re.findall('(1\\t.+?)\\n\\n', parsed_text, re.DOTALL)\n",
    "    return len(sent_lst)"
   ]
  },
  {
   "cell_type": "code",
   "execution_count": 136,
   "metadata": {},
   "outputs": [],
   "source": [
    "#count_sent(parsed_text)"
   ]
  },
  {
   "cell_type": "markdown",
   "metadata": {
    "collapsed": true
   },
   "source": [
    "### 5. Количество клауз"
   ]
  },
  {
   "cell_type": "code",
   "execution_count": 137,
   "metadata": {
    "collapsed": true
   },
   "outputs": [],
   "source": [
    "def parsing_things(string):\n",
    "    token = re.search('[0-9]+\\t(.+?)\\t', string).group(1)\n",
    "    order = re.search('([0-9]+)\\t', string).group(1)\n",
    "    head = re.search('\\t([0-9]+)\\t', string).group(1)\n",
    "    rel_type = re.search('\\t[0-9]+\\t(.+?)\\t', string).group(1)\n",
    "    pos = re.search('[0-9]+\\t.+?\\t.+?\\t(.+?)\\t', string).group(1)\n",
    "    #grammar = re.search('[VERB|AUX]\\t.+?\\t(.+?)\\t', every_str).group(1)\n",
    "    return order, token, head, rel_type, pos"
   ]
  },
  {
   "cell_type": "markdown",
   "metadata": {},
   "source": [
    "#### Функция, которая возвращает словарь, где ключи - номера предложений, а значения - количество клауз."
   ]
  },
  {
   "cell_type": "markdown",
   "metadata": {},
   "source": [
    "***There was a woman next door, and she was a singer.*** - 2 T-units, 2 clauses\n",
    "\n",
    "***There was a woman next door who was a singer.*** - 1 T-units, 2 clauses\n",
    "\n",
    "***But while they were trying they killed a whale and used the oil for the lamps.*** - 2 clauses"
   ]
  },
  {
   "cell_type": "code",
   "execution_count": 138,
   "metadata": {
    "collapsed": true
   },
   "outputs": [],
   "source": [
    "def count_clauses_every_sent(parsed_text):\n",
    "    sent_lst = re.findall('(1\\t.+?)\\n\\n', parsed_text, re.DOTALL)\n",
    "    verb_cl = {}\n",
    "    all_num_sent = count_sent(parsed_text)\n",
    "    for sent in range(1, all_num_sent+1):\n",
    "        verb_cl[sent] = []\n",
    "    num_sent = 1\n",
    "    for every_sent in sent_lst:\n",
    "        lst_str = every_sent.split('\\n')\n",
    "        for every_str in lst_str:\n",
    "            if ('VerbForm=Fin' in every_str):\n",
    "                sent_id = str(num_sent)\n",
    "                order, token, head, rel_type, pos = parsing_things(every_str)\n",
    "                if head not in verb_cl[int(sent_id)] and rel_type != 'conj':\n",
    "                    verb_cl[int(sent_id)].append([order, head])\n",
    "        num_sent += 1\n",
    "    for key, value in verb_cl.items():\n",
    "        if verb_cl[key] == []:\n",
    "            verb_cl[key] = [None]\n",
    "        verb_cl[key] = len(verb_cl[key])\n",
    "    return verb_cl"
   ]
  },
  {
   "cell_type": "code",
   "execution_count": 139,
   "metadata": {
    "collapsed": true
   },
   "outputs": [],
   "source": [
    "def count_clauses(parsed_text):\n",
    "    verb_cl = count_clauses_every_sent(parsed_text)\n",
    "    num_cl = 0\n",
    "    #print(verb_cl)\n",
    "    for key, value in verb_cl.items():\n",
    "        num_cl = num_cl + value\n",
    "    return num_cl"
   ]
  },
  {
   "cell_type": "code",
   "execution_count": 140,
   "metadata": {
    "collapsed": true
   },
   "outputs": [],
   "source": [
    "#count_clauses(parsed_text)"
   ]
  },
  {
   "cell_type": "markdown",
   "metadata": {},
   "source": [
    "### 6. Количество T-юнитов"
   ]
  },
  {
   "cell_type": "code",
   "execution_count": 141,
   "metadata": {
    "collapsed": true
   },
   "outputs": [],
   "source": [
    "def find_subjects(sentence):\n",
    "    lst_str = sentence.split('\\n')\n",
    "    maybe_depends = []\n",
    "    for every_str in lst_str:\n",
    "        finding = re.search('PRON|NOUN', every_str)\n",
    "        if '_\\t_\\t_\\t_\\t_' not in every_str:\n",
    "            order, token, head, rel_type, pos = parsing_things(every_str)\n",
    "            if finding is not None:\n",
    "                maybe_depends.append(rel_type)\n",
    "    return maybe_depends"
   ]
  },
  {
   "cell_type": "code",
   "execution_count": 142,
   "metadata": {
    "collapsed": true
   },
   "outputs": [],
   "source": [
    "def count_tunits_every_sent(parsed_text):\n",
    "    verb_cl = count_clauses_every_sent(parsed_text)\n",
    "    sent_lst = re.findall('(1\\t.+?)\\n\\n', parsed_text, re.DOTALL)\n",
    "    for key, value in verb_cl.items():\n",
    "        subjects = find_subjects(sent_lst[key-1])\n",
    "        acl_relcl = subjects.count('acl:relcl')\n",
    "        acl = subjects.count('acl')\n",
    "        advcl = subjects.count('advcl')\n",
    "        depends = acl_relcl + acl + advcl\n",
    "        verb_cl[key] = verb_cl[key]-depends\n",
    "    return verb_cl"
   ]
  },
  {
   "cell_type": "code",
   "execution_count": 143,
   "metadata": {
    "collapsed": true
   },
   "outputs": [],
   "source": [
    "def count_tunits(parsed_text):\n",
    "    verb_cl = count_tunits_every_sent(parsed_text)\n",
    "    num_t = 0\n",
    "    #print(verb_cl)\n",
    "    for key, value in verb_cl.items():\n",
    "        num_t = num_t + value\n",
    "    return num_t"
   ]
  },
  {
   "cell_type": "code",
   "execution_count": 144,
   "metadata": {},
   "outputs": [],
   "source": [
    "#count_tunits(parsed_text)"
   ]
  },
  {
   "cell_type": "markdown",
   "metadata": {},
   "source": [
    "### 7. Количество сложных T-юнитов"
   ]
  },
  {
   "cell_type": "code",
   "execution_count": 145,
   "metadata": {
    "collapsed": true
   },
   "outputs": [],
   "source": [
    "def count_complex_tunit(parsed_text):\n",
    "    return count_clauses(parsed_text)-count_tunits(parsed_text)"
   ]
  },
  {
   "cell_type": "code",
   "execution_count": 146,
   "metadata": {},
   "outputs": [],
   "source": [
    "#count_complex_tunit(parsed_text)"
   ]
  },
  {
   "cell_type": "markdown",
   "metadata": {},
   "source": [
    "### 8. Количество сочинительных фраз"
   ]
  },
  {
   "cell_type": "markdown",
   "metadata": {},
   "source": [
    "#### Функция возвращает все сочинительные союзы (их вершины): ключи - номера предложений, значения - массив из вершин союзов."
   ]
  },
  {
   "cell_type": "code",
   "execution_count": 147,
   "metadata": {
    "collapsed": true
   },
   "outputs": [],
   "source": [
    "def find_all_coord(parsed_text):\n",
    "    sent_lst = re.findall('(1\\t.+?)\\n\\n', parsed_text, re.DOTALL)\n",
    "    all_num_sent = count_sent(parsed_text)\n",
    "    cp = {}\n",
    "    for sent in range(1, all_num_sent+1):\n",
    "        cp[sent] = []\n",
    "    num_sent = 1\n",
    "    for every_sent in sent_lst:\n",
    "        lst_str = every_sent.split('\\n')\n",
    "        for every_str in lst_str:\n",
    "            if '\\tcc\\t' in every_str:\n",
    "                order, token, head, rel_type, pos = parsing_things(every_str)\n",
    "                cp[int(num_sent)].append(head)\n",
    "        num_sent += 1\n",
    "    return cp"
   ]
  },
  {
   "cell_type": "markdown",
   "metadata": {},
   "source": [
    "#### Функция возвращает cловарь: ключи - номера предложений, значение - количество сочинительных фраз."
   ]
  },
  {
   "cell_type": "code",
   "execution_count": 148,
   "metadata": {
    "collapsed": true
   },
   "outputs": [],
   "source": [
    "def final_coord(parsed_text):\n",
    "    cp = find_all_coord(parsed_text)\n",
    "    sent_lst = re.findall('(1\\t.+?)\\n\\n', parsed_text, re.DOTALL)\n",
    "    all_num_sent = count_sent(parsed_text)\n",
    "    num_sent = 1\n",
    "    cp_final = {}\n",
    "    for sent in range(1, all_num_sent+1):\n",
    "        cp_final[sent] = 0\n",
    "    for every_sent in sent_lst:\n",
    "        #print('НОМЕР ПРЕДЛОЖЕНИЯ: ' + str(num_sent))\n",
    "        for every_coord_cp in cp[num_sent]:\n",
    "            #print('ВЕРШИНА СОЮЗА: ' + every_coord_cp)\n",
    "            finding2 = re.search('('+every_coord_cp+'\\t.+?\\tconj.+?)\\n', every_sent)\n",
    "            if finding2 is None:\n",
    "                continue\n",
    "            else:\n",
    "                order2, token2, head2, rel_type2, pos2 = parsing_things(finding2.group(0))\n",
    "                #print('2 СВЯЗУЮЩИЙ: ' + token2 + pos2)\n",
    "                finding1 = re.search('('+head2+'\\t.+?\\t[a-z]+.+?)\\n', every_sent)\n",
    "                order1, token1, head1, rel_type1, pos1 = parsing_things(finding1.group(0))\n",
    "                #print('1 СВЯЗУЮЩИЙ: ' + token1+pos1)\n",
    "                if pos2 == pos1:\n",
    "                    cp_final[num_sent] += 1 \n",
    "        num_sent += 1\n",
    "    return cp_final"
   ]
  },
  {
   "cell_type": "code",
   "execution_count": 149,
   "metadata": {
    "collapsed": true
   },
   "outputs": [],
   "source": [
    "def count_coord(parsed_text):\n",
    "    cp_final = final_coord(parsed_text)\n",
    "    num_cp = 0\n",
    "    for key, value in cp_final.items():\n",
    "        num_cp = num_cp + value\n",
    "    return num_cp"
   ]
  },
  {
   "cell_type": "code",
   "execution_count": 150,
   "metadata": {
    "collapsed": true
   },
   "outputs": [],
   "source": [
    "#count_coord(parsed_text)"
   ]
  },
  {
   "cell_type": "markdown",
   "metadata": {},
   "source": [
    "### 9. Количество сложных именных групп"
   ]
  },
  {
   "cell_type": "markdown",
   "metadata": {},
   "source": [
    "Complex nominals comprise (i) nouns plus adjective, possessive, prepositional phrase, relative clause, participle, or appositive, (ii) nominal clauses, and (iii) gerunds and infinitives in subject position (Cooper 1976)"
   ]
  },
  {
   "cell_type": "markdown",
   "metadata": {},
   "source": [
    "#### Possessive"
   ]
  },
  {
   "cell_type": "code",
   "execution_count": 151,
   "metadata": {
    "collapsed": true
   },
   "outputs": [],
   "source": [
    "def find_possesive(parsed_text):\n",
    "    sent_lst = re.findall('(1\\t.+?)\\n\\n', parsed_text, re.DOTALL)\n",
    "    all_num_sent = count_sent(parsed_text)\n",
    "    poss = {}\n",
    "    for sent in range(1, all_num_sent+1):\n",
    "        poss[sent] = 0\n",
    "    num_sent = 1\n",
    "    for every_sent in sent_lst:\n",
    "        lst_str = every_sent.split('\\n')\n",
    "        for every_str in lst_str:\n",
    "            if 'nmod' in every_str:# включая nmod:poss\n",
    "                order, token, head, rel_type, pos = parsing_things(every_str)\n",
    "                poss[num_sent] = poss[num_sent] + 1\n",
    "        num_sent += 1\n",
    "    return poss"
   ]
  },
  {
   "cell_type": "markdown",
   "metadata": {},
   "source": [
    "#### Prepositional phrase"
   ]
  },
  {
   "cell_type": "code",
   "execution_count": 152,
   "metadata": {
    "collapsed": true
   },
   "outputs": [],
   "source": [
    "def find_prep(parsed_text):\n",
    "    sent_lst = re.findall('(1\\t.+?)\\n\\n', parsed_text, re.DOTALL)\n",
    "    all_num_sent = count_sent(parsed_text)\n",
    "    poss = {}\n",
    "    for sent in range(1, all_num_sent+1):\n",
    "        poss[sent] = 0\n",
    "    num_sent = 1\n",
    "    for every_sent in sent_lst:\n",
    "        lst_str = every_sent.split('\\n')\n",
    "        for every_str in lst_str:\n",
    "            if 'ADP' in every_str:\n",
    "                order, token, head, rel_type, pos = parsing_things(every_str)\n",
    "                poss[num_sent] = poss[num_sent] + 1\n",
    "        num_sent += 1\n",
    "    return poss"
   ]
  },
  {
   "cell_type": "markdown",
   "metadata": {},
   "source": [
    "#### Nouns plus adjective"
   ]
  },
  {
   "cell_type": "code",
   "execution_count": 153,
   "metadata": {
    "collapsed": true
   },
   "outputs": [],
   "source": [
    "def find_nouns(parsed_text):\n",
    "    sent_lst = re.findall('(1\\t.+?)\\n\\n', parsed_text, re.DOTALL)\n",
    "    all_num_sent = count_sent(parsed_text)\n",
    "    vp = {}\n",
    "    for sent in range(1, all_num_sent+1):\n",
    "        vp[sent] = []\n",
    "    num_sent = 1\n",
    "    for every_sent in sent_lst:\n",
    "        lst_str = every_sent.split('\\n')\n",
    "        for every_str in lst_str:\n",
    "            if 'NOUN' in every_str:\n",
    "                order, token, head, rel_type, pos = parsing_things(every_str)\n",
    "                vp[num_sent].append(order)\n",
    "        num_sent += 1\n",
    "    return vp"
   ]
  },
  {
   "cell_type": "code",
   "execution_count": 154,
   "metadata": {
    "collapsed": true
   },
   "outputs": [],
   "source": [
    "def find_adjs(parsed_text):\n",
    "    sent_lst = re.findall('(1\\t.+?)\\n\\n', parsed_text, re.DOTALL)\n",
    "    all_num_sent = count_sent(parsed_text)\n",
    "    vp = {}\n",
    "    for sent in range(1, all_num_sent+1):\n",
    "        vp[sent] = []\n",
    "    num_sent = 1\n",
    "    for every_sent in sent_lst:\n",
    "        lst_str = every_sent.split('\\n')\n",
    "        for every_str in lst_str:\n",
    "            if 'ADJ' in every_str:\n",
    "                order, token, head, rel_type, pos = parsing_things(every_str)\n",
    "                vp[num_sent].append(head)\n",
    "        num_sent += 1\n",
    "    return vp"
   ]
  },
  {
   "cell_type": "code",
   "execution_count": 155,
   "metadata": {
    "collapsed": true
   },
   "outputs": [],
   "source": [
    "def adj_noun(parsed_text):\n",
    "    adjs = find_adjs(parsed_text)\n",
    "    nouns = find_nouns(parsed_text)\n",
    "    adj_noun = {}\n",
    "    for key in adjs:\n",
    "        adj_noun[key] = len([i for i, j in zip(adjs[key], nouns[key]) if i == j])\n",
    "    return adj_noun"
   ]
  },
  {
   "cell_type": "markdown",
   "metadata": {},
   "source": [
    "#### Gerunds and infinitives in subject position"
   ]
  },
  {
   "cell_type": "code",
   "execution_count": 156,
   "metadata": {
    "collapsed": true
   },
   "outputs": [],
   "source": [
    "def find_ger_inf(parsed_text):\n",
    "    sent_lst = re.findall('(1\\t.+?)\\n\\n', parsed_text, re.DOTALL)\n",
    "    all_num_sent = count_sent(parsed_text)\n",
    "    poss = {}\n",
    "    for sent in range(1, all_num_sent+1):\n",
    "        poss[sent] = 0\n",
    "    num_sent = 1\n",
    "    for every_sent in sent_lst:\n",
    "        lst_str = every_sent.split('\\n')\n",
    "        for every_str in lst_str:\n",
    "            if 'VerbForm=Ger' in every_str or 'VerbForm=Inf' in every_str and 'xcomp' not in every_str:\n",
    "                order, token, head, rel_type, pos = parsing_things(every_str)\n",
    "                poss[num_sent] = poss[num_sent] + 1\n",
    "        num_sent += 1\n",
    "    return poss"
   ]
  },
  {
   "cell_type": "markdown",
   "metadata": {},
   "source": [
    "#### Nouns plus participle"
   ]
  },
  {
   "cell_type": "code",
   "execution_count": 157,
   "metadata": {
    "collapsed": true
   },
   "outputs": [],
   "source": [
    "def find_parts(parsed_text):\n",
    "    sent_lst = re.findall('(1\\t.+?)\\n\\n', parsed_text, re.DOTALL)\n",
    "    all_num_sent = count_sent(parsed_text)\n",
    "    vp = {}\n",
    "    for sent in range(1, all_num_sent+1):\n",
    "        vp[sent] = []\n",
    "    num_sent = 1\n",
    "    for every_sent in sent_lst:\n",
    "        lst_str = every_sent.split('\\n')\n",
    "        for every_str in lst_str:\n",
    "            if 'VerbForm=Part' in every_str:\n",
    "                order, token, head, rel_type, pos = parsing_things(every_str)\n",
    "                vp[num_sent].append(head)\n",
    "        num_sent += 1\n",
    "    return vp"
   ]
  },
  {
   "cell_type": "code",
   "execution_count": 158,
   "metadata": {
    "collapsed": true
   },
   "outputs": [],
   "source": [
    "def parts_noun(parsed_text):\n",
    "    parts = find_parts(parsed_text)\n",
    "    nouns = find_nouns(parsed_text)\n",
    "    adj_noun = {}\n",
    "    for key in parts:\n",
    "        adj_noun[key] = len([i for i, j in zip(parts[key], nouns[key]) if i == j])\n",
    "    return adj_noun"
   ]
  },
  {
   "cell_type": "code",
   "execution_count": 159,
   "metadata": {
    "collapsed": true
   },
   "outputs": [],
   "source": [
    "def count(d):\n",
    "    num = 0\n",
    "    for key, value in d.items():\n",
    "        num = num + value\n",
    "    return num"
   ]
  },
  {
   "cell_type": "code",
   "execution_count": 160,
   "metadata": {
    "collapsed": true
   },
   "outputs": [],
   "source": [
    "def count_np(parsed_text):\n",
    "    poss = count(find_possesive(parsed_text))\n",
    "    prep_ph = count(find_prep(parsed_text))\n",
    "    adj_n = count(adj_noun(parsed_text))\n",
    "    ger_inf = count(find_ger_inf(parsed_text))\n",
    "    part_n = count(parts_noun(parsed_text))\n",
    "    return poss, prep_ph, adj_n, ger_inf, part_n"
   ]
  },
  {
   "cell_type": "code",
   "execution_count": 162,
   "metadata": {},
   "outputs": [],
   "source": [
    "#count_np(parsed_text)"
   ]
  },
  {
   "cell_type": "markdown",
   "metadata": {},
   "source": [
    "### 10. Количество глагольных групп"
   ]
  },
  {
   "cell_type": "code",
   "execution_count": 163,
   "metadata": {
    "collapsed": true
   },
   "outputs": [],
   "source": [
    "def find_verbs(parsed_text):\n",
    "    sent_lst = re.findall('(1\\t.+?)\\n\\n', parsed_text, re.DOTALL)\n",
    "    all_num_sent = count_sent(parsed_text)\n",
    "    vp = {}\n",
    "    for sent in range(1, all_num_sent+1):\n",
    "        vp[sent] = []\n",
    "    num_sent = 1\n",
    "    for every_sent in sent_lst:\n",
    "        lst_str = every_sent.split('\\n')\n",
    "        for every_str in lst_str:\n",
    "            if 'VERB' in every_str or 'AUX' in every_str:\n",
    "                order, token, head, rel_type, pos = parsing_things(every_str)\n",
    "                vp[num_sent].append(order)\n",
    "        num_sent += 1\n",
    "    return vp"
   ]
  },
  {
   "cell_type": "code",
   "execution_count": 164,
   "metadata": {
    "collapsed": true
   },
   "outputs": [],
   "source": [
    "def find_vp(parsed_text):\n",
    "    vp = find_verbs(parsed_text)\n",
    "    sent_lst = re.findall('(1\\t.+?)\\n\\n', parsed_text, re.DOTALL)\n",
    "    all_num_sent = count_sent(parsed_text)\n",
    "    num_sent = 1\n",
    "    vp_final = {}\n",
    "    for sent in range(1, all_num_sent+1):\n",
    "        vp_final[sent] = 0\n",
    "    for every_sent in sent_lst:\n",
    "        #print('НОМЕР ПРЕДЛОЖЕНИЯ: ' + str(num_sent))\n",
    "        for every_vp in vp[num_sent]:\n",
    "            #print(every_vp)\n",
    "            finding_dep = re.findall('\\t'+every_vp+'\\t.+?\\t', every_sent)\n",
    "            finding_dep_2 = []\n",
    "            for every_finding_dep in finding_dep:\n",
    "                find_del = re.search('mark|nsubj|punct', every_finding_dep)\n",
    "                if find_del is None:\n",
    "                    finding_dep_2.append(every_finding_dep)\n",
    "            if finding_dep_2 != []:\n",
    "                vp_final[num_sent] += 1 \n",
    "        num_sent += 1\n",
    "    return vp_final"
   ]
  },
  {
   "cell_type": "code",
   "execution_count": 165,
   "metadata": {
    "collapsed": true
   },
   "outputs": [],
   "source": [
    "def count_vp(parsed_text):\n",
    "    vp_final = find_vp(parsed_text)\n",
    "    num_vp = 0\n",
    "    for key, value in vp_final.items():\n",
    "        num_vp = num_vp + value\n",
    "    return num_vp"
   ]
  },
  {
   "cell_type": "code",
   "execution_count": 167,
   "metadata": {},
   "outputs": [],
   "source": [
    "#count_vp(parsed_text)"
   ]
  },
  {
   "cell_type": "markdown",
   "metadata": {},
   "source": [
    "### 11. Синтаксическая схожесть (части речи, леммы): среднее"
   ]
  },
  {
   "cell_type": "code",
   "execution_count": 168,
   "metadata": {
    "collapsed": true
   },
   "outputs": [],
   "source": [
    "def levenshtein(seq1, seq2):  \n",
    "    size_x = len(seq1) + 1\n",
    "    size_y = len(seq2) + 1\n",
    "    matrix = np.zeros ((size_x, size_y))\n",
    "    for x in range(size_x):\n",
    "        matrix [x, 0] = x\n",
    "    for y in range(size_y):\n",
    "        matrix [0, y] = y\n",
    "\n",
    "    for x in range(1, size_x):\n",
    "        for y in range(1, size_y):\n",
    "            if seq1[x-1] == seq2[y-1]:\n",
    "                matrix [x,y] = min(\n",
    "                    matrix[x-1, y] + 1,\n",
    "                    matrix[x-1, y-1],\n",
    "                    matrix[x, y-1] + 1\n",
    "                )\n",
    "            else:\n",
    "                matrix [x,y] = min(\n",
    "                    matrix[x-1,y] + 1,\n",
    "                    matrix[x-1,y-1] + 1,\n",
    "                    matrix[x,y-1] + 1\n",
    "                )\n",
    "    return (matrix[size_x - 1, size_y - 1])"
   ]
  },
  {
   "cell_type": "code",
   "execution_count": 169,
   "metadata": {
    "collapsed": true
   },
   "outputs": [],
   "source": [
    "def pos_lemma(parsed_text):\n",
    "    sent_lst = re.findall('(1\\t.+?)\\n\\n', parsed_text, re.DOTALL)\n",
    "    d = {}\n",
    "    for x in range(1, len(sent_lst)+1):\n",
    "        d[x] = [[], []]\n",
    "    #print(d[1][0])\n",
    "    i = 1\n",
    "    for sent in sent_lst:\n",
    "        lines = sent.split('\\n')\n",
    "        for line in lines:\n",
    "            #print(line)\n",
    "            pos = re.search('.+?\\t.+?\\t.+?\\t(.+?)\\t', line)\n",
    "            lemma = re.search('.+?\\t.+?\\t(.+?)\\t', line)\n",
    "            if pos != None and lemma != None:\n",
    "                d[i][0].append(pos.group(1))\n",
    "                d[i][1].append(lemma.group(1))\n",
    "            #print(pos)\n",
    "        i += 1\n",
    "    return d"
   ]
  },
  {
   "cell_type": "code",
   "execution_count": 170,
   "metadata": {
    "collapsed": true
   },
   "outputs": [],
   "source": [
    "def simularity(parsed_text):\n",
    "    d = pos_lemma(parsed_text)\n",
    "    #print(len(d))\n",
    "    dd = {}\n",
    "    for x in range(1, len(d)+1):\n",
    "        dd[x] = [[], []]\n",
    "    i = 1\n",
    "    for key in d:\n",
    "        for key2 in d:\n",
    "            #print(levenshtein(d[key][0], d[key2][0]))\n",
    "            if i != key2:\n",
    "                dd[i][0].append(levenshtein(d[key][0], d[key2][0]))\n",
    "                dd[i][1].append(levenshtein(d[key][1], d[key2][1]))\n",
    "        i += 1\n",
    "    #print(dd)\n",
    "    for every in dd:\n",
    "        dd[every][0] = mean(dd[every][0])\n",
    "        dd[every][1] = mean(dd[every][1])\n",
    "    return dd"
   ]
  },
  {
   "cell_type": "code",
   "execution_count": 171,
   "metadata": {
    "collapsed": true
   },
   "outputs": [],
   "source": [
    "def simularity2(parsed_text):\n",
    "    d = pos_lemma(parsed_text)\n",
    "    #print(len(d))\n",
    "    dd = {}\n",
    "    for x in range(1, len(d)+1):\n",
    "        dd[x] = [[], []]\n",
    "    i = 1\n",
    "    #print(dd)\n",
    "    for key in d:\n",
    "        #print(key)\n",
    "        if i + 1 <= len(d):\n",
    "            dd[i][0].append(levenshtein(d[key][0], d[key+1][0]))\n",
    "            dd[i][1].append(levenshtein(d[key][1], d[key+1][1]))\n",
    "        i += 1\n",
    "    #print(dd)\n",
    "    return dd"
   ]
  },
  {
   "cell_type": "code",
   "execution_count": 172,
   "metadata": {
    "collapsed": true
   },
   "outputs": [],
   "source": [
    "def pos_sim_mean(parsed_text):\n",
    "    sim = simularity(parsed_text)\n",
    "    pos_min = []\n",
    "    for sent in sim:\n",
    "        pos_min.append(sim[sent][0])\n",
    "    return round(mean(pos_min), 2) "
   ]
  },
  {
   "cell_type": "code",
   "execution_count": 173,
   "metadata": {
    "collapsed": true
   },
   "outputs": [],
   "source": [
    "def lemma_sim_mean(parsed_text):\n",
    "    sim = simularity(parsed_text)\n",
    "    lemma_min = []\n",
    "    #print(sim)\n",
    "    for sent in sim:\n",
    "        lemma_min.append(sim[sent][1])\n",
    "    return round(mean(lemma_min), 2) "
   ]
  },
  {
   "cell_type": "code",
   "execution_count": 174,
   "metadata": {},
   "outputs": [],
   "source": [
    "def pos_sim_mean2(parsed_text):\n",
    "    sim = simularity2(parsed_text)\n",
    "    pos_min = []\n",
    "    for sent in sim:\n",
    "        try:\n",
    "            #print(sim[sent][0][0])\n",
    "            pos_min.append(sim[sent][0][0])\n",
    "        except:\n",
    "            break\n",
    "    return round(mean(pos_min), 2)"
   ]
  },
  {
   "cell_type": "code",
   "execution_count": 175,
   "metadata": {
    "collapsed": true
   },
   "outputs": [],
   "source": [
    "def lemma_sim_mean2(parsed_text):\n",
    "    sim = simularity2(parsed_text)\n",
    "    lemma_min = []\n",
    "    for sent in sim:\n",
    "        try:\n",
    "            #print(sim[sent][1][0])\n",
    "            lemma_min.append(sim[sent][1][0])\n",
    "        except:\n",
    "            break\n",
    "    return round(mean(lemma_min), 2)"
   ]
  },
  {
   "cell_type": "code",
   "execution_count": 176,
   "metadata": {},
   "outputs": [],
   "source": [
    "#lemma_sim_mean2(parsed_text)"
   ]
  },
  {
   "cell_type": "markdown",
   "metadata": {},
   "source": [
    "### 12. Среднее количество токенов перед корнем предложения"
   ]
  },
  {
   "cell_type": "code",
   "execution_count": 177,
   "metadata": {
    "collapsed": true
   },
   "outputs": [],
   "source": [
    "def tokens_befor_root(parsed_text):\n",
    "    sent_lst = re.findall('(1\\t.+?)\\n\\n', parsed_text, re.DOTALL)\n",
    "    length = []\n",
    "    for sent in sent_lst:\n",
    "        lines = sent.split('\\n')\n",
    "        i = 0\n",
    "        for line in lines:\n",
    "            rel_type = re.search('.+?\\t.+?\\t.+?\\t.+?\\t.+?\\t.+?\\t.+?\\t(.+?)\\t', line)\n",
    "            if rel_type is not None:\n",
    "                if rel_type.group(1) == 'root':\n",
    "                    break\n",
    "            i += 1\n",
    "        length.append(i)\n",
    "    return round(mean(length), 2)"
   ]
  },
  {
   "cell_type": "code",
   "execution_count": 178,
   "metadata": {},
   "outputs": [],
   "source": [
    "#tokens_befor_root(parsed_text)"
   ]
  },
  {
   "cell_type": "markdown",
   "metadata": {},
   "source": [
    "### 13. Средняя длина предложения"
   ]
  },
  {
   "cell_type": "code",
   "execution_count": 179,
   "metadata": {
    "collapsed": true
   },
   "outputs": [],
   "source": [
    "def mean_len_sent(parsed_text):\n",
    "    sent_lst = re.findall('(1\\t.+?)\\n\\n', parsed_text, re.DOTALL)\n",
    "    length = []\n",
    "    for sent in sent_lst:\n",
    "        lines = sent.split('\\n')\n",
    "        i = 0\n",
    "        for line in lines:\n",
    "            pos = re.search('.+?\\t.+?\\t.+?\\t(.+?)\\t', line)\n",
    "            if pos is not None:\n",
    "                if pos.group(1) != 'PUNCT':\n",
    "                    i += 1\n",
    "        length.append(i)\n",
    "    return round(mean(length), 2)"
   ]
  },
  {
   "cell_type": "code",
   "execution_count": 180,
   "metadata": {},
   "outputs": [],
   "source": [
    "#mean_len_sent(parsed_text)"
   ]
  },
  {
   "cell_type": "markdown",
   "metadata": {},
   "source": [
    "### 13. NOUN + INF"
   ]
  },
  {
   "cell_type": "code",
   "execution_count": 190,
   "metadata": {
    "collapsed": true
   },
   "outputs": [],
   "source": [
    "def find_nouns(parsed_text):\n",
    "    sent_lst = re.findall('(1\\t.+?)\\n\\n', parsed_text, re.DOTALL)\n",
    "    all_num_sent = count_sent(parsed_text)\n",
    "    vp = {}\n",
    "    for sent in range(1, all_num_sent+1):\n",
    "        vp[sent] = []\n",
    "    num_sent = 1\n",
    "    for every_sent in sent_lst:\n",
    "        lst_str = every_sent.split('\\n')\n",
    "        for every_str in lst_str:\n",
    "            if 'NOUN' in every_str:\n",
    "                order, token, head, rel_type, pos = parsing_things(every_str)\n",
    "                vp[num_sent].append(order)\n",
    "        num_sent += 1\n",
    "    return vp"
   ]
  },
  {
   "cell_type": "code",
   "execution_count": 191,
   "metadata": {},
   "outputs": [
    {
     "data": {
      "text/plain": [
       "{1: ['3', '7', '9', '17', '28', '33'],\n",
       " 2: ['3', '6'],\n",
       " 3: ['9', '11'],\n",
       " 4: ['11', '18', '25'],\n",
       " 5: ['5', '13', '28', '35', '36'],\n",
       " 6: ['8', '11', '20', '27', '31', '32'],\n",
       " 7: ['6', '10', '12'],\n",
       " 8: ['3', '5', '6', '8', '18', '25', '27', '30'],\n",
       " 9: ['2', '5', '8', '10', '12'],\n",
       " 10: ['5', '6', '10', '18', '22', '28', '31', '35', '44'],\n",
       " 11: ['4', '15', '19', '20', '24', '27', '32', '34']}"
      ]
     },
     "execution_count": 191,
     "metadata": {},
     "output_type": "execute_result"
    }
   ],
   "source": [
    "find_nouns(parsed_text)"
   ]
  },
  {
   "cell_type": "code",
   "execution_count": 194,
   "metadata": {},
   "outputs": [],
   "source": [
    "def find_inf(parsed_text):\n",
    "    sent_lst = re.findall('(1\\t.+?)\\n\\n', parsed_text, re.DOTALL)\n",
    "    nouns_d = find_nouns(parsed_text)\n",
    "    k = 0\n",
    "    i = 0\n",
    "    for every_sent in nouns_d:\n",
    "        for every_num in nouns_d[every_sent]:\n",
    "            num_next = int(every_num) + 1\n",
    "            finding = re.search ('\\n' + str(num_next) + '\\t.+?\\tto\\t', sent_lst[i])\n",
    "            if finding != None:\n",
    "                k += 1\n",
    "        i += 1\n",
    "    return k"
   ]
  },
  {
   "cell_type": "code",
   "execution_count": 193,
   "metadata": {},
   "outputs": [
    {
     "name": "stdout",
     "output_type": "stream",
     "text": [
      "1\n"
     ]
    },
    {
     "ename": "TypeError",
     "evalue": "unsupported operand type(s) for /: 'NoneType' and 'int'",
     "output_type": "error",
     "traceback": [
      "\u001b[0;31m---------------------------------------------------------------------------\u001b[0m",
      "\u001b[0;31mTypeError\u001b[0m                                 Traceback (most recent call last)",
      "\u001b[0;32m<ipython-input-193-6a8ff44e3e45>\u001b[0m in \u001b[0;36m<module>\u001b[0;34m()\u001b[0m\n\u001b[0;32m----> 1\u001b[0;31m \u001b[0mfind_inf\u001b[0m\u001b[0;34m(\u001b[0m\u001b[0mparsed_text\u001b[0m\u001b[0;34m)\u001b[0m\u001b[0;34m/\u001b[0m\u001b[0mcount_sent\u001b[0m\u001b[0;34m(\u001b[0m\u001b[0mparsed_text\u001b[0m\u001b[0;34m)\u001b[0m\u001b[0;34m\u001b[0m\u001b[0m\n\u001b[0m",
      "\u001b[0;31mTypeError\u001b[0m: unsupported operand type(s) for /: 'NoneType' and 'int'"
     ]
    }
   ],
   "source": [
    "intfind_inf(parsed_text)/count_sent(parsed_text)"
   ]
  },
  {
   "cell_type": "code",
   "execution_count": 189,
   "metadata": {},
   "outputs": [],
   "source": [
    "parsed_text = get_parsed_text('english-partut-ud-2.0-170801.udpipe', '/Users/irene/Desktop/Курсовая/esseys/AAl_13_1.txt')"
   ]
  },
  {
   "cell_type": "code",
   "execution_count": 188,
   "metadata": {},
   "outputs": [],
   "source": [
    "#parsed_text"
   ]
  },
  {
   "cell_type": "code",
   "execution_count": null,
   "metadata": {
    "collapsed": true
   },
   "outputs": [],
   "source": []
  }
 ],
 "metadata": {
  "kernelspec": {
   "display_name": "Python 3",
   "language": "python",
   "name": "python3"
  },
  "language_info": {
   "codemirror_mode": {
    "name": "ipython",
    "version": 3
   },
   "file_extension": ".py",
   "mimetype": "text/x-python",
   "name": "python",
   "nbconvert_exporter": "python",
   "pygments_lexer": "ipython3",
   "version": "3.6.3"
  }
 },
 "nbformat": 4,
 "nbformat_minor": 2
}

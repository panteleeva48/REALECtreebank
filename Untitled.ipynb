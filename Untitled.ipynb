{
 "cells": [
  {
   "cell_type": "code",
   "execution_count": null,
   "metadata": {
    "collapsed": true
   },
   "outputs": [],
   "source": [
    "from typing import Any, List, Iterable\n",
    "\n",
    "def heappush(heap, v):\n",
    "    last = len(heap)\n",
    "    heap.append(v)\n",
    "    while last > 0:\n",
    "        parent = (last - 1) // 2\n",
    "        if heap[parent] <= heap[last]:\n",
    "            break\n",
    "        heap[last], heap[parent] = heap[parent], heap[last]\n",
    "        last = parent\n",
    "    \n",
    "def heappop(heap):\n",
    "    first = heap[0]\n",
    "    last = heap.pop()\n",
    "    size = len(heap)\n",
    "    if size == 0:\n",
    "        return first\n",
    "    heap[0] = last\n",
    "    cur = 0\n",
    "    while True:\n",
    "        child_1 = 2 * cur + 1\n",
    "        if child_1 >= size:\n",
    "            return first\n",
    "        child_2 = child_1 + 1\n",
    "        if child_2 < size and heap[child_2] < heap[child_1]:\n",
    "            child = child_2\n",
    "        else:\n",
    "            child = child_1\n",
    "        if heap[cur] <= heap[child]:\n",
    "            return first\n",
    "        heap[child], heap[cur] = heap[cur], heap[child]\n",
    "        cur = child\n",
    "\n",
    "def klargest(k: int, array: Iterable[Any]) -> List[Any]:\n",
    "    \"\"\"\n",
    "    >>> klargest(3, [78, 5, 86, 97, 58])\n",
    "    [97, 86, 78]\n",
    "\n",
    "    >>> klargest(3, [])\n",
    "    []\n",
    "\n",
    "    >>> klargest(50, [1, 2, 3])\n",
    "    [3, 2, 1]\n",
    "\n",
    "    >>> klargest(3, range(100))  # итератор вместо массива\n",
    "    [99, 98, 97]\n",
    "    \"\"\"\n",
    "    large = []\n",
    "    if k > len(array):\n",
    "        k = len(array)\n",
    "    for x in range(1,k+1):\n",
    "        if array == []:\n",
    "            large = []\n",
    "        else:\n",
    "            heap = []\n",
    "            for num in array:\n",
    "                heappush(heap, -num)\n",
    "            for _ in range(x):\n",
    "                res = heappop(heap)\n",
    "            large.append(res * -1) \n",
    "    return large"
   ]
  }
 ],
 "metadata": {
  "kernelspec": {
   "display_name": "Python 3",
   "language": "python",
   "name": "python3"
  },
  "language_info": {
   "codemirror_mode": {
    "name": "ipython",
    "version": 3
   },
   "file_extension": ".py",
   "mimetype": "text/x-python",
   "name": "python",
   "nbconvert_exporter": "python",
   "pygments_lexer": "ipython3",
   "version": "3.6.3"
  }
 },
 "nbformat": 4,
 "nbformat_minor": 2
}

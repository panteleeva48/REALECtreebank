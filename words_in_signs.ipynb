{
 "cells": [
  {
   "cell_type": "code",
   "execution_count": 1,
   "metadata": {
    "collapsed": true
   },
   "outputs": [],
   "source": [
    "def read_hole_file(name_file):\n",
    "    f = open(name_file, 'r')\n",
    "    f_r = f.read()\n",
    "    return f_r"
   ]
  },
  {
   "cell_type": "code",
   "execution_count": null,
   "metadata": {
    "collapsed": true
   },
   "outputs": [],
   "source": [
    "empty_text = read_hole_file('NAME_FILE.txt')"
   ]
  },
  {
   "cell_type": "code",
   "execution_count": null,
   "metadata": {
    "collapsed": true
   },
   "outputs": [],
   "source": [
    "empty_text = empty_text.replace('. ', '.\\n')\n",
    "empty_text = empty_text.replace('\\n\\n', '\\n')"
   ]
  },
  {
   "cell_type": "code",
   "execution_count": null,
   "metadata": {
    "collapsed": true
   },
   "outputs": [],
   "source": [
    "parsed_text = read_file_lines('/Users/irene/Downloads/exam2014/VKo_8_1.conllu')\n",
    "words = []\n",
    "for every_line in parsed_text:\n",
    "    w = re.search('[0-9]+\\t(.*?)\\t', every_line)\n",
    "    if w is not None:\n",
    "        words.append(w.group(1))"
   ]
  },
  {
   "cell_type": "code",
   "execution_count": null,
   "metadata": {
    "collapsed": true
   },
   "outputs": [],
   "source": [
    "word_len_mass = []\n",
    "lens = []\n",
    "i = 0\n",
    "skobka = 0\n",
    "new_words = []\n",
    "for word in words:\n",
    "    string = ''\n",
    "    for yet in new_words:\n",
    "        string = string + yet + '.*?'\n",
    "    if word == '(':\n",
    "        word = '\\('\n",
    "    if word == ')':\n",
    "        word = '\\)'\n",
    "    if word == '?':\n",
    "        word = '\\?'\n",
    "    if word == '!':\n",
    "        word = '\\!'\n",
    "    #print(string)\n",
    "    #print(string + word)\n",
    "    regex = re.compile(r'' + string + word, re.DOTALL)\n",
    "    part = re.search(regex, empty_text)\n",
    "    if i == 0:\n",
    "        w_len = (word, 0, len(part.group(0)))\n",
    "    else:\n",
    "        w_len = (word, word_len_mass[-1][2]+1, len(part.group(0)))\n",
    "    word_len_mass.append(w_len)\n",
    "    if word == '.' or word == '!' or word == '?':\n",
    "        new_words.append(word + '\\n')\n",
    "    else:\n",
    "        new_words.append(word)\n",
    "    i += 1"
   ]
  },
  {
   "cell_type": "code",
   "execution_count": null,
   "metadata": {
    "collapsed": true
   },
   "outputs": [],
   "source": [
    "word_len_mass"
   ]
  }
 ],
 "metadata": {
  "kernelspec": {
   "display_name": "Python 3",
   "language": "python",
   "name": "python3"
  },
  "language_info": {
   "codemirror_mode": {
    "name": "ipython",
    "version": 3
   },
   "file_extension": ".py",
   "mimetype": "text/x-python",
   "name": "python",
   "nbconvert_exporter": "python",
   "pygments_lexer": "ipython3",
   "version": "3.6.3"
  }
 },
 "nbformat": 4,
 "nbformat_minor": 2
}

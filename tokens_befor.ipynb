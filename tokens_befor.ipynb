{
 "cells": [
  {
   "cell_type": "markdown",
   "metadata": {},
   "source": [
    "### 12. Среднее количество токенов перед корнем предложения"
   ]
  },
  {
   "cell_type": "code",
   "execution_count": 2,
   "metadata": {
    "collapsed": true
   },
   "outputs": [],
   "source": [
    "def tokens_befor_root(parsed_text):\n",
    "    sent_lst = re.findall('(1\\t.+?)\\n\\n', parsed_text, re.DOTALL)\n",
    "    length = []\n",
    "    for sent in sent_lst:\n",
    "        lines = sent.split('\\n')\n",
    "        i = 0\n",
    "        for line in lines:\n",
    "            rel_type = re.search('.+?\\t.+?\\t.+?\\t.+?\\t.+?\\t.+?\\t.+?\\t(.+?)\\t', line)\n",
    "            if rel_type is not None:\n",
    "                if rel_type.group(1) == 'root':\n",
    "                    break\n",
    "            i += 1\n",
    "        length.append(i)\n",
    "    return round(mean(length), 2)"
   ]
  }
 ],
 "metadata": {
  "kernelspec": {
   "display_name": "Python 3",
   "language": "python",
   "name": "python3"
  },
  "language_info": {
   "codemirror_mode": {
    "name": "ipython",
    "version": 3
   },
   "file_extension": ".py",
   "mimetype": "text/x-python",
   "name": "python",
   "nbconvert_exporter": "python",
   "pygments_lexer": "ipython3",
   "version": "3.6.3"
  }
 },
 "nbformat": 4,
 "nbformat_minor": 2
}

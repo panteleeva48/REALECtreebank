{
 "cells": [
  {
   "cell_type": "code",
   "execution_count": 2,
   "metadata": {
    "collapsed": true
   },
   "outputs": [],
   "source": [
    "from syn_compl import get_parsed_text, count_tokens\n",
    "import re"
   ]
  },
  {
   "cell_type": "code",
   "execution_count": 3,
   "metadata": {
    "collapsed": true
   },
   "outputs": [],
   "source": [
    "parsed_text = get_parsed_text('english-partut-ud-2.0-170801.udpipe', '/Users/irene/Desktop/Курсовая/countw/VSa_3_1.txt')"
   ]
  },
  {
   "cell_type": "code",
   "execution_count": 4,
   "metadata": {},
   "outputs": [
    {
     "data": {
      "text/plain": [
       "69"
      ]
     },
     "execution_count": 4,
     "metadata": {},
     "output_type": "execute_result"
    }
   ],
   "source": [
    "count_tokens(parsed_text)"
   ]
  },
  {
   "cell_type": "code",
   "execution_count": 7,
   "metadata": {},
   "outputs": [],
   "source": [
    "import os\n",
    "filess = []\n",
    "for root, dirs, files in os.walk(\"/Users/irene/Desktop/Курсовая/countw/\"):  \n",
    "    for filename in files:\n",
    "        filess.append(filename)"
   ]
  },
  {
   "cell_type": "code",
   "execution_count": 9,
   "metadata": {},
   "outputs": [
    {
     "data": {
      "text/plain": [
       "['VSa_10_1.txt',\n",
       " 'VSa_10_2.txt',\n",
       " 'VSa_11_1.txt',\n",
       " 'VSa_11_2.txt',\n",
       " 'VSa_12_1.txt',\n",
       " 'VSa_12_2.txt',\n",
       " 'VSa_13_1.txt',\n",
       " 'VSa_13_2.txt',\n",
       " 'VSa_14_1.txt',\n",
       " 'VSa_14_2.txt',\n",
       " 'VSa_15_1.txt',\n",
       " 'VSa_15_2.txt',\n",
       " 'VSa_16_1.txt',\n",
       " 'VSa_16_2.txt',\n",
       " 'VSa_17_1.txt',\n",
       " 'VSa_17_2.txt',\n",
       " 'VSa_18_1.txt',\n",
       " 'VSa_18_2.txt',\n",
       " 'VSa_19_1.txt',\n",
       " 'VSa_19_2.txt',\n",
       " 'VSa_1_1.txt',\n",
       " 'VSa_1_2.txt',\n",
       " 'VSa_20_1.txt',\n",
       " 'VSa_20_2.txt',\n",
       " 'VSa_21_1.txt',\n",
       " 'VSa_21_2.txt',\n",
       " 'VSa_22_1.txt',\n",
       " 'VSa_22_2.txt',\n",
       " 'VSa_23_1.txt',\n",
       " 'VSa_23_2.txt',\n",
       " 'VSa_24_1.txt',\n",
       " 'VSa_24_2.txt',\n",
       " 'VSa_25_1.txt',\n",
       " 'VSa_25_2.txt',\n",
       " 'VSa_26_1.txt',\n",
       " 'VSa_26_2.txt',\n",
       " 'VSa_27_1.txt',\n",
       " 'VSa_27_2.txt',\n",
       " 'VSa_28_1.txt',\n",
       " 'VSa_28_2.txt',\n",
       " 'VSa_29_1.txt',\n",
       " 'VSa_29_2.txt',\n",
       " 'VSa_2_1.txt',\n",
       " 'VSa_2_2.txt',\n",
       " 'VSa_30_1.txt',\n",
       " 'VSa_30_2.txt',\n",
       " 'VSa_31_1.txt',\n",
       " 'VSa_31_2.txt',\n",
       " 'VSa_32_1.txt',\n",
       " 'VSa_32_2.txt',\n",
       " 'VSa_33_1.txt',\n",
       " 'VSa_33_2.txt',\n",
       " 'VSa_34_1.txt',\n",
       " 'VSa_34_2.txt',\n",
       " 'VSa_35_1.txt',\n",
       " 'VSa_35_2.txt',\n",
       " 'VSa_36_1.txt',\n",
       " 'VSa_36_2.txt',\n",
       " 'VSa_37_1.txt',\n",
       " 'VSa_37_2.txt',\n",
       " 'VSa_38_1.txt',\n",
       " 'VSa_38_2.txt',\n",
       " 'VSa_39_1.txt',\n",
       " 'VSa_39_2.txt',\n",
       " 'VSa_3_1.txt',\n",
       " 'VSa_3_2.txt',\n",
       " 'VSa_40_1.txt',\n",
       " 'VSa_40_2.txt',\n",
       " 'VSa_41_1.txt',\n",
       " 'VSa_41_2.txt',\n",
       " 'VSa_42_1.txt',\n",
       " 'VSa_42_2.txt',\n",
       " 'VSa_43_1.txt',\n",
       " 'VSa_43_2.txt',\n",
       " 'VSa_44_1.txt',\n",
       " 'VSa_44_2.txt',\n",
       " 'VSa_45_1.txt',\n",
       " 'VSa_45_2.txt',\n",
       " 'VSa_4_1.txt',\n",
       " 'VSa_4_2.txt',\n",
       " 'VSa_5_1.txt',\n",
       " 'VSa_5_2.txt',\n",
       " 'VSa_6_1.txt',\n",
       " 'VSa_6_2.txt',\n",
       " 'VSa_7_1.txt',\n",
       " 'VSa_7_2.txt',\n",
       " 'VSa_8_1.txt',\n",
       " 'VSa_8_2.txt',\n",
       " 'VSa_9_1.txt',\n",
       " 'VSa_9_2.txt']"
      ]
     },
     "execution_count": 9,
     "metadata": {},
     "output_type": "execute_result"
    }
   ],
   "source": [
    "filess[1:]"
   ]
  },
  {
   "cell_type": "code",
   "execution_count": 12,
   "metadata": {},
   "outputs": [
    {
     "name": "stdout",
     "output_type": "stream",
     "text": [
      "VSa_10_1\n",
      "VSa_10_2\n",
      "VSa_11_1\n",
      "VSa_11_2\n",
      "VSa_12_1\n",
      "VSa_12_2\n",
      "VSa_13_1\n",
      "VSa_13_2\n",
      "VSa_14_1\n",
      "VSa_14_2\n",
      "VSa_15_1\n",
      "VSa_15_2\n",
      "VSa_16_1\n",
      "VSa_16_2\n",
      "VSa_17_1\n",
      "VSa_17_2\n",
      "VSa_18_1\n",
      "VSa_18_2\n",
      "VSa_19_1\n",
      "VSa_19_2\n",
      "VSa_1_1\n",
      "VSa_1_2\n",
      "VSa_20_1\n",
      "VSa_20_2\n",
      "VSa_21_1\n",
      "VSa_21_2\n",
      "VSa_22_1\n",
      "VSa_22_2\n",
      "VSa_23_1\n",
      "VSa_23_2\n",
      "VSa_24_1\n",
      "VSa_24_2\n",
      "VSa_25_1\n",
      "VSa_25_2\n",
      "VSa_26_1\n",
      "VSa_26_2\n",
      "VSa_27_1\n",
      "VSa_27_2\n",
      "VSa_28_1\n",
      "VSa_28_2\n",
      "VSa_29_1\n",
      "VSa_29_2\n",
      "VSa_2_1\n",
      "VSa_2_2\n",
      "VSa_30_1\n",
      "VSa_30_2\n",
      "VSa_31_1\n",
      "VSa_31_2\n",
      "VSa_32_1\n",
      "VSa_32_2\n",
      "VSa_33_1\n",
      "VSa_33_2\n",
      "VSa_34_1\n",
      "VSa_34_2\n",
      "VSa_35_1\n",
      "VSa_35_2\n",
      "VSa_36_1\n",
      "VSa_36_2\n",
      "VSa_37_1\n",
      "VSa_37_2\n",
      "VSa_38_1\n",
      "VSa_38_2\n",
      "VSa_39_1\n",
      "VSa_39_2\n",
      "VSa_3_1\n",
      "VSa_3_2\n",
      "VSa_40_1\n",
      "VSa_40_2\n",
      "VSa_41_1\n",
      "VSa_41_2\n",
      "VSa_42_1\n",
      "VSa_42_2\n",
      "VSa_43_1\n",
      "VSa_43_2\n",
      "VSa_44_1\n",
      "VSa_44_2\n",
      "VSa_45_1\n",
      "VSa_45_2\n",
      "VSa_4_1\n",
      "VSa_4_2\n",
      "VSa_5_1\n",
      "VSa_5_2\n",
      "VSa_6_1\n",
      "VSa_6_2\n",
      "VSa_7_1\n",
      "VSa_7_2\n",
      "VSa_8_1\n",
      "VSa_8_2\n",
      "VSa_9_1\n",
      "VSa_9_2\n"
     ]
    }
   ],
   "source": [
    "st = ''\n",
    "for every in filess[1:]:\n",
    "    path = '/Users/irene/Desktop/Курсовая/countw/' + every\n",
    "    patext = get_parsed_text('english-partut-ud-2.0-170801.udpipe', path)\n",
    "    words = count_tokens(patext)\n",
    "    name = re.search('/Users/irene/Desktop/Курсовая/countw/(.+?).txt', path).group(1)\n",
    "    print(name)\n",
    "    st = st + name + '\\t' + str(words) + '\\n'"
   ]
  },
  {
   "cell_type": "code",
   "execution_count": 13,
   "metadata": {
    "collapsed": true
   },
   "outputs": [],
   "source": [
    "f = open('tokens_2017.csv', 'w')\n",
    "f.write(st)\n",
    "f.close()"
   ]
  },
  {
   "cell_type": "code",
   "execution_count": null,
   "metadata": {
    "collapsed": true
   },
   "outputs": [],
   "source": []
  }
 ],
 "metadata": {
  "kernelspec": {
   "display_name": "Python 3",
   "language": "python",
   "name": "python3"
  },
  "language_info": {
   "codemirror_mode": {
    "name": "ipython",
    "version": 3
   },
   "file_extension": ".py",
   "mimetype": "text/x-python",
   "name": "python",
   "nbconvert_exporter": "python",
   "pygments_lexer": "ipython3",
   "version": "3.6.3"
  }
 },
 "nbformat": 4,
 "nbformat_minor": 2
}

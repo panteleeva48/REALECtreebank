{
 "cells": [
  {
   "cell_type": "code",
   "execution_count": 54,
   "metadata": {
    "collapsed": true
   },
   "outputs": [],
   "source": [
    "import pandas as pd\n",
    "from sklearn.model_selection import train_test_split\n",
    "from sklearn.tree import DecisionTreeClassifier \n",
    "from sklearn.model_selection import GridSearchCV\n",
    "import seaborn as sns\n",
    "import matplotlib.pyplot as plt\n",
    "%matplotlib inline\n",
    "from sklearn.metrics import classification_report, confusion_matrix, accuracy_score\n",
    "from sklearn.ensemble import RandomForestClassifier\n",
    "from sklearn.linear_model import LogisticRegression, LogisticRegressionCV\n",
    "import numpy as np\n",
    "from IPython.display import Image  \n",
    "from sklearn import tree\n",
    "import pydotplus\n",
    "import itertools"
   ]
  },
  {
   "cell_type": "code",
   "execution_count": 55,
   "metadata": {
    "collapsed": true
   },
   "outputs": [],
   "source": [
    "df1 = pd.read_csv('/Users/irene/Desktop/Курсовая/res_measures_simple1000_1.csv',\n",
    "                       sep=';', encoding='utf-8', names = 'h')"
   ]
  },
  {
   "cell_type": "code",
   "execution_count": 56,
   "metadata": {
    "collapsed": true
   },
   "outputs": [],
   "source": [
    "df1[['name', 'grade1', 'grade2', 'num_tokens', 'num_acl', 'num_acl_relcl', 'num_advcl',\n",
    "'num_sents', 'num_cl', 'num_tu', 'num_ctu',\n",
    "'num_coord', 'poss', 'prep_ph', 'adj_n', 'ger_inf',\n",
    "'part_n', 'n_inf', 'num_vp',\n",
    "'min_depth', 'max_depth', 'num_np', 'nan']] = df1['h'].str.split('\\t',expand=True)"
   ]
  },
  {
   "cell_type": "code",
   "execution_count": 57,
   "metadata": {
    "collapsed": true
   },
   "outputs": [],
   "source": [
    "df2 = pd.read_csv('/Users/irene/Desktop/Курсовая/res_measures_simple1000_2.csv',\n",
    "                       sep=';', encoding='utf-8', names = 'h')"
   ]
  },
  {
   "cell_type": "code",
   "execution_count": 58,
   "metadata": {
    "collapsed": true
   },
   "outputs": [],
   "source": [
    "df2[['name', 'grade1', 'grade2', 'num_tokens', 'num_acl', 'num_acl_relcl', 'num_advcl',\n",
    "'num_sents', 'num_cl', 'num_tu', 'num_ctu',\n",
    "'num_coord', 'poss', 'prep_ph', 'adj_n', 'ger_inf',\n",
    "'part_n', 'n_inf', 'num_vp',\n",
    "'min_depth', 'max_depth', 'num_np', 'nan']] = df2['h'].str.split('\\t',expand=True)"
   ]
  },
  {
   "cell_type": "code",
   "execution_count": 59,
   "metadata": {
    "collapsed": true
   },
   "outputs": [],
   "source": [
    "def best_non(row):\n",
    "    if row['grade2'] == 'best':\n",
    "        val = 'best'\n",
    "    else:\n",
    "        val = 'nonbest'\n",
    "    return val\n",
    "df1['mark_best_nonbest'] = df1.apply(best_non, axis=1)\n",
    "df2['mark_best_nonbest'] = df2.apply(best_non, axis=1)"
   ]
  },
  {
   "cell_type": "code",
   "execution_count": 60,
   "metadata": {
    "collapsed": true
   },
   "outputs": [],
   "source": [
    "df1 = df1.drop(['h','nan'], axis=1)\n",
    "df2 = df2.drop(['h','nan'], axis=1)"
   ]
  },
  {
   "cell_type": "code",
   "execution_count": 61,
   "metadata": {
    "collapsed": true
   },
   "outputs": [],
   "source": [
    "#df1 = df1.drop(['h','nan', 'grade1', 'name', 'grade2'], axis=1)\n",
    "#df2 = df2.drop(['h','nan', 'grade1', 'name', 'grade2'], axis=1)"
   ]
  },
  {
   "cell_type": "code",
   "execution_count": 62,
   "metadata": {},
   "outputs": [
    {
     "data": {
      "text/plain": [
       "1056"
      ]
     },
     "execution_count": 62,
     "metadata": {},
     "output_type": "execute_result"
    }
   ],
   "source": [
    "df1.shape[0]"
   ]
  },
  {
   "cell_type": "code",
   "execution_count": 63,
   "metadata": {
    "collapsed": true
   },
   "outputs": [],
   "source": [
    "one = [1] * df1.shape[0]\n",
    "two = [2] * df2.shape[0]"
   ]
  },
  {
   "cell_type": "code",
   "execution_count": 64,
   "metadata": {},
   "outputs": [
    {
     "data": {
      "text/plain": [
       "1056"
      ]
     },
     "execution_count": 64,
     "metadata": {},
     "output_type": "execute_result"
    }
   ],
   "source": [
    "len(one)"
   ]
  },
  {
   "cell_type": "code",
   "execution_count": 65,
   "metadata": {
    "collapsed": true
   },
   "outputs": [],
   "source": [
    "df1 = df1.assign(type_ess=one)\n",
    "df2 = df2.assign(type_ess=two)"
   ]
  },
  {
   "cell_type": "code",
   "execution_count": 66,
   "metadata": {},
   "outputs": [
    {
     "data": {
      "text/html": [
       "<div>\n",
       "<style scoped>\n",
       "    .dataframe tbody tr th:only-of-type {\n",
       "        vertical-align: middle;\n",
       "    }\n",
       "\n",
       "    .dataframe tbody tr th {\n",
       "        vertical-align: top;\n",
       "    }\n",
       "\n",
       "    .dataframe thead th {\n",
       "        text-align: right;\n",
       "    }\n",
       "</style>\n",
       "<table border=\"1\" class=\"dataframe\">\n",
       "  <thead>\n",
       "    <tr style=\"text-align: right;\">\n",
       "      <th></th>\n",
       "      <th>name</th>\n",
       "      <th>grade1</th>\n",
       "      <th>grade2</th>\n",
       "      <th>num_tokens</th>\n",
       "      <th>num_acl</th>\n",
       "      <th>num_acl_relcl</th>\n",
       "      <th>num_advcl</th>\n",
       "      <th>num_sents</th>\n",
       "      <th>num_cl</th>\n",
       "      <th>num_tu</th>\n",
       "      <th>...</th>\n",
       "      <th>adj_n</th>\n",
       "      <th>ger_inf</th>\n",
       "      <th>part_n</th>\n",
       "      <th>n_inf</th>\n",
       "      <th>num_vp</th>\n",
       "      <th>min_depth</th>\n",
       "      <th>max_depth</th>\n",
       "      <th>num_np</th>\n",
       "      <th>mark_best_nonbest</th>\n",
       "      <th>type_ess</th>\n",
       "    </tr>\n",
       "  </thead>\n",
       "  <tbody>\n",
       "    <tr>\n",
       "      <th>0</th>\n",
       "      <td>/Users/irene/Downloads/exam/exam2014/AAl_10_1.txt</td>\n",
       "      <td>55</td>\n",
       "      <td>aver</td>\n",
       "      <td>186</td>\n",
       "      <td>2</td>\n",
       "      <td>3</td>\n",
       "      <td>2</td>\n",
       "      <td>7</td>\n",
       "      <td>13</td>\n",
       "      <td>13</td>\n",
       "      <td>...</td>\n",
       "      <td>6</td>\n",
       "      <td>12</td>\n",
       "      <td>2</td>\n",
       "      <td>0</td>\n",
       "      <td>12</td>\n",
       "      <td>4</td>\n",
       "      <td>6</td>\n",
       "      <td>67</td>\n",
       "      <td>nonbest</td>\n",
       "      <td>1</td>\n",
       "    </tr>\n",
       "    <tr>\n",
       "      <th>1</th>\n",
       "      <td>/Users/irene/Downloads/exam/exam2014/AAl_11_1.txt</td>\n",
       "      <td>50</td>\n",
       "      <td>aver</td>\n",
       "      <td>195</td>\n",
       "      <td>4</td>\n",
       "      <td>2</td>\n",
       "      <td>1</td>\n",
       "      <td>10</td>\n",
       "      <td>14</td>\n",
       "      <td>14</td>\n",
       "      <td>...</td>\n",
       "      <td>1</td>\n",
       "      <td>3</td>\n",
       "      <td>1</td>\n",
       "      <td>0</td>\n",
       "      <td>17</td>\n",
       "      <td>3</td>\n",
       "      <td>8</td>\n",
       "      <td>60</td>\n",
       "      <td>nonbest</td>\n",
       "      <td>1</td>\n",
       "    </tr>\n",
       "    <tr>\n",
       "      <th>2</th>\n",
       "      <td>/Users/irene/Downloads/exam/exam2014/AAl_13_1.txt</td>\n",
       "      <td>75</td>\n",
       "      <td>best</td>\n",
       "      <td>271</td>\n",
       "      <td>5</td>\n",
       "      <td>1</td>\n",
       "      <td>3</td>\n",
       "      <td>11</td>\n",
       "      <td>23</td>\n",
       "      <td>23</td>\n",
       "      <td>...</td>\n",
       "      <td>3</td>\n",
       "      <td>6</td>\n",
       "      <td>3</td>\n",
       "      <td>1</td>\n",
       "      <td>19</td>\n",
       "      <td>2</td>\n",
       "      <td>8</td>\n",
       "      <td>66</td>\n",
       "      <td>best</td>\n",
       "      <td>1</td>\n",
       "    </tr>\n",
       "    <tr>\n",
       "      <th>3</th>\n",
       "      <td>/Users/irene/Downloads/exam/exam2014/AAl_14_1.txt</td>\n",
       "      <td>55</td>\n",
       "      <td>aver</td>\n",
       "      <td>218</td>\n",
       "      <td>3</td>\n",
       "      <td>0</td>\n",
       "      <td>1</td>\n",
       "      <td>10</td>\n",
       "      <td>14</td>\n",
       "      <td>14</td>\n",
       "      <td>...</td>\n",
       "      <td>3</td>\n",
       "      <td>2</td>\n",
       "      <td>0</td>\n",
       "      <td>0</td>\n",
       "      <td>12</td>\n",
       "      <td>3</td>\n",
       "      <td>11</td>\n",
       "      <td>78</td>\n",
       "      <td>nonbest</td>\n",
       "      <td>1</td>\n",
       "    </tr>\n",
       "    <tr>\n",
       "      <th>4</th>\n",
       "      <td>/Users/irene/Downloads/exam/exam2014/AAl_18_1.txt</td>\n",
       "      <td>60</td>\n",
       "      <td>aver</td>\n",
       "      <td>190</td>\n",
       "      <td>2</td>\n",
       "      <td>0</td>\n",
       "      <td>3</td>\n",
       "      <td>9</td>\n",
       "      <td>13</td>\n",
       "      <td>13</td>\n",
       "      <td>...</td>\n",
       "      <td>4</td>\n",
       "      <td>2</td>\n",
       "      <td>1</td>\n",
       "      <td>2</td>\n",
       "      <td>15</td>\n",
       "      <td>3</td>\n",
       "      <td>6</td>\n",
       "      <td>64</td>\n",
       "      <td>nonbest</td>\n",
       "      <td>1</td>\n",
       "    </tr>\n",
       "  </tbody>\n",
       "</table>\n",
       "<p>5 rows × 24 columns</p>\n",
       "</div>"
      ],
      "text/plain": [
       "                                                name grade1 grade2 num_tokens  \\\n",
       "0  /Users/irene/Downloads/exam/exam2014/AAl_10_1.txt     55   aver        186   \n",
       "1  /Users/irene/Downloads/exam/exam2014/AAl_11_1.txt     50   aver        195   \n",
       "2  /Users/irene/Downloads/exam/exam2014/AAl_13_1.txt     75   best        271   \n",
       "3  /Users/irene/Downloads/exam/exam2014/AAl_14_1.txt     55   aver        218   \n",
       "4  /Users/irene/Downloads/exam/exam2014/AAl_18_1.txt     60   aver        190   \n",
       "\n",
       "  num_acl num_acl_relcl num_advcl num_sents num_cl num_tu   ...    adj_n  \\\n",
       "0       2             3         2         7     13     13   ...        6   \n",
       "1       4             2         1        10     14     14   ...        1   \n",
       "2       5             1         3        11     23     23   ...        3   \n",
       "3       3             0         1        10     14     14   ...        3   \n",
       "4       2             0         3         9     13     13   ...        4   \n",
       "\n",
       "  ger_inf part_n n_inf num_vp min_depth max_depth num_np mark_best_nonbest  \\\n",
       "0      12      2     0     12         4         6     67           nonbest   \n",
       "1       3      1     0     17         3         8     60           nonbest   \n",
       "2       6      3     1     19         2         8     66              best   \n",
       "3       2      0     0     12         3        11     78           nonbest   \n",
       "4       2      1     2     15         3         6     64           nonbest   \n",
       "\n",
       "  type_ess  \n",
       "0        1  \n",
       "1        1  \n",
       "2        1  \n",
       "3        1  \n",
       "4        1  \n",
       "\n",
       "[5 rows x 24 columns]"
      ]
     },
     "execution_count": 66,
     "metadata": {},
     "output_type": "execute_result"
    }
   ],
   "source": [
    "df1.head()"
   ]
  },
  {
   "cell_type": "code",
   "execution_count": 67,
   "metadata": {},
   "outputs": [
    {
     "data": {
      "text/html": [
       "<div>\n",
       "<style scoped>\n",
       "    .dataframe tbody tr th:only-of-type {\n",
       "        vertical-align: middle;\n",
       "    }\n",
       "\n",
       "    .dataframe tbody tr th {\n",
       "        vertical-align: top;\n",
       "    }\n",
       "\n",
       "    .dataframe thead th {\n",
       "        text-align: right;\n",
       "    }\n",
       "</style>\n",
       "<table border=\"1\" class=\"dataframe\">\n",
       "  <thead>\n",
       "    <tr style=\"text-align: right;\">\n",
       "      <th></th>\n",
       "      <th>name</th>\n",
       "      <th>grade1</th>\n",
       "      <th>grade2</th>\n",
       "      <th>num_tokens</th>\n",
       "      <th>num_acl</th>\n",
       "      <th>num_acl_relcl</th>\n",
       "      <th>num_advcl</th>\n",
       "      <th>num_sents</th>\n",
       "      <th>num_cl</th>\n",
       "      <th>num_tu</th>\n",
       "      <th>...</th>\n",
       "      <th>adj_n</th>\n",
       "      <th>ger_inf</th>\n",
       "      <th>part_n</th>\n",
       "      <th>n_inf</th>\n",
       "      <th>num_vp</th>\n",
       "      <th>min_depth</th>\n",
       "      <th>max_depth</th>\n",
       "      <th>num_np</th>\n",
       "      <th>mark_best_nonbest</th>\n",
       "      <th>type_ess</th>\n",
       "    </tr>\n",
       "  </thead>\n",
       "  <tbody>\n",
       "    <tr>\n",
       "      <th>0</th>\n",
       "      <td>/Users/irene/Downloads/exam/exam2014/AAl_10_2.txt</td>\n",
       "      <td>65</td>\n",
       "      <td>aver</td>\n",
       "      <td>292</td>\n",
       "      <td>7</td>\n",
       "      <td>2</td>\n",
       "      <td>7</td>\n",
       "      <td>11</td>\n",
       "      <td>32</td>\n",
       "      <td>29</td>\n",
       "      <td>...</td>\n",
       "      <td>2</td>\n",
       "      <td>15</td>\n",
       "      <td>1</td>\n",
       "      <td>2</td>\n",
       "      <td>28</td>\n",
       "      <td>3</td>\n",
       "      <td>6</td>\n",
       "      <td>68</td>\n",
       "      <td>nonbest</td>\n",
       "      <td>2</td>\n",
       "    </tr>\n",
       "    <tr>\n",
       "      <th>1</th>\n",
       "      <td>/Users/irene/Downloads/exam/exam2014/AAl_16_2.txt</td>\n",
       "      <td>55</td>\n",
       "      <td>aver</td>\n",
       "      <td>282</td>\n",
       "      <td>4</td>\n",
       "      <td>1</td>\n",
       "      <td>7</td>\n",
       "      <td>13</td>\n",
       "      <td>31</td>\n",
       "      <td>30</td>\n",
       "      <td>...</td>\n",
       "      <td>5</td>\n",
       "      <td>16</td>\n",
       "      <td>0</td>\n",
       "      <td>1</td>\n",
       "      <td>30</td>\n",
       "      <td>1</td>\n",
       "      <td>7</td>\n",
       "      <td>72</td>\n",
       "      <td>nonbest</td>\n",
       "      <td>2</td>\n",
       "    </tr>\n",
       "    <tr>\n",
       "      <th>2</th>\n",
       "      <td>/Users/irene/Downloads/exam/exam2014/AAl_19_2.txt</td>\n",
       "      <td>60</td>\n",
       "      <td>aver</td>\n",
       "      <td>274</td>\n",
       "      <td>8</td>\n",
       "      <td>3</td>\n",
       "      <td>5</td>\n",
       "      <td>12</td>\n",
       "      <td>27</td>\n",
       "      <td>27</td>\n",
       "      <td>...</td>\n",
       "      <td>7</td>\n",
       "      <td>13</td>\n",
       "      <td>1</td>\n",
       "      <td>2</td>\n",
       "      <td>28</td>\n",
       "      <td>2</td>\n",
       "      <td>10</td>\n",
       "      <td>75</td>\n",
       "      <td>nonbest</td>\n",
       "      <td>2</td>\n",
       "    </tr>\n",
       "    <tr>\n",
       "      <th>3</th>\n",
       "      <td>/Users/irene/Downloads/exam/exam2014/AAl_20_2.txt</td>\n",
       "      <td>60</td>\n",
       "      <td>aver</td>\n",
       "      <td>243</td>\n",
       "      <td>2</td>\n",
       "      <td>1</td>\n",
       "      <td>8</td>\n",
       "      <td>12</td>\n",
       "      <td>31</td>\n",
       "      <td>31</td>\n",
       "      <td>...</td>\n",
       "      <td>2</td>\n",
       "      <td>15</td>\n",
       "      <td>0</td>\n",
       "      <td>0</td>\n",
       "      <td>30</td>\n",
       "      <td>2</td>\n",
       "      <td>8</td>\n",
       "      <td>67</td>\n",
       "      <td>nonbest</td>\n",
       "      <td>2</td>\n",
       "    </tr>\n",
       "    <tr>\n",
       "      <th>4</th>\n",
       "      <td>/Users/irene/Downloads/exam/exam2014/AAl_22_2.txt</td>\n",
       "      <td>55</td>\n",
       "      <td>aver</td>\n",
       "      <td>361</td>\n",
       "      <td>7</td>\n",
       "      <td>3</td>\n",
       "      <td>7</td>\n",
       "      <td>18</td>\n",
       "      <td>35</td>\n",
       "      <td>35</td>\n",
       "      <td>...</td>\n",
       "      <td>6</td>\n",
       "      <td>19</td>\n",
       "      <td>0</td>\n",
       "      <td>2</td>\n",
       "      <td>46</td>\n",
       "      <td>3</td>\n",
       "      <td>8</td>\n",
       "      <td>102</td>\n",
       "      <td>nonbest</td>\n",
       "      <td>2</td>\n",
       "    </tr>\n",
       "  </tbody>\n",
       "</table>\n",
       "<p>5 rows × 24 columns</p>\n",
       "</div>"
      ],
      "text/plain": [
       "                                                name grade1 grade2 num_tokens  \\\n",
       "0  /Users/irene/Downloads/exam/exam2014/AAl_10_2.txt     65   aver        292   \n",
       "1  /Users/irene/Downloads/exam/exam2014/AAl_16_2.txt     55   aver        282   \n",
       "2  /Users/irene/Downloads/exam/exam2014/AAl_19_2.txt     60   aver        274   \n",
       "3  /Users/irene/Downloads/exam/exam2014/AAl_20_2.txt     60   aver        243   \n",
       "4  /Users/irene/Downloads/exam/exam2014/AAl_22_2.txt     55   aver        361   \n",
       "\n",
       "  num_acl num_acl_relcl num_advcl num_sents num_cl num_tu   ...    adj_n  \\\n",
       "0       7             2         7        11     32     29   ...        2   \n",
       "1       4             1         7        13     31     30   ...        5   \n",
       "2       8             3         5        12     27     27   ...        7   \n",
       "3       2             1         8        12     31     31   ...        2   \n",
       "4       7             3         7        18     35     35   ...        6   \n",
       "\n",
       "  ger_inf part_n n_inf num_vp min_depth max_depth num_np mark_best_nonbest  \\\n",
       "0      15      1     2     28         3         6     68           nonbest   \n",
       "1      16      0     1     30         1         7     72           nonbest   \n",
       "2      13      1     2     28         2        10     75           nonbest   \n",
       "3      15      0     0     30         2         8     67           nonbest   \n",
       "4      19      0     2     46         3         8    102           nonbest   \n",
       "\n",
       "  type_ess  \n",
       "0        2  \n",
       "1        2  \n",
       "2        2  \n",
       "3        2  \n",
       "4        2  \n",
       "\n",
       "[5 rows x 24 columns]"
      ]
     },
     "execution_count": 67,
     "metadata": {},
     "output_type": "execute_result"
    }
   ],
   "source": [
    "df2.head()"
   ]
  },
  {
   "cell_type": "code",
   "execution_count": 68,
   "metadata": {
    "collapsed": true
   },
   "outputs": [],
   "source": [
    "res = df1.append(df2, ignore_index=True)"
   ]
  },
  {
   "cell_type": "code",
   "execution_count": 70,
   "metadata": {
    "scrolled": true
   },
   "outputs": [
    {
     "data": {
      "text/html": [
       "<div>\n",
       "<style scoped>\n",
       "    .dataframe tbody tr th:only-of-type {\n",
       "        vertical-align: middle;\n",
       "    }\n",
       "\n",
       "    .dataframe tbody tr th {\n",
       "        vertical-align: top;\n",
       "    }\n",
       "\n",
       "    .dataframe thead th {\n",
       "        text-align: right;\n",
       "    }\n",
       "</style>\n",
       "<table border=\"1\" class=\"dataframe\">\n",
       "  <thead>\n",
       "    <tr style=\"text-align: right;\">\n",
       "      <th></th>\n",
       "      <th>name</th>\n",
       "      <th>grade1</th>\n",
       "      <th>grade2</th>\n",
       "      <th>num_tokens</th>\n",
       "      <th>num_acl</th>\n",
       "      <th>num_acl_relcl</th>\n",
       "      <th>num_advcl</th>\n",
       "      <th>num_sents</th>\n",
       "      <th>num_cl</th>\n",
       "      <th>num_tu</th>\n",
       "      <th>...</th>\n",
       "      <th>adj_n</th>\n",
       "      <th>ger_inf</th>\n",
       "      <th>part_n</th>\n",
       "      <th>n_inf</th>\n",
       "      <th>num_vp</th>\n",
       "      <th>min_depth</th>\n",
       "      <th>max_depth</th>\n",
       "      <th>num_np</th>\n",
       "      <th>mark_best_nonbest</th>\n",
       "      <th>type_ess</th>\n",
       "    </tr>\n",
       "  </thead>\n",
       "  <tbody>\n",
       "    <tr>\n",
       "      <th>0</th>\n",
       "      <td>/Users/irene/Downloads/exam/exam2014/AAl_10_1.txt</td>\n",
       "      <td>55</td>\n",
       "      <td>aver</td>\n",
       "      <td>186</td>\n",
       "      <td>2</td>\n",
       "      <td>3</td>\n",
       "      <td>2</td>\n",
       "      <td>7</td>\n",
       "      <td>13</td>\n",
       "      <td>13</td>\n",
       "      <td>...</td>\n",
       "      <td>6</td>\n",
       "      <td>12</td>\n",
       "      <td>2</td>\n",
       "      <td>0</td>\n",
       "      <td>12</td>\n",
       "      <td>4</td>\n",
       "      <td>6</td>\n",
       "      <td>67</td>\n",
       "      <td>nonbest</td>\n",
       "      <td>1</td>\n",
       "    </tr>\n",
       "    <tr>\n",
       "      <th>1</th>\n",
       "      <td>/Users/irene/Downloads/exam/exam2014/AAl_11_1.txt</td>\n",
       "      <td>50</td>\n",
       "      <td>aver</td>\n",
       "      <td>195</td>\n",
       "      <td>4</td>\n",
       "      <td>2</td>\n",
       "      <td>1</td>\n",
       "      <td>10</td>\n",
       "      <td>14</td>\n",
       "      <td>14</td>\n",
       "      <td>...</td>\n",
       "      <td>1</td>\n",
       "      <td>3</td>\n",
       "      <td>1</td>\n",
       "      <td>0</td>\n",
       "      <td>17</td>\n",
       "      <td>3</td>\n",
       "      <td>8</td>\n",
       "      <td>60</td>\n",
       "      <td>nonbest</td>\n",
       "      <td>1</td>\n",
       "    </tr>\n",
       "    <tr>\n",
       "      <th>2</th>\n",
       "      <td>/Users/irene/Downloads/exam/exam2014/AAl_13_1.txt</td>\n",
       "      <td>75</td>\n",
       "      <td>best</td>\n",
       "      <td>271</td>\n",
       "      <td>5</td>\n",
       "      <td>1</td>\n",
       "      <td>3</td>\n",
       "      <td>11</td>\n",
       "      <td>23</td>\n",
       "      <td>23</td>\n",
       "      <td>...</td>\n",
       "      <td>3</td>\n",
       "      <td>6</td>\n",
       "      <td>3</td>\n",
       "      <td>1</td>\n",
       "      <td>19</td>\n",
       "      <td>2</td>\n",
       "      <td>8</td>\n",
       "      <td>66</td>\n",
       "      <td>best</td>\n",
       "      <td>1</td>\n",
       "    </tr>\n",
       "    <tr>\n",
       "      <th>3</th>\n",
       "      <td>/Users/irene/Downloads/exam/exam2014/AAl_14_1.txt</td>\n",
       "      <td>55</td>\n",
       "      <td>aver</td>\n",
       "      <td>218</td>\n",
       "      <td>3</td>\n",
       "      <td>0</td>\n",
       "      <td>1</td>\n",
       "      <td>10</td>\n",
       "      <td>14</td>\n",
       "      <td>14</td>\n",
       "      <td>...</td>\n",
       "      <td>3</td>\n",
       "      <td>2</td>\n",
       "      <td>0</td>\n",
       "      <td>0</td>\n",
       "      <td>12</td>\n",
       "      <td>3</td>\n",
       "      <td>11</td>\n",
       "      <td>78</td>\n",
       "      <td>nonbest</td>\n",
       "      <td>1</td>\n",
       "    </tr>\n",
       "    <tr>\n",
       "      <th>4</th>\n",
       "      <td>/Users/irene/Downloads/exam/exam2014/AAl_18_1.txt</td>\n",
       "      <td>60</td>\n",
       "      <td>aver</td>\n",
       "      <td>190</td>\n",
       "      <td>2</td>\n",
       "      <td>0</td>\n",
       "      <td>3</td>\n",
       "      <td>9</td>\n",
       "      <td>13</td>\n",
       "      <td>13</td>\n",
       "      <td>...</td>\n",
       "      <td>4</td>\n",
       "      <td>2</td>\n",
       "      <td>1</td>\n",
       "      <td>2</td>\n",
       "      <td>15</td>\n",
       "      <td>3</td>\n",
       "      <td>6</td>\n",
       "      <td>64</td>\n",
       "      <td>nonbest</td>\n",
       "      <td>1</td>\n",
       "    </tr>\n",
       "  </tbody>\n",
       "</table>\n",
       "<p>5 rows × 24 columns</p>\n",
       "</div>"
      ],
      "text/plain": [
       "                                                name grade1 grade2 num_tokens  \\\n",
       "0  /Users/irene/Downloads/exam/exam2014/AAl_10_1.txt     55   aver        186   \n",
       "1  /Users/irene/Downloads/exam/exam2014/AAl_11_1.txt     50   aver        195   \n",
       "2  /Users/irene/Downloads/exam/exam2014/AAl_13_1.txt     75   best        271   \n",
       "3  /Users/irene/Downloads/exam/exam2014/AAl_14_1.txt     55   aver        218   \n",
       "4  /Users/irene/Downloads/exam/exam2014/AAl_18_1.txt     60   aver        190   \n",
       "\n",
       "  num_acl num_acl_relcl num_advcl num_sents num_cl num_tu   ...    adj_n  \\\n",
       "0       2             3         2         7     13     13   ...        6   \n",
       "1       4             2         1        10     14     14   ...        1   \n",
       "2       5             1         3        11     23     23   ...        3   \n",
       "3       3             0         1        10     14     14   ...        3   \n",
       "4       2             0         3         9     13     13   ...        4   \n",
       "\n",
       "  ger_inf part_n n_inf num_vp min_depth max_depth num_np mark_best_nonbest  \\\n",
       "0      12      2     0     12         4         6     67           nonbest   \n",
       "1       3      1     0     17         3         8     60           nonbest   \n",
       "2       6      3     1     19         2         8     66              best   \n",
       "3       2      0     0     12         3        11     78           nonbest   \n",
       "4       2      1     2     15         3         6     64           nonbest   \n",
       "\n",
       "  type_ess  \n",
       "0        1  \n",
       "1        1  \n",
       "2        1  \n",
       "3        1  \n",
       "4        1  \n",
       "\n",
       "[5 rows x 24 columns]"
      ]
     },
     "execution_count": 70,
     "metadata": {},
     "output_type": "execute_result"
    }
   ],
   "source": [
    "res.head()"
   ]
  },
  {
   "cell_type": "code",
   "execution_count": 71,
   "metadata": {
    "collapsed": true
   },
   "outputs": [],
   "source": [
    "gr1 = res['grade1']\n",
    "gr2 = res['grade2']\n",
    "names = res['name']"
   ]
  },
  {
   "cell_type": "code",
   "execution_count": 72,
   "metadata": {
    "collapsed": true
   },
   "outputs": [],
   "source": [
    "res = res.drop(['grade1', 'name', 'grade2'], axis=1)"
   ]
  },
  {
   "cell_type": "code",
   "execution_count": 73,
   "metadata": {
    "collapsed": true
   },
   "outputs": [],
   "source": [
    "y = res.values[:, res.shape[1]-2]"
   ]
  },
  {
   "cell_type": "code",
   "execution_count": 74,
   "metadata": {},
   "outputs": [
    {
     "data": {
      "text/plain": [
       "array(['nonbest', 'nonbest', 'best', ..., 'nonbest', 'nonbest', 'nonbest'],\n",
       "      dtype=object)"
      ]
     },
     "execution_count": 74,
     "metadata": {},
     "output_type": "execute_result"
    }
   ],
   "source": [
    "y"
   ]
  },
  {
   "cell_type": "code",
   "execution_count": 75,
   "metadata": {
    "collapsed": true
   },
   "outputs": [],
   "source": [
    "X_df_best_non = res.drop(['mark_best_nonbest'], axis=1)\n",
    "X_df_best_non[X_df_best_non.columns] = X_df_best_non[X_df_best_non.columns].astype(float)\n",
    "X = X_df_best_non.values[:, 0:X_df_best_non.shape[1]]"
   ]
  },
  {
   "cell_type": "code",
   "execution_count": 19,
   "metadata": {
    "collapsed": true
   },
   "outputs": [],
   "source": [
    "from sklearn.model_selection import StratifiedKFold"
   ]
  },
  {
   "cell_type": "code",
   "execution_count": 20,
   "metadata": {},
   "outputs": [
    {
     "name": "stdout",
     "output_type": "stream",
     "text": [
      "TRAIN ( 1694 essays ) TEST ( 424 essays )\n",
      "TRAIN ( 1694 essays ) TEST ( 424 essays )\n",
      "TRAIN ( 1694 essays ) TEST ( 424 essays )\n",
      "TRAIN ( 1694 essays ) TEST ( 424 essays )\n",
      "TRAIN ( 1696 essays ) TEST ( 422 essays )\n"
     ]
    }
   ],
   "source": [
    "skf = StratifiedKFold(n_splits=5, shuffle=False, random_state=0)\n",
    "skf.get_n_splits(X, y)\n",
    "for train_index, test_index in skf.split(X, y):\n",
    "    print(\"TRAIN (\", len(train_index), 'essays )', \"TEST (\", len(test_index), 'essays )')\n",
    "    X_train, X_test = X[train_index], X[test_index]\n",
    "    y_train, y_test = y[train_index], y[test_index]"
   ]
  },
  {
   "cell_type": "code",
   "execution_count": 21,
   "metadata": {},
   "outputs": [
    {
     "data": {
      "text/plain": [
       "GridSearchCV(cv=None, error_score='raise',\n",
       "       estimator=DecisionTreeClassifier(class_weight='balanced', criterion='gini',\n",
       "            max_depth=None, max_features=None, max_leaf_nodes=None,\n",
       "            min_impurity_decrease=0.0, min_impurity_split=None,\n",
       "            min_samples_leaf=1, min_samples_split=2,\n",
       "            min_weight_fraction_leaf=0.0, presort=False, random_state=42,\n",
       "            splitter='best'),\n",
       "       fit_params=None, iid=True, n_jobs=1,\n",
       "       param_grid={'max_depth': range(1, 101), 'max_features': range(1, 20)},\n",
       "       pre_dispatch='2*n_jobs', refit=True, return_train_score='warn',\n",
       "       scoring='accuracy', verbose=0)"
      ]
     },
     "execution_count": 21,
     "metadata": {},
     "output_type": "execute_result"
    }
   ],
   "source": [
    "parameters = {\n",
    "    'max_depth': range(1, 101),\n",
    "    'max_features': range(1, X_df_best_non.shape[1]),\n",
    "}\n",
    "clf1 = DecisionTreeClassifier(random_state=42, class_weight='balanced') \n",
    "clf1 = GridSearchCV(clf1, parameters, scoring='accuracy')\n",
    "clf1.fit(X_train, y_train)"
   ]
  },
  {
   "cell_type": "code",
   "execution_count": 22,
   "metadata": {},
   "outputs": [
    {
     "name": "stdout",
     "output_type": "stream",
     "text": [
      "             precision    recall  f1-score   support\n",
      "\n",
      "       best       0.12      0.18      0.14        33\n",
      "    nonbest       0.93      0.89      0.91       389\n",
      "\n",
      "avg / total       0.86      0.83      0.85       422\n",
      "\n"
     ]
    }
   ],
   "source": [
    "y_pred = clf1.predict(X_test)\n",
    "print(classification_report(y_test, y_pred)) "
   ]
  },
  {
   "cell_type": "code",
   "execution_count": 23,
   "metadata": {
    "collapsed": true
   },
   "outputs": [],
   "source": [
    "def plot_confusion_matrix(cm, classes,\n",
    "                          normalize=False,\n",
    "                          title='Confusion matrix',\n",
    "                          cmap=plt.cm.coolwarm):\n",
    "    \"\"\"\n",
    "    This function prints and plots the confusion matrix.\n",
    "    Normalization can be applied by setting `normalize=True`.\n",
    "    \"\"\"\n",
    "    if normalize:\n",
    "        cm = cm.astype('float') / cm.sum(axis=1)[:, np.newaxis]\n",
    "\n",
    "\n",
    "    plt.imshow(cm, interpolation='nearest', cmap=cmap)\n",
    "    plt.title(title)\n",
    "    plt.colorbar()\n",
    "    tick_marks = np.arange(len(classes))\n",
    "    plt.xticks(tick_marks, classes, rotation=45)\n",
    "    plt.yticks(tick_marks, classes)\n",
    "\n",
    "    fmt = '.2f' if normalize else 'd'\n",
    "    thresh = cm.max() / 2.\n",
    "    for i, j in itertools.product(range(cm.shape[0]), range(cm.shape[1])):\n",
    "        plt.text(j, i, format(cm[i, j], fmt),\n",
    "                 horizontalalignment=\"center\",\n",
    "                 color=\"white\" if cm[i, j] > thresh else \"black\")\n",
    "\n",
    "    plt.tight_layout()\n",
    "    plt.ylabel('True label')\n",
    "    plt.xlabel('Predicted label')"
   ]
  },
  {
   "cell_type": "code",
   "execution_count": 24,
   "metadata": {},
   "outputs": [
    {
     "data": {
      "image/png": "[encoded data removed]",
      "text/plain": [
       "<matplotlib.figure.Figure at 0x108de5fd0>"
      ]
     },
     "metadata": {},
     "output_type": "display_data"
    },
    {
     "data": {
      "image/png": "[encoded data removed]",
      "text/plain": [
       "<matplotlib.figure.Figure at 0x108eb1160>"
      ]
     },
     "metadata": {},
     "output_type": "display_data"
    }
   ],
   "source": [
    "# Compute confusion matrix\n",
    "cnf_matrix = confusion_matrix(y_test, y_pred)\n",
    "np.set_printoptions(precision=2)\n",
    "\n",
    "# Plot non-normalized confusion matrix\n",
    "plt.figure()\n",
    "plot_confusion_matrix(cnf_matrix, classes=clf1.classes_,\n",
    "                      title='Confusion matrix, without normalization')\n",
    "\n",
    "# Plot normalized confusion matrix\n",
    "plt.figure()\n",
    "plot_confusion_matrix(cnf_matrix, classes=clf1.classes_, normalize=True,\n",
    "                      title='Normalized confusion matrix')\n",
    "\n",
    "plt.show()"
   ]
  },
  {
   "cell_type": "code",
   "execution_count": 25,
   "metadata": {},
   "outputs": [
    {
     "name": "stdout",
     "output_type": "stream",
     "text": [
      "Accuracy:  0.83\n"
     ]
    }
   ],
   "source": [
    "print('Accuracy: ', round(accuracy_score(y_test, y_pred), 2))"
   ]
  },
  {
   "cell_type": "code",
   "execution_count": 26,
   "metadata": {
    "collapsed": true
   },
   "outputs": [],
   "source": [
    "import collections"
   ]
  },
  {
   "cell_type": "code",
   "execution_count": 27,
   "metadata": {
    "collapsed": true
   },
   "outputs": [],
   "source": [
    "def imp(clf_grid, feature_names):\n",
    "    importances = clf_grid.best_estimator_.feature_importances_\n",
    "    #print(clf_grid.best_estimator_)\n",
    "    if isinstance(clf_grid.best_estimator_, collections.Iterable):\n",
    "        std = np.std([clf_grid.best_estimator_.feature_importances_ for tree in clf_grid.best_estimator_],\n",
    "             axis=0)\n",
    "    else:\n",
    "        std = clf1.best_estimator_.feature_importances_\n",
    "    #print(std)\n",
    "    indices = np.argsort(importances)[::-1]\n",
    "    d = {'importance': importances, 'name_feature': feature_names}\n",
    "    \n",
    "    # Print the feature ranking\n",
    "    df_importance = pd.DataFrame(data=d)\n",
    "    df_importance = df_importance.sort_values(by=['importance'], ascending=False)\n",
    "    print(\"Feature ranking:\")\n",
    "\n",
    "    print(df_importance)\n",
    "\n",
    "    # Plot the feature importances of the forest\n",
    "    plt.figure(figsize=(10,5))\n",
    "    plt.title(\"Feature importances\")\n",
    "    plt.bar(range(X.shape[1]), importances[indices],\n",
    "       color=\"g\")\n",
    "    plt.xticks(range(X.shape[1]), df_importance['name_feature'], rotation='vertical')\n",
    "    plt.xlim([-1, X.shape[1]])\n",
    "    plt.show()"
   ]
  },
  {
   "cell_type": "code",
   "execution_count": 28,
   "metadata": {},
   "outputs": [
    {
     "name": "stdout",
     "output_type": "stream",
     "text": [
      "Feature ranking:\n",
      "    importance   name_feature\n",
      "0     0.213114     num_tokens\n",
      "12    0.113913        ger_inf\n",
      "3     0.072241      num_advcl\n",
      "11    0.061828          adj_n\n",
      "14    0.059024          n_inf\n",
      "9     0.055448           poss\n",
      "4     0.053656      num_sents\n",
      "15    0.050320         num_vp\n",
      "1     0.046752        num_acl\n",
      "18    0.044826         num_np\n",
      "10    0.043147        prep_ph\n",
      "17    0.043049      max_depth\n",
      "2     0.026284  num_acl_relcl\n",
      "5     0.022505         num_cl\n",
      "13    0.022310         part_n\n",
      "7     0.019651        num_ctu\n",
      "16    0.018534      min_depth\n",
      "8     0.018196      num_coord\n",
      "6     0.015201         num_tu\n",
      "19    0.000000       type_ess\n"
     ]
    },
    {
     "data": {
      "image/png": "[encoded data removed]",
      "text/plain": [
       "<matplotlib.figure.Figure at 0x109c2d470>"
      ]
     },
     "metadata": {},
     "output_type": "display_data"
    }
   ],
   "source": [
    "imp(clf1, X_df_best_non.columns)"
   ]
  },
  {
   "cell_type": "code",
   "execution_count": 29,
   "metadata": {
    "collapsed": true
   },
   "outputs": [],
   "source": [
    "y_test_1 = []\n",
    "for x in y_test:\n",
    "    if x == 'best':\n",
    "        y_test_1.append(1)\n",
    "    else:\n",
    "        y_test_1.append(0)"
   ]
  },
  {
   "cell_type": "code",
   "execution_count": 30,
   "metadata": {},
   "outputs": [
    {
     "data": {
      "image/png": "[encoded data removed]",
      "text/plain": [
       "<matplotlib.figure.Figure at 0x109983d68>"
      ]
     },
     "metadata": {},
     "output_type": "display_data"
    }
   ],
   "source": [
    "errors = []\n",
    "growing_rf = RandomForestClassifier(n_estimators=1, warm_start=True, random_state=42)\n",
    "for i in range(50):\n",
    "    growing_rf.fit(X_train, y_train)\n",
    "    growing_rf.n_estimators += 10\n",
    "    y_pred = growing_rf.predict_proba(X_test)\n",
    "    errors.append(accuracy_score(y_test_1, y_pred[:, 1].round()))\n",
    "#accuracy_score(y_true, y_pred.round(), normalize=False)\n",
    "plt.plot(errors, '-r')\n",
    "plt.title('accuracy vs. n_estimators', fontsize=20)\n",
    "plt.xlabel('n_estimators', fontsize=20)\n",
    "plt.ylabel('accuracy score', fontsize=20)\n",
    "plt.show()"
   ]
  },
  {
   "cell_type": "code",
   "execution_count": 31,
   "metadata": {},
   "outputs": [
    {
     "data": {
      "text/plain": [
       "GridSearchCV(cv=None, error_score='raise',\n",
       "       estimator=RandomForestClassifier(bootstrap=True, class_weight='balanced',\n",
       "            criterion='gini', max_depth=None, max_features='auto',\n",
       "            max_leaf_nodes=None, min_impurity_decrease=0.0,\n",
       "            min_impurity_split=None, min_samples_leaf=1,\n",
       "            min_samples_split=2, min_weight_fraction_leaf=0.0,\n",
       "            n_estimators=10, n_jobs=1, oob_score=False, random_state=42,\n",
       "            verbose=0, warm_start=False),\n",
       "       fit_params=None, iid=True, n_jobs=1,\n",
       "       param_grid={'max_features': range(1, 20), 'max_depth': range(1, 30)},\n",
       "       pre_dispatch='2*n_jobs', refit=True, return_train_score='warn',\n",
       "       scoring='accuracy', verbose=0)"
      ]
     },
     "execution_count": 31,
     "metadata": {},
     "output_type": "execute_result"
    }
   ],
   "source": [
    "parameters = {\n",
    "    'max_features': range(1, X_df_best_non.shape[1]),\n",
    "    'max_depth' : range(1, 30),\n",
    "}\n",
    "clf2 = RandomForestClassifier(n_estimators=10, random_state=42, class_weight='balanced')\n",
    "clf2 = GridSearchCV(clf2, parameters, scoring = 'accuracy')\n",
    "clf2.fit(X_train, y_train)"
   ]
  },
  {
   "cell_type": "code",
   "execution_count": 32,
   "metadata": {
    "collapsed": true
   },
   "outputs": [],
   "source": [
    "y_pred = clf2.predict(X_test)"
   ]
  },
  {
   "cell_type": "code",
   "execution_count": 33,
   "metadata": {},
   "outputs": [
    {
     "name": "stdout",
     "output_type": "stream",
     "text": [
      "             precision    recall  f1-score   support\n",
      "\n",
      "       best       0.25      0.03      0.05        33\n",
      "    nonbest       0.92      0.99      0.96       389\n",
      "\n",
      "avg / total       0.87      0.92      0.89       422\n",
      "\n"
     ]
    }
   ],
   "source": [
    "print(classification_report(y_test, y_pred)) "
   ]
  },
  {
   "cell_type": "code",
   "execution_count": 34,
   "metadata": {},
   "outputs": [
    {
     "name": "stdout",
     "output_type": "stream",
     "text": [
      "Feature ranking:\n",
      "    importance   name_feature\n",
      "0     0.088639     num_tokens\n",
      "12    0.077216        ger_inf\n",
      "18    0.069744         num_np\n",
      "15    0.062361         num_vp\n",
      "10    0.061096        prep_ph\n",
      "9     0.059564           poss\n",
      "3     0.055821      num_advcl\n",
      "4     0.054834      num_sents\n",
      "6     0.051628         num_tu\n",
      "8     0.051064      num_coord\n",
      "5     0.051057         num_cl\n",
      "17    0.049042      max_depth\n",
      "1     0.046980        num_acl\n",
      "14    0.046677          n_inf\n",
      "11    0.044838          adj_n\n",
      "2     0.036524  num_acl_relcl\n",
      "13    0.032094         part_n\n",
      "16    0.030709      min_depth\n",
      "7     0.022210        num_ctu\n",
      "19    0.007902       type_ess\n"
     ]
    },
    {
     "data": {
      "image/png": "[encoded data removed]",
      "text/plain": [
       "<matplotlib.figure.Figure at 0x1099717f0>"
      ]
     },
     "metadata": {},
     "output_type": "display_data"
    }
   ],
   "source": [
    "imp(clf2, X_df_best_non.columns)"
   ]
  },
  {
   "cell_type": "code",
   "execution_count": 35,
   "metadata": {},
   "outputs": [
    {
     "data": {
      "text/plain": [
       "GridSearchCV(cv=None, error_score='raise',\n",
       "       estimator=LogisticRegression(C=1.0, class_weight=None, dual=False, fit_intercept=True,\n",
       "          intercept_scaling=1, max_iter=100, multi_class='ovr', n_jobs=1,\n",
       "          penalty='l1', random_state=None, solver='liblinear', tol=0.0001,\n",
       "          verbose=0, warm_start=False),\n",
       "       fit_params=None, iid=True, n_jobs=1,\n",
       "       param_grid={'C': array([1.00000e+00, 2.78256e+00, 7.74264e+00, 2.15443e+01, 5.99484e+01,\n",
       "       1.66810e+02, 4.64159e+02, 1.29155e+03, 3.59381e+03, 1.00000e+04])},\n",
       "       pre_dispatch='2*n_jobs', refit=True, return_train_score='warn',\n",
       "       scoring=None, verbose=0)"
      ]
     },
     "execution_count": 35,
     "metadata": {},
     "output_type": "execute_result"
    }
   ],
   "source": [
    "parameters = {'C': np.logspace(0, 4, 10)}\n",
    "clf3 = LogisticRegression(penalty='l1')\n",
    "clf3 = GridSearchCV(clf3, parameters)\n",
    "clf3.fit(X_train, y_train)"
   ]
  },
  {
   "cell_type": "code",
   "execution_count": 36,
   "metadata": {
    "collapsed": true
   },
   "outputs": [],
   "source": [
    "y_pred = clf3.predict(X_test)"
   ]
  },
  {
   "cell_type": "code",
   "execution_count": 37,
   "metadata": {},
   "outputs": [
    {
     "name": "stdout",
     "output_type": "stream",
     "text": [
      "Accuracy:  0.92\n"
     ]
    }
   ],
   "source": [
    "print('Accuracy: ', round(accuracy_score(y_test, y_pred), 2))"
   ]
  },
  {
   "cell_type": "code",
   "execution_count": 38,
   "metadata": {
    "collapsed": true
   },
   "outputs": [],
   "source": [
    "def imp2(clf_grid, feature_names):\n",
    "    importances = 100.0 * (abs(clf_grid.coef_[0]) / abs(clf_grid.coef_[0]).max())\n",
    "    #print(std)\n",
    "    indices = np.argsort(importances)[::-1]\n",
    "    d = {'importance': importances, 'name_feature': feature_names}\n",
    "    \n",
    "    # Print the feature ranking\n",
    "    df_importance = pd.DataFrame(data=d)\n",
    "    df_importance = df_importance.sort_values(by=['importance'], ascending=False)\n",
    "    print(\"Feature ranking:\")\n",
    "\n",
    "    print(df_importance)\n",
    "\n",
    "    # Plot the feature importances of the forest\n",
    "    plt.figure(figsize=(10,5))\n",
    "    plt.title(\"Relative feature importances\")\n",
    "    plt.bar(range(X.shape[1]), importances[indices],\n",
    "       color=\"g\")\n",
    "    plt.xticks(range(X.shape[1]), df_importance['name_feature'], rotation='vertical')\n",
    "    plt.xlim([-1, X.shape[1]])\n",
    "    plt.show()"
   ]
  },
  {
   "cell_type": "code",
   "execution_count": 39,
   "metadata": {},
   "outputs": [
    {
     "data": {
      "text/plain": [
       "LogisticRegression(C=1.0, class_weight=None, dual=False, fit_intercept=True,\n",
       "          intercept_scaling=1, max_iter=100, multi_class='ovr', n_jobs=1,\n",
       "          penalty='l1', random_state=None, solver='liblinear', tol=0.0001,\n",
       "          verbose=0, warm_start=False)"
      ]
     },
     "execution_count": 39,
     "metadata": {},
     "output_type": "execute_result"
    }
   ],
   "source": [
    "clf3 = LogisticRegression(penalty='l1', C=clf3.best_params_['C'])\n",
    "clf3.fit(X_train, y_train)"
   ]
  },
  {
   "cell_type": "code",
   "execution_count": 40,
   "metadata": {},
   "outputs": [
    {
     "name": "stdout",
     "output_type": "stream",
     "text": [
      "Feature ranking:\n",
      "    importance   name_feature\n",
      "19  100.000000       type_ess\n",
      "7    25.687314        num_ctu\n",
      "13   24.107942         part_n\n",
      "3    15.726595      num_advcl\n",
      "14    8.500463          n_inf\n",
      "4     7.171998      num_sents\n",
      "8     4.329263      num_coord\n",
      "15    3.979253         num_vp\n",
      "2     2.747870  num_acl_relcl\n",
      "12    2.700894        ger_inf\n",
      "5     2.692555         num_cl\n",
      "9     2.567483           poss\n",
      "11    2.259486          adj_n\n",
      "0     2.130902     num_tokens\n",
      "10    1.774551        prep_ph\n",
      "1     1.383235        num_acl\n",
      "17    1.021383      max_depth\n",
      "16    0.691367      min_depth\n",
      "18    0.116723         num_np\n",
      "6     0.000000         num_tu\n"
     ]
    },
    {
     "data": {
      "image/png": "[encoded data removed]",
      "text/plain": [
       "<matplotlib.figure.Figure at 0x109a48f60>"
      ]
     },
     "metadata": {},
     "output_type": "display_data"
    }
   ],
   "source": [
    "imp2(clf3, X_df_best_non.columns)"
   ]
  },
  {
   "cell_type": "code",
   "execution_count": 41,
   "metadata": {},
   "outputs": [
    {
     "data": {
      "text/plain": [
       "(2118, 21)"
      ]
     },
     "execution_count": 41,
     "metadata": {},
     "output_type": "execute_result"
    }
   ],
   "source": [
    "res.shape"
   ]
  },
  {
   "cell_type": "code",
   "execution_count": 76,
   "metadata": {
    "collapsed": true
   },
   "outputs": [],
   "source": [
    "res = res.drop(['type_ess'], axis=1)"
   ]
  },
  {
   "cell_type": "code",
   "execution_count": 77,
   "metadata": {
    "collapsed": true
   },
   "outputs": [],
   "source": [
    "best = res[res['mark_best_nonbest'] == 'best']\n",
    "nonbest = res[res['mark_best_nonbest'] == 'nonbest']"
   ]
  },
  {
   "cell_type": "code",
   "execution_count": 78,
   "metadata": {},
   "outputs": [
    {
     "data": {
      "text/plain": [
       "(169, 20)"
      ]
     },
     "execution_count": 78,
     "metadata": {},
     "output_type": "execute_result"
    }
   ],
   "source": [
    "best.shape"
   ]
  },
  {
   "cell_type": "code",
   "execution_count": 79,
   "metadata": {},
   "outputs": [
    {
     "data": {
      "text/plain": [
       "(1949, 20)"
      ]
     },
     "execution_count": 79,
     "metadata": {},
     "output_type": "execute_result"
    }
   ],
   "source": [
    "nonbest.shape"
   ]
  },
  {
   "cell_type": "code",
   "execution_count": 80,
   "metadata": {
    "collapsed": true
   },
   "outputs": [],
   "source": [
    "def count_accuracy(df):\n",
    "    y = df.values[:, df.shape[1]-1]\n",
    "    X_df_best_non = df.drop(['mark_best_nonbest'], axis=1)\n",
    "    X_df_best_non[X_df_best_non.columns] = X_df_best_non[X_df_best_non.columns].astype(float)\n",
    "    X = X_df_best_non.values[:, 0:X_df_best_non.shape[1]]\n",
    "    skf = StratifiedKFold(n_splits=5, shuffle=False, random_state=0)\n",
    "    #skf.get_n_splits(X, y)\n",
    "    for train_index, test_index in skf.split(X, y):\n",
    "        #print(\"TRAIN (\", len(train_index), 'essays )', \"TEST (\", len(test_index), 'essays )')\n",
    "        X_train, X_test = X[train_index], X[test_index]\n",
    "        y_train, y_test = y[train_index], y[test_index]\n",
    "    parameters = {'max_depth': range(1, 101),'max_features': range(1, X_df_best_non.shape[1])}\n",
    "    clf1 = DecisionTreeClassifier(random_state=42, class_weight='balanced') \n",
    "    clf1 = GridSearchCV(clf1, parameters, scoring='accuracy')\n",
    "    clf1.fit(X_train, y_train)\n",
    "    y_pred = clf1.predict(X_test)\n",
    "    return round(accuracy_score(y_test, y_pred), 2)"
   ]
  },
  {
   "cell_type": "code",
   "execution_count": 81,
   "metadata": {
    "collapsed": true
   },
   "outputs": [],
   "source": [
    "def count_accuracy2(df):\n",
    "    y = df.values[:, df.shape[1]-1]\n",
    "    X_df_best_non = df.drop(['mark_best_nonbest'], axis=1)\n",
    "    X_df_best_non[X_df_best_non.columns] = X_df_best_non[X_df_best_non.columns].astype(float)\n",
    "    X = X_df_best_non.values[:, 0:X_df_best_non.shape[1]]\n",
    "    skf = StratifiedKFold(n_splits=5, shuffle=False, random_state=0)\n",
    "    #skf.get_n_splits(X, y)\n",
    "    for train_index, test_index in skf.split(X, y):\n",
    "        #print(\"TRAIN (\", len(train_index), 'essays )', \"TEST (\", len(test_index), 'essays )')\n",
    "        X_train, X_test = X[train_index], X[test_index]\n",
    "        y_train, y_test = y[train_index], y[test_index]\n",
    "    parameters = {'max_depth': range(1, 101),'max_features': range(1, X_df_best_non.shape[1])}\n",
    "    clf1 = RandomForestClassifier()\n",
    "    clf1.fit(X_train, y_train)\n",
    "    y_pred = clf1.predict(X_test)\n",
    "    return round(accuracy_score(y_test, y_pred), 2)"
   ]
  },
  {
   "cell_type": "code",
   "execution_count": 82,
   "metadata": {},
   "outputs": [
    {
     "name": "stdout",
     "output_type": "stream",
     "text": [
      "169\n",
      "1949\n"
     ]
    }
   ],
   "source": [
    "best_num = [16]*9\n",
    "best_num.append(25)\n",
    "print(sum(best_num))\n",
    "nonbest_num = [195]*9\n",
    "nonbest_num.append(194)\n",
    "print(sum(nonbest_num))"
   ]
  },
  {
   "cell_type": "code",
   "execution_count": 83,
   "metadata": {},
   "outputs": [
    {
     "data": {
      "text/html": [
       "<div>\n",
       "<style scoped>\n",
       "    .dataframe tbody tr th:only-of-type {\n",
       "        vertical-align: middle;\n",
       "    }\n",
       "\n",
       "    .dataframe tbody tr th {\n",
       "        vertical-align: top;\n",
       "    }\n",
       "\n",
       "    .dataframe thead th {\n",
       "        text-align: right;\n",
       "    }\n",
       "</style>\n",
       "<table border=\"1\" class=\"dataframe\">\n",
       "  <thead>\n",
       "    <tr style=\"text-align: right;\">\n",
       "      <th></th>\n",
       "      <th>num_tokens</th>\n",
       "      <th>num_acl</th>\n",
       "      <th>num_acl_relcl</th>\n",
       "      <th>num_advcl</th>\n",
       "      <th>num_sents</th>\n",
       "      <th>num_cl</th>\n",
       "      <th>num_tu</th>\n",
       "      <th>num_ctu</th>\n",
       "      <th>num_coord</th>\n",
       "      <th>poss</th>\n",
       "      <th>prep_ph</th>\n",
       "      <th>adj_n</th>\n",
       "      <th>ger_inf</th>\n",
       "      <th>part_n</th>\n",
       "      <th>n_inf</th>\n",
       "      <th>num_vp</th>\n",
       "      <th>min_depth</th>\n",
       "      <th>max_depth</th>\n",
       "      <th>num_np</th>\n",
       "      <th>mark_best_nonbest</th>\n",
       "    </tr>\n",
       "  </thead>\n",
       "  <tbody>\n",
       "    <tr>\n",
       "      <th>0</th>\n",
       "      <td>186</td>\n",
       "      <td>2</td>\n",
       "      <td>3</td>\n",
       "      <td>2</td>\n",
       "      <td>7</td>\n",
       "      <td>13</td>\n",
       "      <td>13</td>\n",
       "      <td>0</td>\n",
       "      <td>1</td>\n",
       "      <td>13</td>\n",
       "      <td>34</td>\n",
       "      <td>6</td>\n",
       "      <td>12</td>\n",
       "      <td>2</td>\n",
       "      <td>0</td>\n",
       "      <td>12</td>\n",
       "      <td>4</td>\n",
       "      <td>6</td>\n",
       "      <td>67</td>\n",
       "      <td>nonbest</td>\n",
       "    </tr>\n",
       "    <tr>\n",
       "      <th>1</th>\n",
       "      <td>195</td>\n",
       "      <td>4</td>\n",
       "      <td>2</td>\n",
       "      <td>1</td>\n",
       "      <td>10</td>\n",
       "      <td>14</td>\n",
       "      <td>14</td>\n",
       "      <td>0</td>\n",
       "      <td>5</td>\n",
       "      <td>19</td>\n",
       "      <td>36</td>\n",
       "      <td>1</td>\n",
       "      <td>3</td>\n",
       "      <td>1</td>\n",
       "      <td>0</td>\n",
       "      <td>17</td>\n",
       "      <td>3</td>\n",
       "      <td>8</td>\n",
       "      <td>60</td>\n",
       "      <td>nonbest</td>\n",
       "    </tr>\n",
       "    <tr>\n",
       "      <th>3</th>\n",
       "      <td>218</td>\n",
       "      <td>3</td>\n",
       "      <td>0</td>\n",
       "      <td>1</td>\n",
       "      <td>10</td>\n",
       "      <td>14</td>\n",
       "      <td>14</td>\n",
       "      <td>0</td>\n",
       "      <td>4</td>\n",
       "      <td>27</td>\n",
       "      <td>46</td>\n",
       "      <td>3</td>\n",
       "      <td>2</td>\n",
       "      <td>0</td>\n",
       "      <td>0</td>\n",
       "      <td>12</td>\n",
       "      <td>3</td>\n",
       "      <td>11</td>\n",
       "      <td>78</td>\n",
       "      <td>nonbest</td>\n",
       "    </tr>\n",
       "    <tr>\n",
       "      <th>4</th>\n",
       "      <td>190</td>\n",
       "      <td>2</td>\n",
       "      <td>0</td>\n",
       "      <td>3</td>\n",
       "      <td>9</td>\n",
       "      <td>13</td>\n",
       "      <td>13</td>\n",
       "      <td>0</td>\n",
       "      <td>2</td>\n",
       "      <td>18</td>\n",
       "      <td>39</td>\n",
       "      <td>4</td>\n",
       "      <td>2</td>\n",
       "      <td>1</td>\n",
       "      <td>2</td>\n",
       "      <td>15</td>\n",
       "      <td>3</td>\n",
       "      <td>6</td>\n",
       "      <td>64</td>\n",
       "      <td>nonbest</td>\n",
       "    </tr>\n",
       "    <tr>\n",
       "      <th>5</th>\n",
       "      <td>202</td>\n",
       "      <td>4</td>\n",
       "      <td>1</td>\n",
       "      <td>3</td>\n",
       "      <td>11</td>\n",
       "      <td>16</td>\n",
       "      <td>16</td>\n",
       "      <td>0</td>\n",
       "      <td>4</td>\n",
       "      <td>18</td>\n",
       "      <td>36</td>\n",
       "      <td>4</td>\n",
       "      <td>5</td>\n",
       "      <td>2</td>\n",
       "      <td>1</td>\n",
       "      <td>14</td>\n",
       "      <td>3</td>\n",
       "      <td>6</td>\n",
       "      <td>65</td>\n",
       "      <td>nonbest</td>\n",
       "    </tr>\n",
       "  </tbody>\n",
       "</table>\n",
       "</div>"
      ],
      "text/plain": [
       "  num_tokens num_acl num_acl_relcl num_advcl num_sents num_cl num_tu num_ctu  \\\n",
       "0        186       2             3         2         7     13     13       0   \n",
       "1        195       4             2         1        10     14     14       0   \n",
       "3        218       3             0         1        10     14     14       0   \n",
       "4        190       2             0         3         9     13     13       0   \n",
       "5        202       4             1         3        11     16     16       0   \n",
       "\n",
       "  num_coord poss prep_ph adj_n ger_inf part_n n_inf num_vp min_depth  \\\n",
       "0         1   13      34     6      12      2     0     12         4   \n",
       "1         5   19      36     1       3      1     0     17         3   \n",
       "3         4   27      46     3       2      0     0     12         3   \n",
       "4         2   18      39     4       2      1     2     15         3   \n",
       "5         4   18      36     4       5      2     1     14         3   \n",
       "\n",
       "  max_depth num_np mark_best_nonbest  \n",
       "0         6     67           nonbest  \n",
       "1         8     60           nonbest  \n",
       "3        11     78           nonbest  \n",
       "4         6     64           nonbest  \n",
       "5         6     65           nonbest  "
      ]
     },
     "execution_count": 83,
     "metadata": {},
     "output_type": "execute_result"
    }
   ],
   "source": [
    "nonbest.head()"
   ]
  },
  {
   "cell_type": "code",
   "execution_count": 84,
   "metadata": {},
   "outputs": [
    {
     "data": {
      "text/html": [
       "<div>\n",
       "<style scoped>\n",
       "    .dataframe tbody tr th:only-of-type {\n",
       "        vertical-align: middle;\n",
       "    }\n",
       "\n",
       "    .dataframe tbody tr th {\n",
       "        vertical-align: top;\n",
       "    }\n",
       "\n",
       "    .dataframe thead th {\n",
       "        text-align: right;\n",
       "    }\n",
       "</style>\n",
       "<table border=\"1\" class=\"dataframe\">\n",
       "  <thead>\n",
       "    <tr style=\"text-align: right;\">\n",
       "      <th></th>\n",
       "      <th>num_tokens</th>\n",
       "      <th>num_acl</th>\n",
       "      <th>num_acl_relcl</th>\n",
       "      <th>num_advcl</th>\n",
       "      <th>num_sents</th>\n",
       "      <th>num_cl</th>\n",
       "      <th>num_tu</th>\n",
       "      <th>num_ctu</th>\n",
       "      <th>num_coord</th>\n",
       "      <th>poss</th>\n",
       "      <th>prep_ph</th>\n",
       "      <th>adj_n</th>\n",
       "      <th>ger_inf</th>\n",
       "      <th>part_n</th>\n",
       "      <th>n_inf</th>\n",
       "      <th>num_vp</th>\n",
       "      <th>min_depth</th>\n",
       "      <th>max_depth</th>\n",
       "      <th>num_np</th>\n",
       "      <th>mark_best_nonbest</th>\n",
       "    </tr>\n",
       "  </thead>\n",
       "  <tbody>\n",
       "    <tr>\n",
       "      <th>2</th>\n",
       "      <td>271</td>\n",
       "      <td>5</td>\n",
       "      <td>1</td>\n",
       "      <td>3</td>\n",
       "      <td>11</td>\n",
       "      <td>23</td>\n",
       "      <td>23</td>\n",
       "      <td>0</td>\n",
       "      <td>8</td>\n",
       "      <td>21</td>\n",
       "      <td>33</td>\n",
       "      <td>3</td>\n",
       "      <td>6</td>\n",
       "      <td>3</td>\n",
       "      <td>1</td>\n",
       "      <td>19</td>\n",
       "      <td>2</td>\n",
       "      <td>8</td>\n",
       "      <td>66</td>\n",
       "      <td>best</td>\n",
       "    </tr>\n",
       "    <tr>\n",
       "      <th>9</th>\n",
       "      <td>200</td>\n",
       "      <td>0</td>\n",
       "      <td>0</td>\n",
       "      <td>1</td>\n",
       "      <td>10</td>\n",
       "      <td>14</td>\n",
       "      <td>14</td>\n",
       "      <td>0</td>\n",
       "      <td>5</td>\n",
       "      <td>25</td>\n",
       "      <td>44</td>\n",
       "      <td>2</td>\n",
       "      <td>6</td>\n",
       "      <td>0</td>\n",
       "      <td>0</td>\n",
       "      <td>12</td>\n",
       "      <td>3</td>\n",
       "      <td>10</td>\n",
       "      <td>77</td>\n",
       "      <td>best</td>\n",
       "    </tr>\n",
       "    <tr>\n",
       "      <th>12</th>\n",
       "      <td>217</td>\n",
       "      <td>2</td>\n",
       "      <td>1</td>\n",
       "      <td>1</td>\n",
       "      <td>13</td>\n",
       "      <td>19</td>\n",
       "      <td>19</td>\n",
       "      <td>0</td>\n",
       "      <td>4</td>\n",
       "      <td>13</td>\n",
       "      <td>37</td>\n",
       "      <td>3</td>\n",
       "      <td>11</td>\n",
       "      <td>1</td>\n",
       "      <td>1</td>\n",
       "      <td>23</td>\n",
       "      <td>2</td>\n",
       "      <td>5</td>\n",
       "      <td>65</td>\n",
       "      <td>best</td>\n",
       "    </tr>\n",
       "    <tr>\n",
       "      <th>36</th>\n",
       "      <td>194</td>\n",
       "      <td>0</td>\n",
       "      <td>2</td>\n",
       "      <td>2</td>\n",
       "      <td>8</td>\n",
       "      <td>17</td>\n",
       "      <td>17</td>\n",
       "      <td>0</td>\n",
       "      <td>6</td>\n",
       "      <td>26</td>\n",
       "      <td>34</td>\n",
       "      <td>1</td>\n",
       "      <td>4</td>\n",
       "      <td>0</td>\n",
       "      <td>0</td>\n",
       "      <td>15</td>\n",
       "      <td>4</td>\n",
       "      <td>8</td>\n",
       "      <td>65</td>\n",
       "      <td>best</td>\n",
       "    </tr>\n",
       "    <tr>\n",
       "      <th>46</th>\n",
       "      <td>165</td>\n",
       "      <td>2</td>\n",
       "      <td>0</td>\n",
       "      <td>4</td>\n",
       "      <td>8</td>\n",
       "      <td>12</td>\n",
       "      <td>12</td>\n",
       "      <td>0</td>\n",
       "      <td>4</td>\n",
       "      <td>20</td>\n",
       "      <td>20</td>\n",
       "      <td>0</td>\n",
       "      <td>3</td>\n",
       "      <td>0</td>\n",
       "      <td>0</td>\n",
       "      <td>8</td>\n",
       "      <td>4</td>\n",
       "      <td>7</td>\n",
       "      <td>43</td>\n",
       "      <td>best</td>\n",
       "    </tr>\n",
       "  </tbody>\n",
       "</table>\n",
       "</div>"
      ],
      "text/plain": [
       "   num_tokens num_acl num_acl_relcl num_advcl num_sents num_cl num_tu num_ctu  \\\n",
       "2         271       5             1         3        11     23     23       0   \n",
       "9         200       0             0         1        10     14     14       0   \n",
       "12        217       2             1         1        13     19     19       0   \n",
       "36        194       0             2         2         8     17     17       0   \n",
       "46        165       2             0         4         8     12     12       0   \n",
       "\n",
       "   num_coord poss prep_ph adj_n ger_inf part_n n_inf num_vp min_depth  \\\n",
       "2          8   21      33     3       6      3     1     19         2   \n",
       "9          5   25      44     2       6      0     0     12         3   \n",
       "12         4   13      37     3      11      1     1     23         2   \n",
       "36         6   26      34     1       4      0     0     15         4   \n",
       "46         4   20      20     0       3      0     0      8         4   \n",
       "\n",
       "   max_depth num_np mark_best_nonbest  \n",
       "2          8     66              best  \n",
       "9         10     77              best  \n",
       "12         5     65              best  \n",
       "36         8     65              best  \n",
       "46         7     43              best  "
      ]
     },
     "execution_count": 84,
     "metadata": {},
     "output_type": "execute_result"
    }
   ],
   "source": [
    "best.head()"
   ]
  },
  {
   "cell_type": "code",
   "execution_count": 85,
   "metadata": {},
   "outputs": [
    {
     "data": {
      "text/plain": [
       "array([   2,    9,   12,   36,   46,   78,   98,  100,  141,  146,  201,\n",
       "        244,  301,  399,  411,  442,  474,  480,  486,  491,  493,  497,\n",
       "        499,  501,  503,  515,  517,  524,  534,  539,  552,  557,  563,\n",
       "        705,  713,  760,  761,  791,  806,  807,  808,  809,  814,  819,\n",
       "        820,  822,  823,  824,  830,  835,  839,  841,  845,  848,  853,\n",
       "        855,  860,  863,  864,  866,  923,  932,  949,  986, 1028, 1029,\n",
       "       1030, 1032, 1034, 1037, 1042, 1043, 1046, 1051, 1053, 1054, 1063,\n",
       "       1079, 1123, 1128, 1158, 1164, 1166, 1167, 1176, 1183, 1234, 1242,\n",
       "       1245, 1253, 1289, 1331, 1333, 1371, 1419, 1421, 1423, 1425, 1428,\n",
       "       1430, 1446, 1459, 1510, 1532, 1535, 1537, 1538, 1542, 1547, 1550,\n",
       "       1551, 1598, 1603, 1627, 1629, 1638, 1652, 1656, 1664, 1712, 1739,\n",
       "       1789, 1804, 1808, 1810, 1824, 1835, 1837, 1838, 1841, 1842, 1843,\n",
       "       1845, 1846, 1848, 1851, 1855, 1861, 1863, 1869, 1871, 1873, 1875,\n",
       "       1878, 1879, 1881, 1882, 1884, 1888, 1889, 1891, 1895, 1896, 1898,\n",
       "       2018, 2047, 2080, 2082, 2086, 2088, 2093, 2095, 2096, 2097, 2098,\n",
       "       2099, 2102, 2106, 2112])"
      ]
     },
     "execution_count": 85,
     "metadata": {},
     "output_type": "execute_result"
    }
   ],
   "source": [
    "best.index.values"
   ]
  },
  {
   "cell_type": "code",
   "execution_count": 86,
   "metadata": {},
   "outputs": [
    {
     "data": {
      "text/plain": [
       "'/Users/irene/Downloads/exam/exam2014/AAl_13_1.txt'"
      ]
     },
     "execution_count": 86,
     "metadata": {},
     "output_type": "execute_result"
    }
   ],
   "source": [
    "names[2]"
   ]
  },
  {
   "cell_type": "code",
   "execution_count": 91,
   "metadata": {},
   "outputs": [
    {
     "name": "stdout",
     "output_type": "stream",
     "text": [
      "set()\n"
     ]
    }
   ],
   "source": [
    "s = set([1, 2, 4])\n",
    "k = set([1, 2, 4, 6, 8])\n",
    "print(s-k)"
   ]
  },
  {
   "cell_type": "code",
   "execution_count": 98,
   "metadata": {},
   "outputs": [
    {
     "name": "stdout",
     "output_type": "stream",
     "text": [
      "-----\n",
      "* 211\n",
      "-----\n",
      "* 422\n",
      "-----\n",
      "* 633\n",
      "-----\n",
      "* 844\n",
      "-----\n",
      "* 1055\n",
      "-----\n",
      "* 1266\n",
      "-----\n",
      "* 1477\n",
      "-----\n",
      "* 1688\n",
      "-----\n",
      "* 1899\n",
      "-----\n",
      "* 2118\n"
     ]
    }
   ],
   "source": [
    "summ_f = 0\n",
    "summ_s = 0\n",
    "accuracies = []\n",
    "shapes = []\n",
    "d = {}\n",
    "adds = {}\n",
    "for x in range(10):\n",
    "    summ_f = summ_f + nonbest_num[x]\n",
    "    summ_s = summ_s + best_num[x]\n",
    "    f = nonbest.iloc[0:summ_f]\n",
    "    s = best.iloc[0:summ_s]\n",
    "    r = f.append(s, ignore_index=True)\n",
    "    print('-----')\n",
    "    print('*',r.shape[0])\n",
    "    ind_f = f.index.values\n",
    "    ind_s = s.index.values\n",
    "    #print(len(ind_f))\n",
    "    #print(len(ind_s))\n",
    "    d[r.shape[0]] = [[], []]\n",
    "    for each_f in ind_f:\n",
    "        d[r.shape[0]][0].append(names[each_f])# nonbest\n",
    "    for each_s in ind_s:\n",
    "        d[r.shape[0]][1].append(names[each_s])# best\n",
    "    #print(len(d[r.shape[0]][1]))\n",
    "    #print(len(d[r.shape[0]][0]))\n",
    "    #print(len(set(d[r.shape[0]][1])))\n",
    "    #print(len(set(d[r.shape[0]][0])))\n",
    "    #print('nonbest', f.index.values)\n",
    "    #print('best', s.index.values)\n",
    "    shapes.append(r.shape[0])\n",
    "    #print(r.shape[0])\n",
    "    acc = count_accuracy(r)\n",
    "    accuracies.append(acc)\n",
    "#print(d)"
   ]
  },
  {
   "cell_type": "code",
   "execution_count": 99,
   "metadata": {},
   "outputs": [
    {
     "data": {
      "image/png": "[encoded data removed]",
      "text/plain": [
       "<matplotlib.figure.Figure at 0x109ad9c88>"
      ]
     },
     "metadata": {},
     "output_type": "display_data"
    }
   ],
   "source": [
    "plt.plot(shapes, accuracies, '-go')\n",
    "plt.title(\"Значения точности при увеличении выборки\")\n",
    "plt.ylabel('Точность')\n",
    "plt.xlabel('Размер выборки')\n",
    "plt.show()"
   ]
  },
  {
   "cell_type": "code",
   "execution_count": 123,
   "metadata": {},
   "outputs": [],
   "source": [
    "add_new_nonbest = list(set(d[633][0])-set(d[422][0]))#nonbest"
   ]
  },
  {
   "cell_type": "code",
   "execution_count": 124,
   "metadata": {},
   "outputs": [
    {
     "data": {
      "text/plain": [
       "195"
      ]
     },
     "execution_count": 124,
     "metadata": {},
     "output_type": "execute_result"
    }
   ],
   "source": [
    "len(add_new_nonbest)"
   ]
  },
  {
   "cell_type": "code",
   "execution_count": 125,
   "metadata": {},
   "outputs": [],
   "source": [
    "add_new_best = list(set(d[633][1])-set(d[422][1]))#best"
   ]
  },
  {
   "cell_type": "code",
   "execution_count": 126,
   "metadata": {},
   "outputs": [
    {
     "data": {
      "text/plain": [
       "16"
      ]
     },
     "execution_count": 126,
     "metadata": {},
     "output_type": "execute_result"
    }
   ],
   "source": [
    "len(add_new_best)"
   ]
  },
  {
   "cell_type": "code",
   "execution_count": 127,
   "metadata": {
    "collapsed": true
   },
   "outputs": [],
   "source": [
    "st = ''"
   ]
  },
  {
   "cell_type": "code",
   "execution_count": 128,
   "metadata": {
    "collapsed": true
   },
   "outputs": [],
   "source": [
    "for x in add_new_nonbest:\n",
    "    st = st + x + ';' + 'nonbest' + '\\n'\n",
    "for x in add_new_best:\n",
    "    st = st + x + ';' + 'best' + '\\n'"
   ]
  },
  {
   "cell_type": "code",
   "execution_count": 129,
   "metadata": {
    "collapsed": true
   },
   "outputs": [],
   "source": [
    "f = open('problem.csv', 'w')\n",
    "f.write(st)\n",
    "f.close()"
   ]
  },
  {
   "cell_type": "code",
   "execution_count": 121,
   "metadata": {},
   "outputs": [],
   "source": [
    "add_new_nonbest.extend(add_new_best)"
   ]
  },
  {
   "cell_type": "code",
   "execution_count": 122,
   "metadata": {},
   "outputs": [
    {
     "data": {
      "text/plain": [
       "244"
      ]
     },
     "execution_count": 122,
     "metadata": {},
     "output_type": "execute_result"
    }
   ],
   "source": [
    "len(add_new_nonbest)"
   ]
  },
  {
   "cell_type": "code",
   "execution_count": 32,
   "metadata": {},
   "outputs": [
    {
     "name": "stdout",
     "output_type": "stream",
     "text": [
      "0 : 195\n",
      "0 : 16\n",
      "211\n",
      "---\n",
      "195 : 390\n",
      "16 : 32\n",
      "211\n",
      "---\n",
      "390 : 585\n",
      "32 : 48\n",
      "211\n",
      "---\n",
      "585 : 780\n",
      "48 : 64\n",
      "211\n",
      "---\n",
      "780 : 975\n",
      "64 : 80\n",
      "211\n",
      "---\n",
      "975 : 1170\n",
      "80 : 96\n",
      "211\n",
      "---\n",
      "1170 : 1365\n",
      "96 : 112\n",
      "211\n",
      "---\n",
      "1365 : 1560\n",
      "112 : 128\n",
      "211\n",
      "---\n",
      "1560 : 1755\n",
      "128 : 144\n",
      "211\n",
      "---\n",
      "1755 : 1949\n",
      "144 : 169\n",
      "219\n",
      "---\n"
     ]
    }
   ],
   "source": [
    "summ_f = 0\n",
    "summ_s = 0\n",
    "accuracies = []\n",
    "shapes = []\n",
    "start_f = 0\n",
    "start_s = 0\n",
    "for x in range(10):\n",
    "    summ_f = summ_f + nonbest_num[x]\n",
    "    summ_s = summ_s + best_num[x]\n",
    "    print(start_f, ':', summ_f)\n",
    "    print(start_s, ':', summ_s)\n",
    "    f = nonbest.iloc[start_f:summ_f]\n",
    "    s = best.iloc[start_s:summ_s]\n",
    "    r = f.append(s, ignore_index=True)\n",
    "    #shapes.append(r.shape[0])\n",
    "    print(r.shape[0])\n",
    "    acc = count_accuracy(r)\n",
    "    accuracies.append(acc)\n",
    "    start_f = summ_f\n",
    "    start_s = summ_s\n",
    "    print('---')"
   ]
  },
  {
   "cell_type": "code",
   "execution_count": 34,
   "metadata": {},
   "outputs": [
    {
     "data": {
      "image/png": "[encoded data removed]",
      "text/plain": [
       "<matplotlib.figure.Figure at 0x11502f9b0>"
      ]
     },
     "metadata": {},
     "output_type": "display_data"
    }
   ],
   "source": [
    "label = ['1', '2', '3', '4', '5', '6', '7', '8', '9', '10']\n",
    "no_movies = accuracies\n",
    "index = np.arange(len(label))\n",
    "plt.bar(index, no_movies)\n",
    "plt.xlabel('Часть выборки')\n",
    "plt.ylabel('Точность')\n",
    "plt.xticks(index, label, fontsize=5, rotation=30)\n",
    "plt.title('Точность классификатора')\n",
    "plt.show()"
   ]
  },
  {
   "cell_type": "code",
   "execution_count": 70,
   "metadata": {},
   "outputs": [
    {
     "data": {
      "image/png": "[encoded data removed]",
      "text/plain": [
       "<matplotlib.figure.Figure at 0x10e799208>"
      ]
     },
     "metadata": {},
     "output_type": "display_data"
    }
   ],
   "source": [
    "plt.plot([1,2,3,4,5,6,7,8,9,10], accuracies, '-go')\n",
    "plt.title(\"Значения точности при разных выборках\")\n",
    "plt.ylabel('Точность')\n",
    "plt.xlabel('Часть выборки')\n",
    "plt.show()"
   ]
  },
  {
   "cell_type": "code",
   "execution_count": 52,
   "metadata": {},
   "outputs": [
    {
     "name": "stdout",
     "output_type": "stream",
     "text": [
      "(211, 20)\n",
      "(422, 20)\n",
      "(633, 20)\n",
      "(844, 20)\n",
      "(1055, 20)\n",
      "(1266, 20)\n",
      "(1477, 20)\n",
      "(1688, 20)\n",
      "(1899, 20)\n",
      "(2118, 20)\n"
     ]
    }
   ],
   "source": [
    "summ_f = 0\n",
    "summ_s = 0\n",
    "accuracies = []\n",
    "shapes = []\n",
    "for x in range(10):\n",
    "    summ_f = summ_f + nonbest_num[x]\n",
    "    summ_s = summ_s + best_num[x]\n",
    "    f = nonbest.iloc[0:summ_f]\n",
    "    s = best.iloc[0:summ_s]\n",
    "    r = f.append(s, ignore_index=True)\n",
    "    print(r.shape)\n",
    "    shapes.append(r.shape[0])\n",
    "    acc = count_accuracy2(r)\n",
    "    accuracies.append(acc)"
   ]
  },
  {
   "cell_type": "code",
   "execution_count": 54,
   "metadata": {},
   "outputs": [
    {
     "data": {
      "image/png": "[encoded data removed]",
      "text/plain": [
       "<matplotlib.figure.Figure at 0x10dd465c0>"
      ]
     },
     "metadata": {},
     "output_type": "display_data"
    }
   ],
   "source": [
    "plt.plot(shapes, accuracies, '-go')\n",
    "plt.title(\"Значения точности при увеличении выборки\")\n",
    "plt.ylabel('Точность')\n",
    "plt.xlabel('Размер выборки')\n",
    "plt.show()"
   ]
  },
  {
   "cell_type": "code",
   "execution_count": null,
   "metadata": {
    "collapsed": true
   },
   "outputs": [],
   "source": [
    "summ_f = 0\n",
    "summ_s = 0\n",
    "accuracies = []\n",
    "for x in range(10):\n",
    "    summ_f = summ_f + nonbest_num[x]\n",
    "    summ_s = summ_s + best_num[x]\n",
    "    f = nonbest.iloc[0:summ_f]\n",
    "    s = best.iloc[0:summ_s]\n",
    "    r = f.append(s, ignore_index=True)\n",
    "    print(r.shape)\n",
    "    acc = count_accuracy2(r)\n",
    "    accuracies.append(acc)"
   ]
  },
  {
   "cell_type": "code",
   "execution_count": 223,
   "metadata": {},
   "outputs": [
    {
     "name": "stdout",
     "output_type": "stream",
     "text": [
      "169\n",
      "1949\n"
     ]
    }
   ],
   "source": [
    "best_num = [8]*20\n",
    "best_num.append(9)\n",
    "print(sum(best_num))\n",
    "nonbest_num = [93]*20\n",
    "nonbest_num.append(89)\n",
    "print(sum(nonbest_num))"
   ]
  },
  {
   "cell_type": "code",
   "execution_count": 178,
   "metadata": {},
   "outputs": [
    {
     "name": "stdout",
     "output_type": "stream",
     "text": [
      "101\n",
      "202\n",
      "303\n",
      "404\n",
      "505\n",
      "606\n",
      "707\n",
      "808\n",
      "909\n",
      "1010\n",
      "1111\n",
      "1212\n",
      "1313\n",
      "1414\n",
      "1515\n",
      "1616\n",
      "1717\n",
      "1818\n",
      "1919\n",
      "2020\n",
      "2118\n"
     ]
    }
   ],
   "source": [
    "summ_f = 0\n",
    "summ_s = 0\n",
    "accuracies = []\n",
    "for x in range(22):\n",
    "    summ_f = summ_f + nonbest_num[x]\n",
    "    summ_s = summ_s + best_num[x]\n",
    "    f = nonbest.iloc[0:summ_f]\n",
    "    s = best.iloc[0:summ_s]\n",
    "    r = f.append(s, ignore_index=True)\n",
    "    print(r.shape)\n",
    "    acc = count_accuracy(r)\n",
    "    accuracies.append(acc)"
   ]
  },
  {
   "cell_type": "code",
   "execution_count": 181,
   "metadata": {},
   "outputs": [
    {
     "data": {
      "image/png": "[encoded data removed]",
      "text/plain": [
       "<matplotlib.figure.Figure at 0x1160ebc50>"
      ]
     },
     "metadata": {},
     "output_type": "display_data"
    }
   ],
   "source": [
    "plt.plot([1,2,3,4,5,6,7,8,9,10,11,12,13,14,15,16,17,18,19,20,21], accuracies, '-go')\n",
    "plt.title(\"Значения точности при увеличении выборки\")\n",
    "plt.ylabel('Точность')\n",
    "plt.xlabel('Размер выборки (1:100)')\n",
    "plt.show()"
   ]
  },
  {
   "cell_type": "code",
   "execution_count": 225,
   "metadata": {},
   "outputs": [
    {
     "name": "stdout",
     "output_type": "stream",
     "text": [
      "(101, 20)\n",
      "(202, 20)\n",
      "(303, 20)\n",
      "(404, 20)\n",
      "(505, 20)\n",
      "(606, 20)\n",
      "(707, 20)\n",
      "(808, 20)\n",
      "(909, 20)\n",
      "(1010, 20)\n",
      "(1111, 20)\n",
      "(1212, 20)\n",
      "(1313, 20)\n",
      "(1414, 20)\n",
      "(1515, 20)\n",
      "(1616, 20)\n",
      "(1717, 20)\n",
      "(1818, 20)\n",
      "(1919, 20)\n",
      "(2020, 20)\n",
      "(2118, 20)\n"
     ]
    }
   ],
   "source": [
    "summ_f = 0\n",
    "summ_s = 0\n",
    "accuracies = []\n",
    "for x in range(21):\n",
    "    summ_f = summ_f + nonbest_num[x]\n",
    "    summ_s = summ_s + best_num[x]\n",
    "    f = nonbest.iloc[0:summ_f]\n",
    "    s = best.iloc[0:summ_s]\n",
    "    r = f.append(s, ignore_index=True)\n",
    "    print(r.shape)\n",
    "    acc = count_accuracy2(r)\n",
    "    accuracies.append(acc)"
   ]
  },
  {
   "cell_type": "code",
   "execution_count": 226,
   "metadata": {},
   "outputs": [
    {
     "data": {
      "image/png": "[encoded data removed]",
      "text/plain": [
       "<matplotlib.figure.Figure at 0x10eefaf60>"
      ]
     },
     "metadata": {},
     "output_type": "display_data"
    }
   ],
   "source": [
    "plt.plot([1,2,3,4,5,6,7,8,9,10,11,12,13,14,15,16,17,18,19,20,21], accuracies, '-go')\n",
    "plt.title(\"Значения точности при увеличении выборки\")\n",
    "plt.ylabel('Точность')\n",
    "plt.xlabel('Размер выборки (1:100)')\n",
    "plt.show()"
   ]
  },
  {
   "cell_type": "markdown",
   "metadata": {},
   "source": [
    "# Отдельно по 1 эссе"
   ]
  },
  {
   "cell_type": "code",
   "execution_count": 228,
   "metadata": {
    "collapsed": true
   },
   "outputs": [],
   "source": [
    "df1 = df1.drop(['type_ess'], axis=1)\n",
    "df2 = df2.drop(['type_ess'], axis=1)"
   ]
  },
  {
   "cell_type": "code",
   "execution_count": 229,
   "metadata": {
    "collapsed": true
   },
   "outputs": [],
   "source": [
    "best = df1[df1['mark_best_nonbest'] == 'best']\n",
    "nonbest = df1[df1['mark_best_nonbest'] == 'nonbest']"
   ]
  },
  {
   "cell_type": "code",
   "execution_count": 230,
   "metadata": {},
   "outputs": [
    {
     "data": {
      "text/plain": [
       "(76, 20)"
      ]
     },
     "execution_count": 230,
     "metadata": {},
     "output_type": "execute_result"
    }
   ],
   "source": [
    "best.shape"
   ]
  },
  {
   "cell_type": "code",
   "execution_count": 231,
   "metadata": {},
   "outputs": [
    {
     "data": {
      "text/plain": [
       "(980, 20)"
      ]
     },
     "execution_count": 231,
     "metadata": {},
     "output_type": "execute_result"
    }
   ],
   "source": [
    "nonbest.shape"
   ]
  },
  {
   "cell_type": "code",
   "execution_count": 240,
   "metadata": {},
   "outputs": [
    {
     "name": "stdout",
     "output_type": "stream",
     "text": [
      "76\n",
      "980\n"
     ]
    }
   ],
   "source": [
    "best_num = [5]*14\n",
    "best_num.append(6)\n",
    "print(sum(best_num))\n",
    "nonbest_num = [65]*14\n",
    "nonbest_num.append(70)\n",
    "print(sum(nonbest_num))"
   ]
  },
  {
   "cell_type": "code",
   "execution_count": 244,
   "metadata": {},
   "outputs": [
    {
     "name": "stdout",
     "output_type": "stream",
     "text": [
      "(70, 20)\n",
      "(140, 20)\n",
      "(210, 20)\n",
      "(280, 20)\n",
      "(350, 20)\n",
      "(420, 20)\n",
      "(490, 20)\n",
      "(560, 20)\n",
      "(630, 20)\n",
      "(700, 20)\n",
      "(770, 20)\n",
      "(840, 20)\n",
      "(910, 20)\n",
      "(980, 20)\n",
      "(1056, 20)\n"
     ]
    }
   ],
   "source": [
    "summ_f = 0\n",
    "summ_s = 0\n",
    "accuracies = []\n",
    "for x in range(15):\n",
    "    summ_f = summ_f + nonbest_num[x]\n",
    "    summ_s = summ_s + best_num[x]\n",
    "    f = nonbest.iloc[0:summ_f]\n",
    "    s = best.iloc[0:summ_s]\n",
    "    r = f.append(s, ignore_index=True)\n",
    "    print(r.shape)\n",
    "    acc = count_accuracy(r)\n",
    "    accuracies.append(acc)"
   ]
  },
  {
   "cell_type": "code",
   "execution_count": 246,
   "metadata": {},
   "outputs": [
    {
     "data": {
      "image/png": "[encoded data removed]",
      "text/plain": [
       "<matplotlib.figure.Figure at 0x116132860>"
      ]
     },
     "metadata": {},
     "output_type": "display_data"
    }
   ],
   "source": [
    "plt.plot([1,2,3,4,5,6,7,8,9,10,11,12,13,14,15], accuracies, '-go')\n",
    "plt.title(\"Значения точности при увеличении выборки\")\n",
    "plt.ylabel('Точность')\n",
    "plt.xlabel('Размер выборки (1:100)')\n",
    "plt.show()"
   ]
  },
  {
   "cell_type": "code",
   "execution_count": 247,
   "metadata": {},
   "outputs": [
    {
     "name": "stdout",
     "output_type": "stream",
     "text": [
      "(70, 20)\n",
      "(140, 20)\n",
      "(210, 20)\n",
      "(280, 20)\n",
      "(350, 20)\n",
      "(420, 20)\n",
      "(490, 20)\n",
      "(560, 20)\n",
      "(630, 20)\n",
      "(700, 20)\n",
      "(770, 20)\n",
      "(840, 20)\n",
      "(910, 20)\n",
      "(980, 20)\n",
      "(1056, 20)\n"
     ]
    }
   ],
   "source": [
    "summ_f = 0\n",
    "summ_s = 0\n",
    "accuracies = []\n",
    "for x in range(15):\n",
    "    summ_f = summ_f + nonbest_num[x]\n",
    "    summ_s = summ_s + best_num[x]\n",
    "    f = nonbest.iloc[0:summ_f]\n",
    "    s = best.iloc[0:summ_s]\n",
    "    r = f.append(s, ignore_index=True)\n",
    "    print(r.shape)\n",
    "    acc = count_accuracy2(r)\n",
    "    accuracies.append(acc)"
   ]
  },
  {
   "cell_type": "code",
   "execution_count": 248,
   "metadata": {},
   "outputs": [
    {
     "data": {
      "image/png": "[encoded data removed]",
      "text/plain": [
       "<matplotlib.figure.Figure at 0x115df0cc0>"
      ]
     },
     "metadata": {},
     "output_type": "display_data"
    }
   ],
   "source": [
    "plt.plot([1,2,3,4,5,6,7,8,9,10,11,12,13,14,15], accuracies, '-go')\n",
    "plt.title(\"Значения точности при увеличении выборки\")\n",
    "plt.ylabel('Точность')\n",
    "plt.xlabel('Размер выборки (1:100)')\n",
    "plt.show()"
   ]
  },
  {
   "cell_type": "markdown",
   "metadata": {},
   "source": [
    "# Отдельно по 2 эссе"
   ]
  },
  {
   "cell_type": "code",
   "execution_count": 249,
   "metadata": {
    "collapsed": true
   },
   "outputs": [],
   "source": [
    "best = df2[df2['mark_best_nonbest'] == 'best']\n",
    "nonbest = df2[df2['mark_best_nonbest'] == 'nonbest']"
   ]
  },
  {
   "cell_type": "code",
   "execution_count": 250,
   "metadata": {},
   "outputs": [
    {
     "data": {
      "text/plain": [
       "(93, 20)"
      ]
     },
     "execution_count": 250,
     "metadata": {},
     "output_type": "execute_result"
    }
   ],
   "source": [
    "best.shape"
   ]
  },
  {
   "cell_type": "code",
   "execution_count": 251,
   "metadata": {},
   "outputs": [
    {
     "data": {
      "text/plain": [
       "(969, 20)"
      ]
     },
     "execution_count": 251,
     "metadata": {},
     "output_type": "execute_result"
    }
   ],
   "source": [
    "nonbest.shape"
   ]
  },
  {
   "cell_type": "code",
   "execution_count": 262,
   "metadata": {},
   "outputs": [
    {
     "name": "stdout",
     "output_type": "stream",
     "text": [
      "93\n",
      "969\n"
     ]
    }
   ],
   "source": [
    "best_num = [5]*17\n",
    "best_num.append(8)\n",
    "print(sum(best_num))\n",
    "nonbest_num = [54]*17\n",
    "nonbest_num.append(51)\n",
    "print(sum(nonbest_num))"
   ]
  },
  {
   "cell_type": "code",
   "execution_count": 264,
   "metadata": {},
   "outputs": [
    {
     "name": "stdout",
     "output_type": "stream",
     "text": [
      "(59, 20)\n",
      "(118, 20)\n",
      "(177, 20)\n",
      "(236, 20)\n",
      "(295, 20)\n",
      "(354, 20)\n",
      "(413, 20)\n",
      "(472, 20)\n",
      "(531, 20)\n",
      "(590, 20)\n",
      "(649, 20)\n",
      "(708, 20)\n",
      "(767, 20)\n",
      "(826, 20)\n",
      "(885, 20)\n",
      "(944, 20)\n",
      "(1003, 20)\n",
      "(1062, 20)\n"
     ]
    }
   ],
   "source": [
    "summ_f = 0\n",
    "summ_s = 0\n",
    "accuracies = []\n",
    "for x in range(18):\n",
    "    summ_f = summ_f + nonbest_num[x]\n",
    "    summ_s = summ_s + best_num[x]\n",
    "    f = nonbest.iloc[0:summ_f]\n",
    "    s = best.iloc[0:summ_s]\n",
    "    r = f.append(s, ignore_index=True)\n",
    "    print(r.shape)\n",
    "    acc = count_accuracy(r)\n",
    "    accuracies.append(acc)"
   ]
  },
  {
   "cell_type": "code",
   "execution_count": 265,
   "metadata": {},
   "outputs": [
    {
     "data": {
      "image/png": "[encoded data removed]",
      "text/plain": [
       "<matplotlib.figure.Figure at 0x10eee7a20>"
      ]
     },
     "metadata": {},
     "output_type": "display_data"
    }
   ],
   "source": [
    "plt.plot([1,2,3,4,5,6,7,8,9,10,11,12,13,14,15,16,17,18], accuracies, '-go')\n",
    "plt.title(\"Значения точности при увеличении выборки\")\n",
    "plt.ylabel('Точность')\n",
    "plt.xlabel('Размер выборки (1:100)')\n",
    "plt.show()"
   ]
  },
  {
   "cell_type": "code",
   "execution_count": 266,
   "metadata": {},
   "outputs": [
    {
     "name": "stdout",
     "output_type": "stream",
     "text": [
      "(59, 20)\n",
      "(118, 20)\n",
      "(177, 20)\n",
      "(236, 20)\n",
      "(295, 20)\n",
      "(354, 20)\n",
      "(413, 20)\n",
      "(472, 20)\n",
      "(531, 20)\n",
      "(590, 20)\n",
      "(649, 20)\n",
      "(708, 20)\n",
      "(767, 20)\n",
      "(826, 20)\n",
      "(885, 20)\n",
      "(944, 20)\n",
      "(1003, 20)\n",
      "(1062, 20)\n"
     ]
    }
   ],
   "source": [
    "summ_f = 0\n",
    "summ_s = 0\n",
    "accuracies = []\n",
    "for x in range(18):\n",
    "    summ_f = summ_f + nonbest_num[x]\n",
    "    summ_s = summ_s + best_num[x]\n",
    "    f = nonbest.iloc[0:summ_f]\n",
    "    s = best.iloc[0:summ_s]\n",
    "    r = f.append(s, ignore_index=True)\n",
    "    print(r.shape)\n",
    "    acc = count_accuracy2(r)\n",
    "    accuracies.append(acc)"
   ]
  },
  {
   "cell_type": "code",
   "execution_count": 267,
   "metadata": {},
   "outputs": [
    {
     "data": {
      "image/png": "[encoded data removed]",
      "text/plain": [
       "<matplotlib.figure.Figure at 0x115f8b390>"
      ]
     },
     "metadata": {},
     "output_type": "display_data"
    }
   ],
   "source": [
    "plt.plot([1,2,3,4,5,6,7,8,9,10,11,12,13,14,15,16,17,18], accuracies, '-go')\n",
    "plt.title(\"Значения точности при увеличении выборки\")\n",
    "plt.ylabel('Точность')\n",
    "plt.xlabel('Размер выборки (1:100)')\n",
    "plt.show()"
   ]
  },
  {
   "cell_type": "code",
   "execution_count": null,
   "metadata": {
    "collapsed": true
   },
   "outputs": [],
   "source": []
  }
 ],
 "metadata": {
  "kernelspec": {
   "display_name": "Python 3",
   "language": "python",
   "name": "python3"
  },
  "language_info": {
   "codemirror_mode": {
    "name": "ipython",
    "version": 3
   },
   "file_extension": ".py",
   "mimetype": "text/x-python",
   "name": "python",
   "nbconvert_exporter": "python",
   "pygments_lexer": "ipython3",
   "version": "3.6.3"
  }
 },
 "nbformat": 4,
 "nbformat_minor": 2
}

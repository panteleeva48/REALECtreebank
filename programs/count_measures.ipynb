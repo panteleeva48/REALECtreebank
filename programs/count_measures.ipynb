{
 "cells": [
  {
   "cell_type": "code",
   "execution_count": 1,
   "metadata": {},
   "outputs": [],
   "source": [
    "from syn_compl import (get_parsed_text, count_tokens, \n",
    "av_depth_for_one_text, min_depth_for_one_text, \n",
    "max_depth_for_one_text, count_acl, count_acl_relcl,\n",
    "count_advcl, count_sent, count_clauses, count_tunits,\n",
    "count_complex_tunit, count_coord, count_np, count_vp,\n",
    "lemma_sim_mean, pos_sim_mean, tokens_befor_root, mean_len_sent,\n",
    "find_inf, pos_sim_mean2, lemma_sim_mean2)\n",
    "import re"
   ]
  },
  {
   "cell_type": "code",
   "execution_count": 2,
   "metadata": {
    "collapsed": true
   },
   "outputs": [],
   "source": [
    "def read_hole_file(name_file):\n",
    "    f = open(name_file, 'r')\n",
    "    f_r = f.read()\n",
    "    return f_r"
   ]
  },
  {
   "cell_type": "code",
   "execution_count": 3,
   "metadata": {
    "collapsed": true
   },
   "outputs": [],
   "source": [
    "esse_gr_lst = read_hole_file('/Users/irene/Desktop/Курсовая/grade.txt').split('\\n')"
   ]
  },
  {
   "cell_type": "code",
   "execution_count": 4,
   "metadata": {
    "collapsed": true
   },
   "outputs": [],
   "source": [
    "string = ''"
   ]
  },
  {
   "cell_type": "code",
   "execution_count": 5,
   "metadata": {
    "collapsed": true
   },
   "outputs": [],
   "source": [
    "string2 = ''"
   ]
  },
  {
   "cell_type": "code",
   "execution_count": 6,
   "metadata": {},
   "outputs": [
    {
     "name": "stdout",
     "output_type": "stream",
     "text": [
      "AAl_13_1\n",
      "AAl_27_1\n",
      "AAl_30_1\n",
      "ZEv_3_1\n",
      "EEm_14_1\n",
      "EEm_16_1\n",
      "KKo_9_1\n",
      "KKo_24_1\n",
      "ASt_21_1\n",
      "ASt_34_1\n",
      "12_1\n",
      "13_1\n",
      "AAl_2_2\n",
      "AAl_13_2\n",
      "AAl_26_2\n",
      "AAl_27_2\n",
      "VKo_2_2\n",
      "VKo_3_2\n",
      "VKo_5_2\n",
      "VKo_9_2\n",
      "VKo_12_2\n",
      "VKo_21_2\n",
      "VKo_24_2\n",
      "VKo_29_2\n",
      "VKo_34_2\n",
      "ZEv_3_2\n",
      "EEm_14_2\n",
      "EEm_16_2\n",
      "MTsy_6_2\n",
      "KKo_9_2\n",
      "KKo_24_2\n",
      "LPo_16_2\n",
      "ASt_2_2\n",
      "ASt_21_2\n",
      "ASt_34_2\n",
      "13_2\n",
      "28_2\n",
      "2_2\n",
      "10_1\n",
      "11_1\n",
      "14_1\n",
      "15_1\n",
      "16_1\n",
      "18_1\n",
      "19_1\n",
      "1_1\n",
      "20_1\n",
      "21_1\n",
      "22_1\n",
      "23_1\n",
      "24_1\n",
      "25_1\n",
      "26_1\n",
      "27_1\n",
      "28_1\n",
      "29_1\n",
      "2_1\n",
      "30_1\n",
      "10_2\n",
      "11_2\n",
      "12_2\n",
      "14_2\n",
      "15_2\n",
      "16_2\n",
      "17_2\n",
      "18_2\n",
      "19_2\n",
      "1_2\n",
      "20_2\n",
      "21_2\n",
      "22_2\n",
      "23_2\n",
      "24_2\n",
      "25_2\n",
      "26_2\n",
      "27_2\n",
      "29_2\n",
      "30_2\n",
      "VKo_8_1\n",
      "VKo_19_1\n",
      "VKo_22_1\n",
      "ZEv_28_1\n",
      "EEm_18_1\n",
      "EEm_28_1\n",
      "DZu_40_1\n",
      "KKo_18_1\n",
      "LPo_8_1\n",
      "17_1\n",
      "VKo_32_2\n",
      "ZEv_13_2\n",
      "ZEv_28_2\n",
      "EEm_18_2\n",
      "EEm_28_2\n",
      "DZu_40_2\n",
      "KKo_18_2\n"
     ]
    }
   ],
   "source": [
    "for esse in esse_gr_lst:\n",
    "    #print(esse)\n",
    "    name = re.search('(.+?)\\t', esse).group(1)\n",
    "    print(name)\n",
    "    path = '/Users/irene/Desktop/Курсовая/esseys/' + name + '.txt'\n",
    "    parsed_text = get_parsed_text('english-partut-ud-2.0-170801.udpipe', path)\n",
    "    # +++\n",
    "    num_tokens = count_tokens(parsed_text)# number of tokens\n",
    "    # +++\n",
    "    av_depth = av_depth_for_one_text(parsed_text)# average depth of tree\n",
    "    # +++\n",
    "    min_depth = min_depth_for_one_text(parsed_text)# minimal depth of tree\n",
    "    # +++\n",
    "    max_depth = max_depth_for_one_text(parsed_text)# maximal depth of tree\n",
    "    # +++\n",
    "    num_acl = count_acl(parsed_text)# number of acls\n",
    "    num_acl_relcl = count_acl_relcl(parsed_text)# number of acl:relcls\n",
    "    num_advcl = count_advcl(parsed_text)# number of advcls\n",
    "    num_sents = count_sent(parsed_text)# number of sentances\n",
    "    num_cl = count_clauses(parsed_text)# number of clauses\n",
    "    num_tu = count_tunits(parsed_text)# number of T-units\n",
    "    # +++\n",
    "    num_ctu = count_complex_tunit(parsed_text)# number of complex T-units\n",
    "    # +++\n",
    "    num_coord = count_coord(parsed_text)# number of coordinational phrases\n",
    "    num_np = count_np(parsed_text)# number of nps: possesive constructions, prepositional phrases, \n",
    "                                    #adj + nouns, gerund + inf, part + nouns \n",
    "    num_vp = count_vp(parsed_text)# number of vps\n",
    "    # +++\n",
    "    mean_l_sim = lemma_sim_mean(parsed_text)# mean L. distance (lemmas)\n",
    "    # +++\n",
    "    mean_p_sim = pos_sim_mean(parsed_text)# mean L. distance (pos)\n",
    "    mean_l_sim_nei = lemma_sim_mean2(parsed_text)\n",
    "    # +++\n",
    "    mean_p_sim_nei = pos_sim_mean2(parsed_text)\n",
    "    # +++\n",
    "    mean_tokens_root = tokens_befor_root(parsed_text)# number of tokens before root\n",
    "    # +++\n",
    "    n_inf = find_inf(parsed_text)\n",
    "    \n",
    "#--COMPLEX MEASURES--#\n",
    "    mean_length_s = mean_len_sent(parsed_text)# mean length of sentances\n",
    "    mean_length_c = num_tokens/num_cl\n",
    "    c_s = num_cl/num_sents\n",
    "    c_t = num_cl/num_tu\n",
    "    acl_t = num_acl/num_tu\n",
    "    acl_relcl_t = num_acl_relcl/num_tu\n",
    "    advcl_t = num_advcl/num_tu\n",
    "    acl_cl = num_acl/num_cl\n",
    "    acl_relcl_cl = num_acl_relcl/num_cl\n",
    "    advcl_cl = num_advcl/num_cl\n",
    "    coord_cl = num_coord/num_cl\n",
    "    t_s = num_tu/num_sents\n",
    "    poss_s = num_np[0]/num_sents\n",
    "    prep_s = num_np[1]/num_sents\n",
    "    adj_n_s = num_np[2]/num_sents\n",
    "    ger_inf_s = num_np[3]/num_sents\n",
    "    part_n_s = num_np[4]/num_sents\n",
    "    n_inf_s = n_inf/num_sents\n",
    "    vp_s = num_vp/num_sents\n",
    "\n",
    "    simple_measures = [num_tokens, num_acl, num_acl_relcl, num_advcl, num_sents, num_cl, num_tu, num_ctu,\n",
    "                       num_coord, num_np[0], num_np[1], num_np[2], num_np[3], num_np[4], n_inf, num_vp,\n",
    "                       min_depth, max_depth, sum(num_np)]\n",
    "    \n",
    "    measures = [av_depth, mean_l_sim, mean_p_sim, mean_l_sim_nei, mean_p_sim_nei,\n",
    "                mean_length_s, mean_length_c, c_s, c_t,\n",
    "                acl_t, acl_relcl_t, advcl_t, acl_cl, acl_relcl_cl, advcl_cl,\n",
    "                coord_cl, t_s, poss_s, prep_s, adj_n_s, ger_inf_s, part_n_s, n_inf_s,\n",
    "                vp_s, mean_tokens_root]\n",
    "    str_one_esse = ''\n",
    "    for measure in measures:\n",
    "        str_one_esse = str_one_esse + str(round(measure, 3)) + '\\t'\n",
    "    str_one_esse2 = ''\n",
    "    for m in simple_measures:\n",
    "        str_one_esse2 = str_one_esse2 + str(round(m, 4)) + '\\t'\n",
    "    #print(str_one_esse)\n",
    "    string = string + esse + '\\t' + str_one_esse + '\\n'\n",
    "    string2 = string2 + esse + '\\t' + str_one_esse2 + '\\n'"
   ]
  },
  {
   "cell_type": "code",
   "execution_count": 7,
   "metadata": {
    "collapsed": true
   },
   "outputs": [],
   "source": [
    "f = open('/Users/irene/Desktop/Курсовая/res_measures.csv', 'w')\n",
    "f.write(string)\n",
    "f.close()"
   ]
  },
  {
   "cell_type": "code",
   "execution_count": 8,
   "metadata": {
    "collapsed": true
   },
   "outputs": [],
   "source": [
    "c = open('/Users/irene/Desktop/Курсовая/res_measures_simple.csv', 'w')\n",
    "c.write(string2)\n",
    "c.close()"
   ]
  },
  {
   "cell_type": "code",
   "execution_count": null,
   "metadata": {
    "collapsed": true
   },
   "outputs": [],
   "source": []
  }
 ],
 "metadata": {
  "kernelspec": {
   "display_name": "Python 3",
   "language": "python",
   "name": "python3"
  },
  "language_info": {
   "codemirror_mode": {
    "name": "ipython",
    "version": 3
   },
   "file_extension": ".py",
   "mimetype": "text/x-python",
   "name": "python",
   "nbconvert_exporter": "python",
   "pygments_lexer": "ipython3",
   "version": "3.6.3"
  }
 },
 "nbformat": 4,
 "nbformat_minor": 2
}

{
 "cells": [
  {
   "cell_type": "code",
   "execution_count": 1,
   "metadata": {
    "collapsed": true
   },
   "outputs": [],
   "source": [
    "# This file is part of UDPipe <http://github.com/ufal/udpipe/>.\n",
    "#\n",
    "# Copyright 2016 Institute of Formal and Applied Linguistics, Faculty of\n",
    "# Mathematics and Physics, Charles University in Prague, Czech Republic.\n",
    "#\n",
    "# This Source Code Form is subject to the terms of the Mozilla Public\n",
    "# License, v. 2.0. If a copy of the MPL was not distributed with this\n",
    "# file, You can obtain one at http://mozilla.org/MPL/2.0/.\n",
    "\n",
    "import ufal.udpipe\n",
    "# ufal.udpipe.Model etc. are SWIG-magic and cannot be detected by pylint\n",
    "# pylint: disable=no-member\n",
    "\n",
    "class Model:\n",
    "    def __init__(self, path):\n",
    "        \"\"\"Load given model.\"\"\"\n",
    "        self.model = ufal.udpipe.Model.load(path)\n",
    "        if not self.model:\n",
    "            raise Exception(\"Cannot load UDPipe model from file '%s'\" % path)\n",
    "\n",
    "    def tokenize(self, text):\n",
    "        \"\"\"Tokenize the text and return list of ufal.udpipe.Sentence-s.\"\"\"\n",
    "        tokenizer = self.model.newTokenizer(self.model.DEFAULT)\n",
    "        if not tokenizer:\n",
    "            raise Exception(\"The model does not have a tokenizer\")\n",
    "        return self._read(text, tokenizer)\n",
    "\n",
    "    def read(self, text, in_format):\n",
    "        \"\"\"Load text in the given format (conllu|horizontal|vertical) and return list of ufal.udpipe.Sentence-s.\"\"\"\n",
    "        input_format = ufal.udpipe.InputFormat.newInputFormat(in_format)\n",
    "        if not input_format:\n",
    "            raise Exception(\"Cannot create input format '%s'\" % in_format)\n",
    "        return self._read(text, input_format)\n",
    "\n",
    "    def _read(self, text, input_format):\n",
    "        input_format.setText(text)\n",
    "        error = ufal.udpipe.ProcessingError()\n",
    "        sentences = []\n",
    "\n",
    "        sentence = ufal.udpipe.Sentence()\n",
    "        while input_format.nextSentence(sentence, error):\n",
    "            sentences.append(sentence)\n",
    "            sentence = ufal.udpipe.Sentence()\n",
    "        if error.occurred():\n",
    "            raise Exception(error.message)\n",
    "\n",
    "        return sentences\n",
    "\n",
    "    def tag(self, sentence):\n",
    "        \"\"\"Tag the given ufal.udpipe.Sentence (inplace).\"\"\"\n",
    "        self.model.tag(sentence, self.model.DEFAULT)\n",
    "\n",
    "    def parse(self, sentence):\n",
    "        \"\"\"Parse the given ufal.udpipe.Sentence (inplace).\"\"\"\n",
    "        self.model.parse(sentence, self.model.DEFAULT)\n",
    "\n",
    "    def write(self, sentences, out_format):\n",
    "        \"\"\"Write given ufal.udpipe.Sentence-s in the required format (conllu|horizontal|vertical).\"\"\"\n",
    "\n",
    "        output_format = ufal.udpipe.OutputFormat.newOutputFormat(out_format)\n",
    "        output = ''\n",
    "        for sentence in sentences:\n",
    "            output += output_format.writeSentence(sentence)\n",
    "        output += output_format.finishDocument()\n",
    "\n",
    "        return output\n",
    "\n",
    "# Can be used as\n",
    "#  model = Model('english-ud-1.2-160523.udpipe')\n",
    "#  sentences = model.tokenize(\"Hi there. How are you?\")\n",
    "#  for s in sentences:\n",
    "#      model.tag(s)\n",
    "#      model.parse(s)\n",
    "#  conllu = model.write(sentences, \"conllu\")"
   ]
  },
  {
   "cell_type": "code",
   "execution_count": 6,
   "metadata": {
    "collapsed": true
   },
   "outputs": [],
   "source": [
    "import re"
   ]
  },
  {
   "cell_type": "code",
   "execution_count": 20,
   "metadata": {
    "collapsed": true
   },
   "outputs": [],
   "source": [
    "def space(string):\n",
    "    string = re.sub('([a-zA-Z]| )([\\.\\?!])', '\\\\1\\\\2 ', string)\n",
    "    string = re.sub(': ', ' : ', string)\n",
    "    string = re.sub('  +', ' ', string)\n",
    "    return string"
   ]
  },
  {
   "cell_type": "code",
   "execution_count": 21,
   "metadata": {},
   "outputs": [],
   "source": [
    "model = Model('english-partut-ud-2.0-170801.udpipe')\n",
    "#text = open('/Users/irene/Downloads/exam2014/AAl_1_1.txt','r')\n",
    "#text = text.read()\n",
    "text = 'That means: only previous qualifications and / or knowledge of each applicant is taken into consideration.'\n",
    "text = space(text)\n",
    "sentences = model.tokenize(text)\n",
    "for s in sentences:\n",
    "      model.tag(s)\n",
    "      model.parse(s)\n",
    "conllu = model.write(sentences, \"conllu\")\n",
    "result = open('/Users/irene/Downloads/AAl_1_1.conllu','w')\n",
    "result.write(conllu)\n",
    "result.close()"
   ]
  },
  {
   "cell_type": "code",
   "execution_count": 22,
   "metadata": {},
   "outputs": [
    {
     "data": {
      "text/plain": [
       "'# newdoc\\n# newpar\\n# sent_id = 1\\n# text = That means : only previous qualifications and / or knowledge of each applicant is taken into consideration.\\n1\\tThat\\tthat\\tADJ\\tA\\tDegree=Pos\\t2\\tamod\\t_\\t_\\n2\\tmeans\\tmean\\tNOUN\\tS\\tNumber=Sing\\t15\\tobl\\t_\\t_\\n3\\t:\\t:\\tPUNCT\\tFC\\t_\\t2\\tpunct\\t_\\t_\\n4\\tonly\\tonly\\tADV\\tB\\t_\\t5\\tadvmod\\t_\\t_\\n5\\tprevious\\tprevious\\tADJ\\tA\\tDegree=Pos\\t6\\tamod\\t_\\t_\\n6\\tqualifications\\tqualification\\tNOUN\\tS\\tNumber=Plur\\t15\\tnsubj:pass\\t_\\t_\\n7\\tand\\tand\\tCCONJ\\tCC\\t_\\t10\\tcc\\t_\\t_\\n8\\t/\\t/\\tPUNCT\\tFF\\t_\\t10\\tpunct\\t_\\t_\\n9\\tor\\tor\\tCCONJ\\tCC\\t_\\t10\\tcc\\t_\\t_\\n10\\tknowledge\\tknowledge\\tNOUN\\tS\\tNumber=Sing\\t6\\tconj\\t_\\t_\\n11\\tof\\tof\\tADP\\tE\\t_\\t13\\tcase\\t_\\t_\\n12\\teach\\teach\\tDET\\tDI\\tNumber=Sing|PronType=Ind\\t13\\tdet\\t_\\t_\\n13\\tapplicant\\tapplicant\\tNOUN\\tS\\tNumber=Sing\\t10\\tnmod\\t_\\t_\\n14\\tis\\tbe\\tAUX\\tVA\\tMood=Ind|Number=Sing|Person=3|Tense=Pres|VerbForm=Fin\\t15\\taux:pass\\t_\\t_\\n15\\ttaken\\ttake\\tVERB\\tV\\tTense=Past|VerbForm=Part\\t0\\troot\\t_\\t_\\n16\\tinto\\tinto\\tADP\\tE\\t_\\t17\\tcase\\t_\\t_\\n17\\tconsideration\\tconsideration\\tNOUN\\tS\\tNumber=Sing\\t15\\tobl\\t_\\tSpaceAfter=No\\n18\\t.\\t.\\tPUNCT\\tFS\\t_\\t15\\tpunct\\t_\\t_\\n\\n'"
      ]
     },
     "execution_count": 22,
     "metadata": {},
     "output_type": "execute_result"
    }
   ],
   "source": [
    "conllu"
   ]
  },
  {
   "cell_type": "code",
   "execution_count": null,
   "metadata": {
    "collapsed": true
   },
   "outputs": [],
   "source": []
  }
 ],
 "metadata": {
  "kernelspec": {
   "display_name": "Python 3",
   "language": "python",
   "name": "python3"
  },
  "language_info": {
   "codemirror_mode": {
    "name": "ipython",
    "version": 3
   },
   "file_extension": ".py",
   "mimetype": "text/x-python",
   "name": "python",
   "nbconvert_exporter": "python",
   "pygments_lexer": "ipython3",
   "version": "3.6.3"
  }
 },
 "nbformat": 4,
 "nbformat_minor": 2
}
